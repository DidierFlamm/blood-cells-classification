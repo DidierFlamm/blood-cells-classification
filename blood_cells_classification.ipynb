{
 "cells": [
  {
   "cell_type": "markdown",
   "metadata": {
    "id": "HcvvF8i8SwHn"
   },
   "source": [
    "Ce projet s'inscrit dans le cadre de la formation Data Scientist dispensée par Mines Paris PSL en partenariat avec DataScientest.com.\n",
    "\n",
    "L’objectif est de classifier des images microscopiques de différents types de cellules sanguines à l’aide d'algorithmes de Computer Vision."
   ]
  },
  {
   "cell_type": "markdown",
   "metadata": {},
   "source": [
    "# Préambule"
   ]
  },
  {
   "cell_type": "markdown",
   "metadata": {},
   "source": [
    "## Import des librairies"
   ]
  },
  {
   "cell_type": "code",
   "execution_count": 1,
   "metadata": {
    "lines_to_next_cell": 2
   },
   "outputs": [
    {
     "name": "stderr",
     "output_type": "stream",
     "text": [
      "2025-06-08 15:05:42.195402: E external/local_xla/xla/stream_executor/cuda/cuda_fft.cc:467] Unable to register cuFFT factory: Attempting to register factory for plugin cuFFT when one has already been registered\n",
      "WARNING: All log messages before absl::InitializeLog() is called are written to STDERR\n",
      "E0000 00:00:1749387942.273951   42036 cuda_dnn.cc:8579] Unable to register cuDNN factory: Attempting to register factory for plugin cuDNN when one has already been registered\n",
      "E0000 00:00:1749387942.297291   42036 cuda_blas.cc:1407] Unable to register cuBLAS factory: Attempting to register factory for plugin cuBLAS when one has already been registered\n",
      "W0000 00:00:1749387942.398305   42036 computation_placer.cc:177] computation placer already registered. Please check linkage and avoid linking the same target more than once.\n",
      "W0000 00:00:1749387942.398324   42036 computation_placer.cc:177] computation placer already registered. Please check linkage and avoid linking the same target more than once.\n",
      "W0000 00:00:1749387942.398326   42036 computation_placer.cc:177] computation placer already registered. Please check linkage and avoid linking the same target more than once.\n",
      "W0000 00:00:1749387942.398327   42036 computation_placer.cc:177] computation placer already registered. Please check linkage and avoid linking the same target more than once.\n"
     ]
    },
    {
     "name": "stdout",
     "output_type": "stream",
     "text": [
      "Num GPUs Available:  1\n"
     ]
    }
   ],
   "source": [
    "from typing import Tuple, List, Dict, Optional, Union, TypeVar\n",
    "import time\n",
    "from datetime import datetime\n",
    "import os\n",
    "\n",
    "os.environ[\"TF_CPP_MIN_LOG_LEVEL\"] = \"1\"  # Masque info(1), warning(2), error(3) de tensorflow\n",
    "\n",
    "\n",
    "from IPython.display import display, HTML\n",
    "import random\n",
    "from collections import defaultdict, Counter\n",
    "import inspect\n",
    "from pathlib import Path\n",
    "import matplotlib.pyplot as plt\n",
    "\n",
    "%matplotlib inline\n",
    "import seaborn as sns\n",
    "import squarify\n",
    "import itertools\n",
    "import joblib\n",
    "\n",
    "# import cv2\n",
    "from PIL import Image\n",
    "import numpy as np\n",
    "import pandas as pd\n",
    "import hashlib\n",
    "from tqdm import tqdm\n",
    "from scipy.stats import randint\n",
    "from scipy.ndimage import uniform_filter, gaussian_filter1d\n",
    "\n",
    "# Machine Learning\n",
    "from sklearn import ensemble\n",
    "from sklearn.base import clone\n",
    "from sklearn.svm import SVC\n",
    "from sklearn.neighbors import KNeighborsClassifier\n",
    "from sklearn.model_selection import (\n",
    "    train_test_split,\n",
    "    StratifiedKFold,\n",
    "    GridSearchCV,\n",
    "    RandomizedSearchCV,\n",
    ")\n",
    "from sklearn.metrics import (\n",
    "    accuracy_score,\n",
    "    balanced_accuracy_score,\n",
    "    classification_report,\n",
    "    log_loss,\n",
    ")\n",
    "from sklearn.preprocessing import LabelEncoder, StandardScaler\n",
    "from sklearn.utils.class_weight import compute_sample_weight\n",
    "from sklearn.calibration import CalibratedClassifierCV\n",
    "import xgboost as xgb\n",
    "from xgboost import XGBClassifier\n",
    "from catboost import CatBoostClassifier\n",
    "from lightgbm import LGBMClassifier\n",
    "\n",
    "\n",
    "# Deep Learning\n",
    "import tensorflow as tf\n",
    "from tensorflow.keras.applications.vgg16 import VGG16\n",
    "from tensorflow.keras.layers import Dense, Dropout, Flatten, GlobalAveragePooling2D\n",
    "from tensorflow.keras.optimizers import Adam\n",
    "from tensorflow.keras.models import Model, Sequential\n",
    "from tensorflow.keras.callbacks import ReduceLROnPlateau, EarlyStopping\n",
    "from tensorflow.keras.preprocessing.image import ImageDataGenerator\n",
    "from tensorflow.keras.applications.vgg16 import preprocess_input\n",
    "\n",
    "print(\"Num GPUs Available: \", len(tf.config.list_physical_devices(\"GPU\")))\n",
    "\n",
    "pd.set_option(\n",
    "    \"future.no_silent_downcasting\", True\n",
    ")  # masque warning de pandas (future deprecation)\n"
   ]
  },
  {
   "cell_type": "markdown",
   "metadata": {
    "id": "UayeOUH0oA6-"
   },
   "source": [
    "## Définition des paramètres"
   ]
  },
  {
   "cell_type": "code",
   "execution_count": null,
   "metadata": {
    "colab": {
     "base_uri": "https://localhost:8080/"
    },
    "id": "5droanoTmm_-",
    "lines_to_next_cell": 2,
    "outputId": "cbe5f4ba-bc28-495b-cfc6-1dfb69882bd1"
   },
   "outputs": [
    {
     "name": "stdout",
     "output_type": "stream",
     "text": [
      "Total number of logical cores: 16\n",
      "Number of logical cores used for parallel processing: 12\n"
     ]
    }
   ],
   "source": [
    "# contrôler la verbosité\n",
    "verbose = True\n",
    "\n",
    "# Number of cores used\n",
    "n_cores = os.cpu_count()\n",
    "\n",
    "print(\"Total number of logical cores:\", n_cores)\n",
    "n_jobs = (\n",
    "    n_cores * 3 // 4  # type: ignore\n",
    ")  # default = n_cores//2 to use half of logical cores #type:ignore\n",
    "# increase for higher performance (you can try n_cores*3//4 or more)\n",
    "# decrease if kernel dies (you can try n_cores//4 or less)\n",
    "# minimum is 1, maximum = -1 (all cores)\n",
    "\n",
    "print(\n",
    "    \"Number of logical cores used for parallel processing:\",\n",
    "    n_cores if n_jobs == -1 else n_jobs,\n",
    ")\n",
    "\n",
    "# Random state\n",
    "random_state = 42  # default = 42\n",
    "# use any int or None for no seed\n",
    "\n",
    "# contrôler le chargement et la sauvegarde des datasets\n",
    "LOAD_RAW = True  # default = True\n",
    "SAVE_RAW_SPLITTED = False  # default = False\n",
    "SAVE_RES = False  # default = False\n",
    "SAVE_SUB = False  # default = False\n",
    "LOAD_RES = False  # default = False\n",
    "\n",
    "SAMPLE_SIZE = 2500  # default = 2500 : sub-dataset used for debugging\n",
    "PERF_ML = False  # default = True\n",
    "TUNE_RF = False  # default = True\n",
    "TUNE_XGB = False  # default = True\n",
    "TUNE_LGBM = True  # default = True\n",
    "TUNE_CAT = False  # default = True\n",
    "\n",
    "CALIB_RF = False  # default = True\n",
    "CALIB_XGB = False  # default = True\n",
    "FINAL_EVAL = False  # default = True\n",
    "\n",
    "\n",
    "# Taille des images après pre-process\n",
    "img_height = 100  # les images d'origine étant presque carrées,\n",
    "img_width = 100\n",
    "# le format 100x100 offre en général un bon rapport performance/rapidité\n",
    "\n",
    "target_size = (img_height, img_width)\n",
    "\n",
    "# Ration Train / Valid / Test\n",
    "VALID_SPLIT = 0.15\n",
    "TEST_SPLIT = 0.15\n",
    "\n",
    "TUNE_DS = \"SAM\"  # 'RES', 'BIN' or 'SAM' #default = RES\n",
    "\n",
    "# Chemin d'accès aux images originales (brutes)\n",
    "PATH_RAW = \"/home/did/Windows/Downloads/raw\"\n",
    "\n",
    "PATH_TRAIN = \"/home/did/Windows/Downloads/raw_splitted/train\"\n",
    "PATH_VALID = \"/home/did/Windows/Downloads/raw_splitted/valid\"\n",
    "PATH_TEST = \"/home/did/Windows/Downloads/raw_splitted/test\"\n",
    "\n",
    "# Stockage des images après resize, drop duplicates et split\n",
    "PATH_RES = \"/home/did/Windows/Downloads/resized\"\n",
    "\n",
    "# Stockage du sub dataset\n",
    "PATH_SUB = \"/home/did/Windows/Downloads/sub_resized\"\n",
    "\n",
    "# Stockage des images après Binarization\n",
    "PATH_BIN = \"/home/did/Windows/Downloads/binarized\"\n",
    "\n",
    "# Stockage des modèles (ou poids) entraînés\n",
    "PATH_JOBLIB = \"/home/did/Windows/Downloads/joblib\"\n",
    "os.makedirs(PATH_JOBLIB, exist_ok=True)\n",
    "\n",
    "# Stockage des modèles (ou poids) entraînés\n",
    "PATH_KERAS = \"/home/did/Windows/Downloads/keras\"\n",
    "os.makedirs(PATH_KERAS, exist_ok=True)\n"
   ]
  },
  {
   "cell_type": "markdown",
   "metadata": {
    "lines_to_next_cell": 2
   },
   "source": [
    "## Définition des fonctions et Classes"
   ]
  },
  {
   "cell_type": "code",
   "execution_count": null,
   "metadata": {
    "id": "KW5jq0zdrxB9"
   },
   "outputs": [],
   "source": [
    "def data_viz(path: Optional[Union[str, Path]] = None, X=None, y=None) -> Dict[str, int]:\n",
    "    \"\"\"\n",
    "    Affiche le nombre et la répartition des images par classe à partir d'un répertoire ou de deux tableaux (X et y).\n",
    "\n",
    "    Fonction très rapide car elle parcourt les dossiers avec la libraire pathlib sans charger les images\n",
    "\n",
    "    Parameters\n",
    "    ----------\n",
    "    path : str, optional\n",
    "        Chemin vers le dossier contenant les sous-dossiers (classes).\n",
    "    X : array-like, optional\n",
    "        Données d'image (non utilisées, seulement requis pour cohérence avec y).\n",
    "    y : array-like, optional\n",
    "        Étiquettes associées aux données X.\n",
    "\n",
    "    Returns\n",
    "    -------\n",
    "    Dict[str, int]\n",
    "        Dictionnaire des classes et de leur nombre d'images.\n",
    "    \"\"\"\n",
    "\n",
    "    start_time = time.perf_counter()\n",
    "\n",
    "    if path is not None and X is not None and y is not None:\n",
    "        raise ValueError(\"Can't have both path and (X and y)\")\n",
    "\n",
    "    # computing image class distribution\n",
    "    if path is not None:\n",
    "        path = Path(path)  # Conversion explicite de path en Path\n",
    "        counts = {}\n",
    "        for subdir in path.iterdir():\n",
    "            if subdir.is_dir():\n",
    "                counts[subdir.name] = len(list(subdir.glob(\"*\")))\n",
    "    elif X is not None and y is not None:\n",
    "        counts = Counter(y)\n",
    "    else:\n",
    "        raise ValueError(\"Either path or both X and y must be provided\")\n",
    "\n",
    "    print(\n",
    "        f\"ℹ️ {sum(counts.values())} images found in {int((time.perf_counter()-start_time)*1000)}ms, belonging to\",\n",
    "        len(counts.keys()),\n",
    "        \"classes:\",\n",
    "        list(counts.keys()),\n",
    "    )\n",
    "\n",
    "    # création d'une fig 4 axs\n",
    "\n",
    "    fig, axs = plt.subplots(2, 2, figsize=(12, 10))\n",
    "\n",
    "    counts = dict(sorted(counts.items()))  # tri alphabétique des clés\n",
    "    labels = list(counts.keys())\n",
    "    values = list(counts.values())\n",
    "    colors = [prop[\"color\"] for prop in plt.rcParams[\"axes.prop_cycle\"]][: len(counts)]\n",
    "    colors_map = (\n",
    "        {}\n",
    "    )  # pour conserver l'association classe / couleur pour les graphs avec un tri différent (par valeurs)\n",
    "    for i, label in enumerate(counts.keys()):\n",
    "        colors_map[label] = colors[i]\n",
    "\n",
    "    # bar graph\n",
    "\n",
    "    bars = axs[0, 0].bar(x=labels, height=values, color=colors)\n",
    "    axs[0, 0].tick_params(axis=\"x\", rotation=50)\n",
    "    for tick in axs[0, 0].get_xticklabels():\n",
    "        tick.set_ha(\"right\")  # alignement à droite des labels tournés\n",
    "    axs[0, 0].set_title(\"Image Class Distribution – Bar Chart\")\n",
    "    axs[0, 0].spines[\"top\"].set_visible(False)\n",
    "    axs[0, 0].spines[\"right\"].set_visible(False)\n",
    "\n",
    "    # Ajouter les pourcentages au-dessus de chaque barre\n",
    "    total = sum(values)\n",
    "    proportions = [100 * value / total for value in values]\n",
    "    offset = 0.01 * max(\n",
    "        values\n",
    "    )  # léger offset pour que le % ne soit pas trop proche de la barre\n",
    "    for bar, prop in zip(bars, proportions):\n",
    "        height = bar.get_height() + offset\n",
    "        axs[0, 0].text(\n",
    "            bar.get_x() + bar.get_width() / 2,\n",
    "            height,\n",
    "            f\"{prop:.1f} %\",\n",
    "            ha=\"center\",\n",
    "            va=\"bottom\",\n",
    "            fontsize=10,\n",
    "        )\n",
    "\n",
    "    # pie graph\n",
    "\n",
    "    def pie_autopct(values):  # closure function\n",
    "        total = sum(values)\n",
    "\n",
    "        def my_autopct(pct):\n",
    "            val = int(round(pct * total / 100.0))\n",
    "            # return f'{pct:.1f}% ({val})'    # format pct% (val)\n",
    "            return val  # format val\n",
    "\n",
    "        return my_autopct\n",
    "\n",
    "    axs[0, 1].pie(\n",
    "        x=values,\n",
    "        labels=labels,\n",
    "        autopct=pie_autopct(values),\n",
    "        pctdistance=0.7,\n",
    "        labeldistance=1.2,\n",
    "    )\n",
    "    axs[0, 1].set_title(\"Image Class Distribution - Pie Chart\")\n",
    "\n",
    "    # bar graph horizontal et par ordre croissant\n",
    "\n",
    "    counts_h = dict(sorted(counts.items(), key=lambda item: item[1], reverse=True))\n",
    "    labels_h = list(counts_h.keys())\n",
    "    values_h = list(counts_h.values())\n",
    "    colors_h = [\n",
    "        colors_map[label] for label in labels_h\n",
    "    ]  # on utilise le mappage des couleurs pour conserver l'association classe/couleur\n",
    "\n",
    "    bars_h = axs[1, 0].barh(y=labels_h, width=values_h, color=colors_h)\n",
    "    axs[1, 0].set_title(\"Image Class Distribution – Barh Chart\")\n",
    "    axs[1, 0].spines[\"top\"].set_visible(False)\n",
    "    axs[1, 0].spines[\"right\"].set_visible(False)\n",
    "\n",
    "    # Ajouter les pourcentages (et valeurs) à droite de chaque barre\n",
    "    total = sum(values_h)\n",
    "    proportions_h = [100 * value / total for value in values_h]\n",
    "    offset = max(values_h) * 0.01\n",
    "    for bar, prop, val in zip(bars_h, proportions_h, values_h):\n",
    "        width = bar.get_width()\n",
    "        axs[1, 0].text(\n",
    "            width + offset,  # un tout petit peu à droite de la barre\n",
    "            bar.get_y() + bar.get_height() / 2,\n",
    "            f\"{prop:.1f} % ({val})\",\n",
    "            va=\"center\",\n",
    "            ha=\"left\",\n",
    "            fontsize=10,\n",
    "        )\n",
    "\n",
    "    # treemap\n",
    "\n",
    "    squarify.plot(sizes=values, label=labels, color=colors, alpha=0.8, ax=axs[1, 1])\n",
    "    axs[1, 1].set_title(\"Image Class Distribution - Treemap\")\n",
    "    axs[1, 1].axis(\"off\")\n",
    "\n",
    "    plt.tight_layout()\n",
    "    plt.show()\n",
    "\n",
    "    # affichage du dictionnaire en HTML colorisé si l'environnement le supporte (IPython)\n",
    "    if \"get_ipython\" in globals():\n",
    "        print_colored_table(counts, colors_map)\n",
    "    else:\n",
    "        print(\"HTML table needs IPython to be printed\")\n",
    "\n",
    "    return counts\n",
    "\n",
    "\n",
    "def print_colored_table(counts, colors_map) -> None:\n",
    "    total = sum(counts.values())\n",
    "    rows = []\n",
    "    for label, value in counts.items():\n",
    "        color = colors_map.get(label, \"#000000\")\n",
    "        percent = 100 * value / total\n",
    "        rows.append(\n",
    "            f\"<tr>\"\n",
    "            f\"<td style='color:{color}; text-align:left; padding-right: 10px;'>{label}</td>\"\n",
    "            f\"<td style='color:black; text-align:left; padding-right: 10px;'>{value}</td>\"\n",
    "            f\"<td style='color:black; text-align:left;'>{percent:.1f} %</td>\"\n",
    "            f\"</tr>\"\n",
    "        )\n",
    "\n",
    "    # Ajout de la ligne total\n",
    "    rows.append(\n",
    "        f\"<tr style='font-weight:bold;'>\"\n",
    "        f\"<td style='text-align:left; padding-right: 10px;'>Total</td>\"\n",
    "        f\"<td style='text-align:left; padding-right: 10px;'>{total}</td>\"\n",
    "        f\"<td style='text-align:left;'>100.0 %</td>\"\n",
    "        f\"</tr>\"\n",
    "    )\n",
    "\n",
    "    html = f\"\"\"\n",
    "    <table style=\"border-collapse: collapse; width: 300px; font-family: Arial, sans-serif;\">\n",
    "        <thead>\n",
    "            <tr>\n",
    "                <th style='text-align:left; border-bottom: 1px solid #ccc;'>Class</th>\n",
    "                <th style='text-align:left; border-bottom: 1px solid #ccc;'>Count</th>\n",
    "                <th style='text-align:left; border-bottom: 1px solid #ccc;'>%</th>\n",
    "            </tr>\n",
    "        </thead>\n",
    "        <tbody>\n",
    "            {''.join(rows)}\n",
    "        </tbody>\n",
    "    </table>\n",
    "    \"\"\"\n",
    "    display(HTML(html))\n"
   ]
  },
  {
   "cell_type": "code",
   "execution_count": null,
   "metadata": {},
   "outputs": [],
   "source": [
    "def generate_filenames(y: List[str]) -> List[str]:\n",
    "    \"\"\"\n",
    "    Génère des noms d'images à partir d'une liste de labels,\n",
    "    au format label_XXX.png avec un padding dynamique.\n",
    "    Utilisé par save_images si la liste des noms d'images n'est pas fournie.\n",
    "    \"\"\"\n",
    "    counts = Counter(y)\n",
    "    max_count = max(counts.values(), default=1)\n",
    "    padding = len(str(max_count))  # calcule le nombre de chiffres nécessaires\n",
    "\n",
    "    dico = {}\n",
    "    names = []\n",
    "    for label in y:\n",
    "        dico[label] = dico.get(label, 0) + 1\n",
    "        names.append(f\"{label}_{dico[label]:0{padding}}.png\")  # 0-padding dynamique\n",
    "    return names\n"
   ]
  },
  {
   "cell_type": "code",
   "execution_count": null,
   "metadata": {},
   "outputs": [],
   "source": [
    "def save_images(\n",
    "    output_dir: str,\n",
    "    X: List[np.ndarray],\n",
    "    y: List[str],\n",
    "    names: List[str] | None = None,\n",
    "    target_size: Tuple[int, int] | None = None,\n",
    "    overwrite: bool = False,\n",
    "    verbose=True,\n",
    ") -> Dict[str, int]:\n",
    "    \"\"\"\n",
    "    Save a list of images to disk, sorted into subfolders by their labels.\n",
    "    Uses 1-bit per pixel encoding if the image is binary (0/1 or 0/255)\n",
    "\n",
    "    Parameters:\n",
    "        output_dir (str): Directory to save images.\n",
    "        X (List[np.ndarray]): List of images, each as a numpy array of type uint8 or float,\n",
    "                              with values between 0 and 255 or normalized between 0 and 1.\n",
    "                              Supported formats are:\n",
    "                                 - Grayscale images as 2D arrays (height x width)\n",
    "                                 - Grayscale images as 3D arrays (height x width x 1)\n",
    "                                 - RGB images as 3D arrays (height x width x 3 channels)\n",
    "                                 - RGBA images as 3D arrays (height x width x 4 channels)\n",
    "        y (List[str]): Corresponding labels (used to create subfolders).\n",
    "        names (List[str], optional): List of filenames for saving the images.\n",
    "                                     If None, filenames are auto-generated based on labels and a unique index,\n",
    "                                     using the function `generate_filenames(y)`.\n",
    "                                     This ensures each saved file has a distinct, descriptive name.\n",
    "        target_size (tuple, optional): Resize images to this size (width, height) before saving.\n",
    "        overwrite (bool): Whether to overwrite existing files.\n",
    "        verbose (bool): Whether to print progress messages.\n",
    "\n",
    "    Returns:\n",
    "        dict: Summary of operation with keys:\n",
    "        - \"written\": int, number of images saved.\n",
    "        - \"skipped\": int, number of images skipped because file exists and overwrite=False.\n",
    "        - \"total\": int, total number of images processed.\n",
    "    \"\"\"\n",
    "\n",
    "    start_time = time.perf_counter()\n",
    "\n",
    "    warnings_count = 0\n",
    "\n",
    "    # Gestion des ValueError\n",
    "    if names is not None and len(names) != len(X):\n",
    "        raise ValueError(\"Les listes 'X' et 'names' doivent avoir la même longueur\")\n",
    "    if len(y) != len(X):\n",
    "        raise ValueError(\"Les listes 'X' et 'y' doivent avoir la même longueur\")\n",
    "\n",
    "    # if any(img.min() < 0 for img in X):                           #on ne peut pas tester X.min()<0 car X n'est pas obligatoirement un array (cas d'un batch d'images de tailles différentes...)\n",
    "    #    raise ValueError(\"Pixel values contain negatives.\")       #test enlevé car très coûteux, l'erreur sera levé par PIL qu moment du pil_img = Image.fromarray((img ...\n",
    "\n",
    "    # Création de la liste names si elle n'est pas fournie\n",
    "    if names is None:\n",
    "        names = generate_filenames(y)\n",
    "\n",
    "    # Create subfolders by label\n",
    "    for label in set(y):\n",
    "        subfolder = os.path.join(output_dir, label)\n",
    "        try:\n",
    "            os.makedirs(subfolder, exist_ok=True)\n",
    "        except OSError as e:\n",
    "            raise RuntimeError(f\"Impossible de créer le dossier '{subfolder}': {e}\")\n",
    "\n",
    "    # Sauvegarde des images\n",
    "    total = len(X)\n",
    "    for idx, (img, label) in enumerate(\n",
    "        tqdm(zip(X, y), total=total, desc=f\"Writing {total} images\")\n",
    "    ):\n",
    "        filename = names[idx]\n",
    "        image_path = os.path.join(output_dir, label, filename)\n",
    "\n",
    "        if os.path.exists(image_path) and not overwrite:\n",
    "            warnings_count += 1\n",
    "            continue\n",
    "\n",
    "        if img.ndim not in [2, 3]:\n",
    "            raise ValueError(\n",
    "                f\"Invalid image at index {idx}\"\n",
    "                f\"(label: '{label}', filename: '{filename}'):\"\n",
    "                f\"expected 2D (grayscale) or 3D (RGB/RGBA), got shape {img.shape}\"\n",
    "            )\n",
    "\n",
    "        # convert to uint8 between 0 and 255\n",
    "        if img.max() <= 1.0:\n",
    "            img = (img * 255).astype(np.uint8)\n",
    "        else:\n",
    "            img = img.astype(np.uint8)\n",
    "\n",
    "        # evaluate binarity\n",
    "        unique_vals = np.unique(img)\n",
    "        is_binary = set(unique_vals).issubset({0, 255})\n",
    "\n",
    "        # convert to PIL Image\n",
    "        pil_img = Image.fromarray(img)\n",
    "\n",
    "        # Resize if needed\n",
    "        if target_size is not None:\n",
    "            pil_img = pil_img.resize(target_size, resample=Image.BILINEAR)  # type: ignore\n",
    "\n",
    "        if is_binary:  # Save binary image with 1-bit PNG\n",
    "            base, _ = os.path.splitext(image_path)  # drop original extension\n",
    "            image_path = base + \".png\"  # use .png instead\n",
    "            if (\n",
    "                os.path.exists(image_path) and not overwrite\n",
    "            ):  # existence test with new extension.png\n",
    "                warnings_count += 1\n",
    "                continue\n",
    "            else:\n",
    "                pil_img.convert(\"1\").save(image_path)\n",
    "        else:\n",
    "            # Save non-binary image with PIL directly\n",
    "            pil_img.save(\n",
    "                image_path\n",
    "            )  # existence test already passed at the beginning of loop\n",
    "\n",
    "    if warnings_count > 0 and verbose:\n",
    "        print(f\"⚠️ {warnings_count} files already existed and were not overwritten.\")\n",
    "\n",
    "    if verbose:\n",
    "        print(\n",
    "            f\"✅ {len(X) - warnings_count} images written in {int(time.perf_counter()-start_time)}s in {output_dir}\\n\"\n",
    "        )\n",
    "\n",
    "    return {\n",
    "        \"written\": len(X) - warnings_count,\n",
    "        \"skipped\": warnings_count,\n",
    "        \"total\": len(X),\n",
    "    }\n"
   ]
  },
  {
   "cell_type": "code",
   "execution_count": null,
   "metadata": {},
   "outputs": [],
   "source": [
    "T = TypeVar(\"T\")\n",
    "\n",
    "\n",
    "def process_duplicates(\n",
    "    X: List[T],\n",
    "    y: List[str] | None = None,\n",
    "    names: List[str] | None = None,\n",
    "    drop_duplicates=False,\n",
    "    verbose=True,\n",
    "    plot_duplicates: bool = True,\n",
    ") -> Tuple[List[T], List[str], List[str], List[Tuple[int, int]]]:\n",
    "    \"\"\"\n",
    "    Detect duplicate images based on hash comparison and returns the filtered data along with the list of duplicate pairs.\n",
    "    If drop_duplicates = True, remove the second occurrence of duplicate images.\n",
    "\n",
    "    Returns:\n",
    "        Tuple of filtered (X, y, names, duplicates), keeping only unique images.\n",
    "        Logs duplicated image pairs, with a warning for inter-class duplicates.\n",
    "    \"\"\"\n",
    "\n",
    "    if not verbose:\n",
    "        plot_duplicates = False  # on désactive plot_duplicates si verbose = False\n",
    "\n",
    "    start_time = time.perf_counter()\n",
    "\n",
    "    # Création d'une classe unique si elle n'est pas fournie\n",
    "    if y is None:\n",
    "        y = [\"unknown\" for _ in X]\n",
    "\n",
    "    # Création de la liste names si elle n'est pas fournie\n",
    "    if names is None:\n",
    "        names = generate_filenames(y)\n",
    "\n",
    "    if not drop_duplicates:\n",
    "        X = X.copy()\n",
    "        y = y.copy()\n",
    "        names = names.copy()\n",
    "\n",
    "    seen_hashes = {}\n",
    "    duplicates = []\n",
    "\n",
    "    if drop_duplicates:\n",
    "        desc = \"🗑️ Removing duplicates\"\n",
    "    else:\n",
    "        desc = \"🔍 Detecting duplicates (no removal)\"\n",
    "\n",
    "    for i, img in enumerate(tqdm(X, desc=desc)):\n",
    "        # convert to ndarray if not already (optionnel si déjà fait avant)\n",
    "        img = np.array(img)\n",
    "        h = hashlib.sha256(\n",
    "            img.tobytes()\n",
    "        ).hexdigest()  # Créé un hash unique pour chaque image qui permet de détecter les doublons bcp plus rapidement: complexité O(n) au lieu de O(n2)\n",
    "        if h not in seen_hashes:  # si le hash de l'image i est nouveau\n",
    "            seen_hashes[h] = i  # on mémorise son indice i\n",
    "        else:\n",
    "            first_idx = seen_hashes[h]  # first_idx = indice de l'image existante\n",
    "            duplicates.append((first_idx, i))  # l'image i est un doublon de first_idx\n",
    "\n",
    "    if verbose:\n",
    "        if duplicates:\n",
    "            print(\n",
    "                f\"\\nℹ️ {len(duplicates)} duplicates detected in {int(time.perf_counter()-start_time)}s\\n\"\n",
    "            )\n",
    "            # affichage des doublons après la boucle\n",
    "            for n, (first_idx, i) in enumerate(duplicates):\n",
    "                print(\n",
    "                    f\"{n+1}. {y[first_idx]} {names[first_idx]} has a duplicate: {y[i]} {names[i]}\"\n",
    "                )\n",
    "                if y[first_idx] != y[i]:\n",
    "                    print(\n",
    "                        f\"\\n\\t❗ Duplicates across classes: {y[first_idx]} ≠ {y[i]}\\n\"\n",
    "                    )\n",
    "                if plot_duplicates:\n",
    "                    plt.subplot(121)\n",
    "                    plt.imshow(X[first_idx])\n",
    "                    plt.title(y[first_idx] + \"\\n\" + names[first_idx])\n",
    "                    plt.axis(False)\n",
    "                    plt.subplot(122)\n",
    "                    plt.imshow(X[i])\n",
    "                    plt.title(y[i] + \"\\n\" + names[i])\n",
    "                    plt.axis(False)\n",
    "                    plt.show()\n",
    "        else:\n",
    "            print(\"\\n✅ No duplicates found.\")\n",
    "\n",
    "    # Extraction des images uniques\n",
    "    indices_to_keep = list(seen_hashes.values())\n",
    "    X = [X[i] for i in indices_to_keep]\n",
    "    y = [y[i] for i in indices_to_keep]\n",
    "    names = [names[i] for i in indices_to_keep]\n",
    "\n",
    "    if verbose:\n",
    "        inter_class_duplicates = sum(1 for p, i in duplicates if y[p] != y[i])\n",
    "        print(\n",
    "            f\"🔀 Duplicate summary: {len(duplicates)} total, {inter_class_duplicates} across classes.\\n\"\n",
    "        )\n",
    "        print(\"ℹ️\", len(X), \"unique images belonging to\", len(set(y)), \"classes.\\n\")\n",
    "\n",
    "    return X, y, names, duplicates\n"
   ]
  },
  {
   "cell_type": "code",
   "execution_count": null,
   "metadata": {},
   "outputs": [],
   "source": [
    "def load_images(\n",
    "    path: Path | str,\n",
    "    target_size: Optional[Tuple[int, int]] = None,\n",
    "    drop_duplicates: bool = False,\n",
    "    verbose: bool = True,\n",
    "    plot_duplicates: bool = True,\n",
    ") -> Tuple[List[np.ndarray], List[str], List[str]]:\n",
    "    \"\"\"\n",
    "    Load images from subfolders in `path`.\n",
    "    Returns lists of images (as numpy arrays), labels (folder names), and filenames.\n",
    "    \"\"\"\n",
    "    start_time = time.perf_counter()\n",
    "\n",
    "    X, y, names = [], [], []\n",
    "    path = Path(path)\n",
    "\n",
    "    # Load, convert to RGB, resize and convert to ndarray\n",
    "    class_folders = [p for p in path.iterdir() if p.is_dir()]\n",
    "\n",
    "    for class_path in tqdm(\n",
    "        class_folders, desc=f\"Loading images from {len(class_folders)} subfolders\"\n",
    "    ):\n",
    "        class_name = class_path.name\n",
    "        for file_path in class_path.iterdir():\n",
    "            try:\n",
    "                with Image.open(file_path) as img:\n",
    "                    img = img.convert(\"RGB\")\n",
    "                    if target_size is not None:\n",
    "                        img = img.resize(target_size, resample=Image.BILINEAR)  # type: ignore\n",
    "                    arr = np.array(img)\n",
    "\n",
    "                    X.append(arr)\n",
    "                    y.append(class_name)\n",
    "                    names.append(file_path.name)\n",
    "            except Exception as e:\n",
    "                if verbose:\n",
    "                    print(f\"❌ Skipped {file_path}: {e}\")\n",
    "\n",
    "    if verbose:\n",
    "        print(\n",
    "            f\"\\nℹ️ {len(y)} images loaded in {int(time.perf_counter()-start_time)}s, belonging to {len(set(y))} classes.\\n\"\n",
    "        )\n",
    "\n",
    "    # detect or remove duplicates according to drop_duplicates parameter\n",
    "    if drop_duplicates:\n",
    "        X, y, names, duplicates = process_duplicates(\n",
    "            X, y, names, drop_duplicates, verbose, plot_duplicates\n",
    "        )\n",
    "    else:\n",
    "        process_duplicates(\n",
    "            X, y, names, drop_duplicates, verbose, plot_duplicates\n",
    "        )  # process_duplicates doesn't remove duplicates from X,y,names and they are not affected to X,y,names\n",
    "\n",
    "    # compute shapes and counts per class\n",
    "    shapes = defaultdict(set)\n",
    "    for img, lbl in zip(X, y):\n",
    "        shapes[lbl].add(img.shape)\n",
    "\n",
    "    counts = Counter(y)\n",
    "    nunique = len(set().union(*shapes.values()))\n",
    "\n",
    "    if verbose:\n",
    "\n",
    "        print(\"Class distribution:\")\n",
    "        for lbl, shape_set in sorted(shapes.items()):\n",
    "            print(\n",
    "                f\"{lbl:<15} ➜ {counts[lbl]:>6} images, {len(shapes[lbl]):>2} shape(s): {sorted(shapes[lbl])}\"\n",
    "            )\n",
    "\n",
    "        # Ligne récapitulative\n",
    "        print(\n",
    "            (\"\\n⚠️ \" if nunique > 1 else \"\\n✅ \")\n",
    "            + f\"{'Total':<12} ➜ {len(y):>6} images, {nunique:>2} shape(s): {sorted(set().union(*shapes.values()))}\"\n",
    "        )\n",
    "\n",
    "    return X, y, names\n"
   ]
  },
  {
   "cell_type": "code",
   "execution_count": null,
   "metadata": {},
   "outputs": [],
   "source": [
    "def print_class_distribution(y: List[str], name: str = \"Set\") -> None:\n",
    "    counts = Counter(y)\n",
    "    total = sum(counts.values())\n",
    "    # Trouver la longueur max des noms de classes pour l'alignement\n",
    "    max_len = max(len(cls) for cls in counts)\n",
    "    print(f\"\\n=== {name} ===\\t{total} images\\n\")\n",
    "    print(f\"{'Classe':<{max_len}} {'Count':>7} {'%':>7}\")\n",
    "    print(\"-\" * (max_len + 16))  # longueur totale approximative du titre\n",
    "\n",
    "    for cls, count in sorted(counts.items()):\n",
    "        print(f\"{cls:<{max_len}} {count:7}  {count/total:6.2%}\")\n"
   ]
  },
  {
   "cell_type": "code",
   "execution_count": null,
   "metadata": {},
   "outputs": [],
   "source": [
    "def flatten_dataset(X):\n",
    "    \"\"\"Aplatie un ensemble d'images ou d'échantillons en 2D (n_samples, features).\n",
    "\n",
    "    Paramètres\n",
    "    ----------\n",
    "    X : array-like de forme (n_samples, ...)\n",
    "        Ensemble d'images ou de données multidimensionnelles.\n",
    "\n",
    "    Retourne\n",
    "    -------\n",
    "    X_flat : ndarray de forme (n_samples, n_features)\n",
    "        Données aplaties pour être utilisées dans des modèles de machine learning classiques.\n",
    "    \"\"\"\n",
    "    X = np.asarray(X)\n",
    "    return X.reshape(len(X), -1)\n"
   ]
  },
  {
   "cell_type": "code",
   "execution_count": null,
   "metadata": {},
   "outputs": [],
   "source": [
    "\"\"\"\n",
    "Les fonctions ci-dessous permettent de définir les seuils utilisés dans class ImagesBinarizer sans importer scikit-image\n",
    "Pour plus de précision, importer les fonctions de scikit-image au lieu de définir les fonctions ci-dessous :\n",
    "from skimage.filters import (\n",
    "    threshold_otsu,\n",
    "    threshold_niblack,\n",
    "    threshold_sauvola,\n",
    "    threshold_yen)\n",
    "\"\"\"\n",
    "\n",
    "\n",
    "def threshold_otsu(image, nbins=256):\n",
    "    hist, bin_edges = np.histogram(image.ravel(), bins=nbins)\n",
    "    hist = hist.astype(float)\n",
    "    hist /= hist.sum()\n",
    "\n",
    "    cumsum = np.cumsum(hist)\n",
    "    cummean = np.cumsum(hist * np.arange(nbins))\n",
    "    mean_total = cummean[-1]\n",
    "\n",
    "    numerator = (mean_total * cumsum - cummean) ** 2\n",
    "    denominator = cumsum * (1 - cumsum)\n",
    "    with np.errstate(divide=\"ignore\", invalid=\"ignore\"):\n",
    "        sigma_b_squared = numerator / denominator\n",
    "        sigma_b_squared[denominator == 0] = 0\n",
    "\n",
    "    idx = np.argmax(sigma_b_squared)\n",
    "    return bin_edges[idx]\n",
    "\n",
    "\n",
    "def threshold_yen(image, nbins=256):\n",
    "    image = image.ravel()\n",
    "    hist, bin_edges = np.histogram(image, bins=nbins, range=(0, 1))\n",
    "    hist = hist.astype(np.float64)\n",
    "    hist_norm = hist / hist.sum()\n",
    "\n",
    "    p1_sq = np.cumsum(hist_norm**2)\n",
    "    p2_sq = np.cumsum(hist_norm[::-1] ** 2)[::-1]\n",
    "\n",
    "    with np.errstate(divide=\"ignore\", invalid=\"ignore\"):\n",
    "        criterion = np.log(p1_sq[:-1] * p2_sq[1:])\n",
    "    threshold_idx = np.argmax(criterion)\n",
    "\n",
    "    t = (bin_edges[threshold_idx] + bin_edges[threshold_idx + 1]) / 2\n",
    "    return t\n",
    "\n",
    "\n",
    "def threshold_niblack(image, window_size=15, k=0.2):\n",
    "    image = image.astype(float)\n",
    "    mean = uniform_filter(image, window_size)\n",
    "    mean_sq = uniform_filter(image**2, window_size)\n",
    "    std = np.sqrt(mean_sq - mean**2)\n",
    "    return mean + k * std\n",
    "\n",
    "\n",
    "def threshold_sauvola(image, window_size=15, k=0.2, r=128):\n",
    "    image = image.astype(float)\n",
    "    mean = uniform_filter(image, window_size)\n",
    "    mean_sq = uniform_filter(image**2, window_size)\n",
    "    std = np.sqrt(mean_sq - mean**2)\n",
    "    return mean * (1 + k * ((std / r) - 1))\n"
   ]
  },
  {
   "cell_type": "code",
   "execution_count": null,
   "metadata": {},
   "outputs": [],
   "source": [
    "class ImagesBinarizer:\n",
    "    \"\"\"\n",
    "    Binarizes image datasets using a fixed or computed threshold.\n",
    "\n",
    "    Methods:\n",
    "        fit(X):                     Compute global Otsu and Yen thresholds.\n",
    "        transform(X):               Apply binarization using the selected threshold.\n",
    "        fit_transform(X):           Fit then transform.\n",
    "        ########################get_thresholds():           Returns Otsu, Niblack, Sauvola and Yen thresholds.\n",
    "        plot_threshold_analysis(X): Plot intensity distribution with threshold lines.\n",
    "        show_samples(X, n_samples): Plot random binarized images.\n",
    "        to_grayscale(X):            Convert a batch of images into grayscale images.\n",
    "\n",
    "    Supports RGB, grayscale (2D/3D), and flattened (1D) images.\n",
    "    \"\"\"\n",
    "\n",
    "    def __init__(self, threshold: float | str = 0.5):\n",
    "        \"\"\"\n",
    "        Parameters:\n",
    "            threshold: str or float\n",
    "                'otsu', 'yen', 'niblack', 'sauvola' or float value for fixed threshold.\n",
    "        \"\"\"\n",
    "\n",
    "        self.threshold_param = threshold\n",
    "        self.otsu_ = None\n",
    "        self.yen_ = None\n",
    "        self.threshold_ = None\n",
    "\n",
    "    def to_grayscale(self, X) -> np.ndarray:\n",
    "        \"\"\"\n",
    "        Convert a batch of images (RGB, grayscale 2D/3D, or flattened 1D)\n",
    "        into grayscale images:\n",
    "          - flattened 1D images if input images are flattened,\n",
    "          - 2D grayscale images otherwise.\n",
    "        \"\"\"\n",
    "        X = np.asarray(X)\n",
    "\n",
    "        if X.ndim == 2:  # batch of flatten 1D images (n_samples, pixels)\n",
    "            return X\n",
    "\n",
    "        elif X.ndim == 3:\n",
    "            if (\n",
    "                X.shape[-1] == 1\n",
    "            ):  # batch of flattened images with a trailing 1 channel dim (n_samples, pixels, 1)\n",
    "                return X.squeeze(axis=-1)\n",
    "            else:\n",
    "                return X  # batch of 2D grayscale images (n_samples, H, W)\n",
    "\n",
    "        elif X.ndim == 4:\n",
    "            if (\n",
    "                X.shape[-1] == 1\n",
    "            ):  # batch of 3D grayscale images (n_samples, height, width, 1) → flatten last dim\n",
    "                return X.squeeze(axis=-1)\n",
    "            elif X.shape[-1] == 3:  # batch of RGB images, convert each to grayscale 2D\n",
    "                gray_images = [\n",
    "                    0.2989 * img[..., 0] + 0.5870 * img[..., 1] + 0.1140 * img[..., 2]\n",
    "                    for img in X\n",
    "                ]  # 0.2989 * R + 0.5870 * G + 0.1140 * B are the real Rec. 601 luminance weights used by skimage.color.rgb2gray()\n",
    "                return np.array(\n",
    "                    gray_images\n",
    "                )  # human eyes are more sensitive to green, then to red, and finally to blue.\n",
    "            else:\n",
    "                raise ValueError(f\"Unexpected image shape: {X.shape[-1]}\")\n",
    "\n",
    "        else:\n",
    "            raise ValueError(f\"Unexpected input array dimensions: {X.ndim}\")\n",
    "\n",
    "    def fit(self, X, y=None) -> \"ImagesBinarizer\":\n",
    "        \"\"\"\n",
    "        Compute global Otsu and Yen thresholds for the training set\n",
    "        and estimate global-equivalent Niblack and Sauvola thresholds\n",
    "        by computing the median of local thresholds (ie median of pixel threshold) per images\n",
    "\n",
    "        Parameters:\n",
    "            X : array-like\n",
    "                Batch of images (RGB, grayscale, or flattened) with shape\n",
    "                (n_samples, ...) and pixel values in [0,255] or [0,1].\n",
    "            y: Ignored (scikit-learn convention)\n",
    "\n",
    "        Returns:\n",
    "            self : fitted ImagesBinarizer\n",
    "        \"\"\"\n",
    "\n",
    "        X = np.asarray(X)\n",
    "\n",
    "        # Accept 2D, 3D or 4D datasets\n",
    "        if X.ndim not in [2, 3, 4]:\n",
    "            raise ValueError(\n",
    "                f\"Expected 2D, 3D or 4D array, got {X.ndim}D array instead.\"\n",
    "            )\n",
    "\n",
    "        if X.min() < 0:\n",
    "            raise ValueError(\n",
    "                \"Pixel values contain negatives, please check data preprocessing.\"\n",
    "            )\n",
    "\n",
    "        if X.max() > 1:\n",
    "            X = X / 255.0  # Normalize pixels to [0,1]\n",
    "\n",
    "        X_gray = self.to_grayscale(X)  # 2D or 3D\n",
    "\n",
    "        # Compute global Otsu and Yen thresholds\n",
    "        gray_pixels = X_gray.ravel()\n",
    "        self.otsu_ = threshold_otsu(gray_pixels)\n",
    "        self.yen_ = threshold_yen(gray_pixels)\n",
    "\n",
    "        print(f\"Otsu threshold = {self.otsu_}\")\n",
    "        print(f\"Yen threshold  = {self.yen_}\")\n",
    "\n",
    "        if self.threshold_param == \"otsu\":\n",
    "            self.threshold_ = self.otsu_\n",
    "        elif self.threshold_param == \"yen\":\n",
    "            self.threshold_ = self.yen_\n",
    "        else:\n",
    "            self.threshold_ = (\n",
    "                self.threshold_param\n",
    "            )  # can be a global float or a local method name\n",
    "\n",
    "        return self\n",
    "\n",
    "    def transform(self, X) -> np.ndarray:\n",
    "        \"\"\"\n",
    "        Binarize a batch of images using global (fixed or computed during fit float) or local (str) threshold.\n",
    "\n",
    "        Parameters:\n",
    "            X : array-like\n",
    "                Batch of images (RGB, grayscale, or flattened) with pixel values in [0, 255] or [0, 1].\n",
    "\n",
    "        Returns:\n",
    "            np.ndarray\n",
    "                Binarized images with pixel values 0 or 1.\n",
    "        \"\"\"\n",
    "\n",
    "        # Vérifie que fit a été exécuté avant transform\n",
    "        if self.threshold_ is None:\n",
    "            raise RuntimeError(\"You must fit the transformer before calling transform.\")\n",
    "\n",
    "        X = np.asarray(X)\n",
    "\n",
    "        # Accept 2D, 3D or 4D datasets\n",
    "        if X.ndim not in [2, 3, 4]:\n",
    "            raise ValueError(\n",
    "                f\"Expected 2D, 3D or 4D array, got {X.ndim}D array instead.\"\n",
    "            )\n",
    "\n",
    "        if X.min() < 0:\n",
    "            raise ValueError(\"Pixel values contain negatives.\")\n",
    "\n",
    "        if (\n",
    "            X.max() > 1\n",
    "        ):  # normalise si besoin pour être compatible avec le seuil entre 0 et 1\n",
    "            X = X / 255.0\n",
    "\n",
    "        X_gray = self.to_grayscale(X)\n",
    "\n",
    "        # Binarization selon le seuil en pixel 0 ou 1\n",
    "        # self.threshold_ peut être soit un float (seuil global) soit un str (méthode adaptative)\n",
    "\n",
    "        if isinstance(self.threshold_, str):  # seuil local\n",
    "            X_bin = []\n",
    "            for img in X_gray:\n",
    "                if self.threshold_ == \"niblack\":\n",
    "                    thresh_local = threshold_niblack(img)\n",
    "                elif self.threshold_ == \"sauvola\":\n",
    "                    thresh_local = threshold_sauvola(img)\n",
    "                else:\n",
    "                    raise ValueError(\n",
    "                        f\"Invalid local threshold method: {self.threshold_}\"\n",
    "                    )\n",
    "                binary_img = img > thresh_local\n",
    "                X_bin.append(binary_img)\n",
    "            return np.array(X_bin)\n",
    "        else:  # seuil global\n",
    "            return (X_gray > self.threshold_).astype(np.uint8)\n",
    "\n",
    "    def fit_transform(self, X, y=None):\n",
    "        \"\"\"\n",
    "        Fit to data, then transform it.\n",
    "\n",
    "        Parameters:\n",
    "            X : array-like\n",
    "                Batch of images to binarize.\n",
    "            y: Ignored (scikit-learn convention)\n",
    "\n",
    "        Returns:\n",
    "            np.ndarray\n",
    "                Binarized images as uint8 arrays (0 or 1).\n",
    "        \"\"\"\n",
    "\n",
    "        return self.fit(X, y).transform(X)\n",
    "\n",
    "    '''\n",
    "    def get_thresholds(self):\n",
    "        \"\"\"\n",
    "        Return computed and parameter thresholds.\n",
    "\n",
    "        Returns:\n",
    "            dict\n",
    "        \"\"\"\n",
    "        if self.threshold_ is None:\n",
    "            raise RuntimeError(\n",
    "                \"You must fit the transformer before calling get_thresholds.\"\n",
    "            )\n",
    "\n",
    "        # if self.threshold_param == 'otsu' or self.threshold_param == 'yen':\n",
    "        #    param_type = \"global\"\n",
    "        #    param_value = self.threshold_\n",
    "        # elif self.threshold_param == 'niblack' or self.threshold_param == 'sauvola':\n",
    "        #    param_type = \"local\"\n",
    "        #    param_value = self.threshold_param\n",
    "        # else:\n",
    "        #    param_type = \"custom\"\n",
    "        #    param_value = self.threshold_\n",
    "        #\n",
    "        return {\n",
    "            \"otsu\": self.otsu_,\n",
    "            \"yen\": self.yen_,\n",
    "            \"param_value\": self.threshold_param,\n",
    "        }\n",
    "    '''\n",
    "\n",
    "    def plot_threshold_analysis(self, X):\n",
    "        \"\"\"\n",
    "        Display grayscale histogram with global threshold lines and RGB curves if applicable.\n",
    "\n",
    "        Parameters:\n",
    "            X : array-like\n",
    "                Batch of images (RGB, grayscale, or flattened).\n",
    "        \"\"\"\n",
    "\n",
    "        if self.otsu_ is None or self.yen_ is None:\n",
    "            raise RuntimeError(\n",
    "                \"You must fit the transformer before calling plot_threshold_analysis\"\n",
    "            )\n",
    "\n",
    "        X = np.asarray(X)\n",
    "\n",
    "        # Accept 2D, 3D or 4D datasets\n",
    "        if X.ndim not in [2, 3, 4]:\n",
    "            raise ValueError(\n",
    "                f\"Expected 2D, 3D or 4D array, got {X.ndim}D array instead.\"\n",
    "            )\n",
    "\n",
    "        if X.min() < 0:\n",
    "            raise ValueError(\"Pixel values contain negatives.\")\n",
    "\n",
    "        if X.max() > 1:\n",
    "            X = (\n",
    "                X / 255.0\n",
    "            )  # normalise si besoin pour afficher des intensités entre 0 et 1\n",
    "\n",
    "        if X.ndim == 4:\n",
    "            plt.figure(figsize=(8, 4))\n",
    "\n",
    "            for i in tqdm(range(3), desc=\"Computing RGB colorimetry\"):\n",
    "                channel_i_pixels = X[:, :, :, i].ravel()\n",
    "                hist, bins = np.histogram(channel_i_pixels, bins=256, range=(0, 1))\n",
    "                hist_smooth = gaussian_filter1d(hist, sigma=2)\n",
    "                bin_centers = (bins[:-1] + bins[1:]) / 2\n",
    "                plt.plot(bin_centers, hist_smooth, color=[\"red\", \"green\", \"blue\"][i])\n",
    "\n",
    "            plt.title(\"Grayscale & RGB Distribution with Thresholds\")\n",
    "\n",
    "            plt.xlabel(\"Intensity\")\n",
    "            plt.ylabel(\"Pixel count\")\n",
    "            plt.tight_layout()\n",
    "            # plt.show()\n",
    "\n",
    "        # Compute global-equivalent of adaptative thresholds\n",
    "        # niblack_thresholds = []\n",
    "        # sauvola_thresholds = []\n",
    "        # for img in tqdm(X_gray, desc = \"Computing eq. thresholds\"):\n",
    "        #    niblack_map = threshold_niblack(img)\n",
    "        #    sauvola_map = threshold_sauvola(img)\n",
    "        #    niblack_thresholds.append(np.median(niblack_map))\n",
    "        #    sauvola_thresholds.append(np.median(sauvola_map))\n",
    "        # niblack_eq = np.median(niblack_thresholds)\n",
    "        # sauvola_eq = np.median(sauvola_thresholds)\n",
    "\n",
    "        X_gray = self.to_grayscale(X)\n",
    "\n",
    "        # plt.figure(figsize=(8, 4))\n",
    "\n",
    "        # histogram luminance\n",
    "        gray_pixels = X_gray.ravel()\n",
    "        plt.hist(gray_pixels, bins=256, color=\"gray\", alpha=0.7)\n",
    "\n",
    "        # If a custom threshold, show it too in red\n",
    "        if isinstance(self.threshold_param, float):\n",
    "            plt.axvline(\n",
    "                self.threshold_param,\n",
    "                color=\"purple\",\n",
    "                linestyle=\"--\",\n",
    "                label=f\"Custom = {self.threshold_}\",\n",
    "            )\n",
    "\n",
    "        # Computed threshold lines\n",
    "        plt.axvline(\n",
    "            self.otsu_,\n",
    "            color=\"orange\",\n",
    "            linestyle=\":\",\n",
    "            label=f\"Otsu (from fit) = {self.otsu_:.3f}\",\n",
    "        )\n",
    "        plt.axvline(\n",
    "            self.yen_,\n",
    "            color=\"brown\",\n",
    "            linestyle=\":\",\n",
    "            label=f\"Yen (from fit) = {self.yen_:.3f}\",\n",
    "        )\n",
    "        # plt.axvline(self.niblack_eq_, color='yellow', linestyle='-.', label=f\"Niblack eq. = {niblack_eq:.3f}\")\n",
    "        # plt.axvline(self.sauvola_eq_, color='pink', linestyle='-.', label=f\"Sauvola eq. = {sauvola_eq:.3f}\")\n",
    "\n",
    "        plt.legend()\n",
    "        # plt.suptitle(\"Note: Otsu, Yen, Niblack and Sauvola Thresholds are computed during fit\", fontsize=10, color='dimgray')\n",
    "\n",
    "        # plt.suptitle(\"Luminance Histogram\")\n",
    "        # plt.title(\"Note: Otsu and Yen thresholds correspond to the fit batch\", fontsize=10, color='dimgray', loc='right')\n",
    "\n",
    "        plt.xlabel(\"Intensity\")\n",
    "        plt.ylabel(\"Pixel count\")\n",
    "        plt.tight_layout()\n",
    "        plt.show()\n",
    "\n",
    "    def show_sample(self, X, y=None, names=None):\n",
    "\n",
    "        if self.otsu_ is None:\n",
    "            raise RuntimeError(\"You must fit the transformer before calling show\")\n",
    "\n",
    "        X = np.asarray(X)\n",
    "\n",
    "        # Accept 2D, 3D or 4D datasets\n",
    "        if X.ndim not in [2, 3, 4]:\n",
    "            raise ValueError(\n",
    "                f\"Expected 2D, 3D or 4D array, got {X.ndim}D array instead.\"\n",
    "            )\n",
    "\n",
    "        # Choisis 1 image au hasard\n",
    "        idx = np.random.randint(len(X))\n",
    "        img = X[idx]\n",
    "\n",
    "        if img.min() < 0:\n",
    "            raise ValueError(\"Pixel values contain negatives.\")\n",
    "\n",
    "        if img.max() > 1:\n",
    "            img = (\n",
    "                img / 255.0\n",
    "            )  # normalise si besoin pour afficher des intensités entre 0 et 1\n",
    "\n",
    "        img_gray = self.to_grayscale((img,))[0]\n",
    "        img_bin = self.transform((img,))[0]\n",
    "\n",
    "        fig, axs = plt.subplots(4, 5, figsize=(15, 12))\n",
    "\n",
    "        # original\n",
    "        axs[0, 0].imshow(img)\n",
    "        axs[0, 0].axis(\"off\")\n",
    "        title = f\"#{idx}\"\n",
    "        if y is not None:\n",
    "            title += f\" ({y[idx]})\"\n",
    "        if names is not None:\n",
    "            title += f\"\\n{names[idx]}\"\n",
    "        axs[0, 0].set_title(title)\n",
    "\n",
    "        # grayscale\n",
    "        axs[0, 1].imshow(img_gray, cmap=\"gray\")\n",
    "        axs[0, 1].axis(\"off\")\n",
    "        axs[0, 1].set_title(\"grayscale\")\n",
    "\n",
    "        # RGB\n",
    "        for i in range(3):\n",
    "            img_i = img[:, :, i]\n",
    "            axs[0, i + 2].imshow(img_i, cmap=[\"Reds_r\", \"Greens_r\", \"Blues_r\"][i])\n",
    "            axs[0, i + 2].axis(\"off\")\n",
    "            axs[0, i + 2].set_title(f\"{['R channel', 'G channel', 'B channel'][i]}\")\n",
    "\n",
    "        # custom\n",
    "        axs[1, 0].imshow(img_bin, cmap=\"gray\", vmin=0, vmax=1)\n",
    "        axs[1, 0].axis(\"off\")\n",
    "        axs[1, 0].set_title(f\"custom = {self.threshold_param}\")\n",
    "\n",
    "        threshold_origin = self.threshold_\n",
    "        # computed\n",
    "\n",
    "        self.threshold_ = self.otsu_\n",
    "        img_bin = self.transform((img,))[0]\n",
    "        axs[1, 1].imshow(img_bin, cmap=\"gray\", vmin=0, vmax=1)\n",
    "        axs[1, 1].axis(\"off\")\n",
    "        axs[1, 1].set_title(f\"Otsu (from fit) = {self.threshold_:.3f}\")\n",
    "\n",
    "        self.threshold_ = self.yen_\n",
    "        img_bin = self.transform((img,))[0]\n",
    "        axs[1, 2].imshow(img_bin, cmap=\"gray\", vmin=0, vmax=1)\n",
    "        axs[1, 2].axis(\"off\")\n",
    "        axs[1, 2].set_title(f\"Yen (from fit) = {self.threshold_:.3f}\")\n",
    "\n",
    "        niblack_thresh = threshold_niblack(img_gray)\n",
    "        niblack_img = img_gray > niblack_thresh\n",
    "        axs[1, 3].imshow(niblack_img, cmap=\"gray\", vmin=0, vmax=1)\n",
    "        axs[1, 3].axis(\"off\")\n",
    "        axs[1, 3].set_title(\"Niblack\")\n",
    "\n",
    "        sauvola_thresh = threshold_sauvola(img_gray)\n",
    "        sauvola_img = img_gray > sauvola_thresh\n",
    "        axs[1, 4].imshow(sauvola_img, cmap=\"gray\", vmin=0, vmax=1)\n",
    "        axs[1, 4].axis(\"off\")\n",
    "        axs[1, 4].set_title(\"Sauvola\")\n",
    "\n",
    "        # range\n",
    "        for i in range(9):\n",
    "            row = i // 5 + 2\n",
    "            col = i % 5\n",
    "            self.threshold_ = (i + 1) / 10\n",
    "            img_bin = self.transform((img,))[0]\n",
    "            axs[row, col].imshow(img_bin, cmap=\"gray\", vmin=0, vmax=1)\n",
    "            axs[row, col].axis(\"off\")\n",
    "            axs[row, col].set_title(f\"threshold = {self.threshold_:.1f}\")\n",
    "\n",
    "        self.threshold_ = threshold_origin\n",
    "\n",
    "        # threshold analysis\n",
    "        pixels_gray = img_gray.ravel()\n",
    "        axs[3, 4].hist(pixels_gray, bins=256, color=\"gray\", alpha=0.7)\n",
    "        axs[3, 4].axvline(\n",
    "            self.otsu_,\n",
    "            color=\"orange\",\n",
    "            linestyle=\":\",\n",
    "            label=f\"Otsu (fit) = {self.otsu_:.3f}\",\n",
    "        )\n",
    "        axs[3, 4].axvline(\n",
    "            self.yen_,\n",
    "            color=\"brown\",\n",
    "            linestyle=\":\",\n",
    "            label=f\"Yen (fit) = {self.yen_:.3f}\",\n",
    "        )\n",
    "        if isinstance(threshold_origin, float):\n",
    "            axs[3, 4].axvline(\n",
    "                threshold_origin,\n",
    "                color=\"purple\",\n",
    "                linestyle=\"--\",\n",
    "                label=f\"custom = {threshold_origin}\",\n",
    "            )\n",
    "            axs[3, 4].legend()\n",
    "        axs[3, 4].set_xlabel(\"Intensity\")\n",
    "        axs[3, 4].set_ylabel(\"Pixel count\")\n",
    "        for i in range(3):\n",
    "            pixels_i = img[:, :, i].ravel()\n",
    "            hist, bins = np.histogram(pixels_i, bins=256, range=(0, 1))\n",
    "            hist_smooth = gaussian_filter1d(hist, sigma=2)\n",
    "            bin_centers = (bins[:-1] + bins[1:]) / 2\n",
    "            axs[3, 4].plot(bin_centers, hist_smooth, color=[\"red\", \"green\", \"blue\"][i])\n",
    "\n",
    "        plt.tight_layout()\n",
    "        plt.show()\n"
   ]
  },
  {
   "cell_type": "code",
   "execution_count": null,
   "metadata": {},
   "outputs": [],
   "source": [
    "def evaluate_ML_global(\n",
    "    models, datasets, balanced_weights: bool = False, verbose: bool = True\n",
    ") -> pd.DataFrame:\n",
    "\n",
    "    global_start_time = time.perf_counter()\n",
    "\n",
    "    # paramètres pour tous les modèles : standardization et encoding (pour homogénéiser le fit et predict même si ce n'est pas idéal)\n",
    "    scale = True  # Tree-base models doesn't need scaling (RF, XGB, CAT, LGB). NB: KNN may work better with normalization instead of standardization\n",
    "    encode = True  # encoding is mandatory only for XGB\n",
    "\n",
    "    global_perf = pd.DataFrame()\n",
    "\n",
    "    for dataset in datasets:\n",
    "\n",
    "        X_train, X_valid, y_train, y_valid, dataset_name = dataset\n",
    "\n",
    "        if verbose:\n",
    "            print(\"===\", dataset_name, \"===\\n\")\n",
    "\n",
    "        # Flatten une seule fois pour chaque dataset puis flatten = False sur tous les appels suivant (pour gagner en perf)\n",
    "        X_train_flat = np.asarray(X_train).reshape(len(X_train), -1)\n",
    "        X_valid_flat = np.asarray(X_valid).reshape(len(X_valid), -1)\n",
    "        flatten = False\n",
    "\n",
    "        dataset_models = []\n",
    "        dataset_accuracies = []\n",
    "        dataset_bal_accuracies = []\n",
    "        dataset_durations = []\n",
    "\n",
    "        for model in models:\n",
    "\n",
    "            start_time = time.perf_counter()\n",
    "            accuracy, bal_accuracy = evaluate_ML_model(\n",
    "                model,\n",
    "                X_train_flat,\n",
    "                X_valid_flat,\n",
    "                y_train,\n",
    "                y_valid,\n",
    "                flatten,\n",
    "                scale,\n",
    "                encode,\n",
    "                balanced_weights,\n",
    "                verbose,\n",
    "            )\n",
    "            end_time = time.perf_counter()\n",
    "\n",
    "            duration = round(end_time - start_time, 3)\n",
    "            dataset_models.append(model.__class__.__name__)\n",
    "            dataset_accuracies.append(accuracy)\n",
    "            dataset_bal_accuracies.append(bal_accuracy)\n",
    "            dataset_durations.append(duration)\n",
    "\n",
    "        dataset_perf = pd.DataFrame(\n",
    "            {\n",
    "                \"Model\": dataset_models,\n",
    "                \"Accuracy\": dataset_accuracies,\n",
    "                \"Balanced accuracy\": dataset_bal_accuracies,\n",
    "                \"Duration (s)\": dataset_durations,\n",
    "            }\n",
    "        ).set_index(\"Model\")\n",
    "\n",
    "        dataset_perf.columns = pd.MultiIndex.from_product(\n",
    "            [[dataset_name], dataset_perf.columns]\n",
    "        )\n",
    "\n",
    "        if verbose:\n",
    "            display(dataset_perf)\n",
    "\n",
    "        # concatenate dataset_perf DataFrames\n",
    "        global_perf = pd.concat([global_perf, dataset_perf], axis=1)\n",
    "\n",
    "    # Add Row Mean\n",
    "    global_perf.loc[\"📊 Average\"] = global_perf.mean(numeric_only=True)  # type: ignore\n",
    "\n",
    "    # Add Col Mean\n",
    "\n",
    "    # Sélection des colonnes acc, bal_acc et durations\n",
    "    cols_acc = global_perf.columns[::3]  # type: ignore\n",
    "    cols_bal_acc = global_perf.columns[1::3]\n",
    "    cols_dur = global_perf.columns[2::3]  # type: ignore\n",
    "\n",
    "    # Calcul des moyennes par ligne\n",
    "    mean_accuracy = global_perf[cols_acc].mean(axis=1)  # type: ignore\n",
    "    mean_bal_accuracy = global_perf[cols_bal_acc].mean(axis=1)\n",
    "    mean_duration = global_perf[cols_dur].mean(axis=1)  # type: ignore\n",
    "\n",
    "    # Création des nouvelles colonnes sous forme de DataFrame avec MultiIndex colonnes\n",
    "    new_cols = pd.DataFrame(\n",
    "        {\n",
    "            (\"📊 Average\", \"Accuracy\"): mean_accuracy,\n",
    "            (\"📊 Average\", \"Balanced accuracy\"): mean_bal_accuracy,\n",
    "            (\"📊 Average\", \"Duration (s)\"): mean_duration,\n",
    "        },\n",
    "        index=global_perf.index,\n",
    "    )  # type: ignore\n",
    "\n",
    "    # Concaténation à droite\n",
    "    global_perf = pd.concat([global_perf, new_cols], axis=1)\n",
    "\n",
    "    # Arrondi selon colonne accuracy ou duration\n",
    "    for idx, col in enumerate(global_perf.columns):\n",
    "        if idx % 3 in [0, 1]:\n",
    "            global_perf[col] = global_perf[col].round(3)  # accuracy or bal_accuracy\n",
    "        else:\n",
    "            global_perf[col] = global_perf[col].round(0).astype(\"Int64\")  # duration\n",
    "\n",
    "    # Remplace les NaN par des ✖️\n",
    "    global_perf = global_perf.astype(object).fillna(\"✖️\").infer_objects(copy=False)  # type: ignore\n",
    "\n",
    "    if verbose:\n",
    "        print(\"=== GLOBAL ===\\n\")\n",
    "        global_end_time = time.perf_counter()\n",
    "        duration = int(global_end_time - global_start_time)\n",
    "        print(\n",
    "            f\"{len(models)} models evaluated on {len(datasets)} datasets in {duration} s\\n\"\n",
    "        )\n",
    "        display(global_perf)\n",
    "\n",
    "    return global_perf\n",
    "\n",
    "\n",
    "def evaluate_ML_model(\n",
    "    clf,\n",
    "    X_train,\n",
    "    X_valid,\n",
    "    y_train,\n",
    "    y_valid,\n",
    "    flatten: bool = True,\n",
    "    scale: bool = True,\n",
    "    encode: bool = True,\n",
    "    balanced_weights: bool = False,\n",
    "    verbose: bool = True,\n",
    ") -> Tuple[float, float]:\n",
    "    \"\"\"\n",
    "    Evaluate a classical ML classifier (e.g., SVM, KNN, RandomForest, XGBoost).\n",
    "\n",
    "    Not designed for deep learning models.\n",
    "\n",
    "    Parameters\n",
    "    ----------\n",
    "    clf : sklearn-like classifier\n",
    "        The model to train and evaluate.\n",
    "    X_train, X_valid : array-like\n",
    "        Input features (images), optionally flattened and scaled.\n",
    "    y_train, y_valid : array-like\n",
    "        Ground-truth labels.\n",
    "    flatten : bool, default=True\n",
    "        Reshapes X into 2D arrays if needed (n_samples, -1).\n",
    "    scale : bool, default=True\n",
    "        Applies StandardScaler to input features.\n",
    "    encode : bool, default=True\n",
    "        Encodes y_train using LabelEncoder. y_valid remains untouched.\n",
    "    balanced_weights : bool, default=False\n",
    "        If True and clf supports `sample_weight`, compute balanced sample weights during fitting.\n",
    "    verbose : bool, default=True\n",
    "        Displays model info, duration, accuracy, confusion matrix, and classification report.\n",
    "\n",
    "    Note: balanced_weights only works if clf.fit accepts sample_weight.\n",
    "    For example:\n",
    "    - ✅ RandomForestClassifier, SVC, XGBClassifier, LGBMClassifier, CatBoostClassifier\n",
    "    - ❌ KNeighborsClassifier does not support sample weights\n",
    "\n",
    "    Returns\n",
    "    -------\n",
    "    tuple of float\n",
    "    (accuracy, balanced_accuracy)\n",
    "    Accuracy score and balanced accuracy score on the validation set.\n",
    "    \"\"\"\n",
    "\n",
    "    if flatten:\n",
    "        X_train_flat = np.asarray(X_train).reshape(len(X_train), -1)\n",
    "        X_valid_flat = np.asarray(X_valid).reshape(len(X_valid), -1)\n",
    "    else:\n",
    "        X_train_flat = np.asarray(X_train)\n",
    "        X_valid_flat = np.asarray(X_valid)\n",
    "\n",
    "    if scale:\n",
    "        scaler = StandardScaler()\n",
    "        X_train_flat = scaler.fit_transform(X_train_flat)\n",
    "        X_valid_flat = scaler.transform(X_valid_flat)\n",
    "    # NB1 : tree-based (RandomForest, XGBoost…) n’ont pas besoin de scaling mais le scaling est inoffensif\n",
    "    # NB2 : KNN peut fonctionner mieux avec une normalisation (MinMaxScaler) plutôt que standardisation...\n",
    "\n",
    "    if encode:\n",
    "        encoder = LabelEncoder()\n",
    "        encoder.fit(np.concatenate([y_train, y_valid]))  # sécurise l'encodage\n",
    "        y_train_enc = encoder.transform(y_train)\n",
    "        y_valid_enc = encoder.transform(y_valid)\n",
    "    else:\n",
    "        y_train_enc = y_train.copy()\n",
    "        y_valid_enc = y_valid.copy()\n",
    "        # inutile mais peut éviter des effets de bord si la fonction évolue\n",
    "\n",
    "    if verbose:\n",
    "        print(clf)\n",
    "        start_time = time.perf_counter()  # start timing prediction\n",
    "\n",
    "    if balanced_weights and \"sample_weight\" in inspect.signature(clf.fit).parameters:\n",
    "        # vérifie que le param balanced_weight        y_valid_decoded = encoder.inverse_transform(y_valid_enc)s = True + que le classifier accepte sample_weight dans son fit\n",
    "        sample_weights = compute_sample_weight(\"balanced\", y_train)\n",
    "        clf.fit(X_train_flat, y_train_enc, sample_weight=sample_weights)\n",
    "    else:\n",
    "        clf.fit(X_train_flat, y_train_enc)\n",
    "\n",
    "    y_pred_enc = clf.predict(X_valid_flat)\n",
    "\n",
    "    accuracy = accuracy_score(y_valid_enc, y_pred_enc)\n",
    "    balanced_accuracy = balanced_accuracy_score(y_valid_enc, y_pred_enc)\n",
    "\n",
    "    if encode:\n",
    "        y_pred = encoder.inverse_transform(y_pred_enc)  # type: ignore\n",
    "    else:\n",
    "        y_pred = y_pred_enc\n",
    "\n",
    "    if verbose:\n",
    "        print(\"accuracy:\", accuracy)\n",
    "        print(\"balanced accuracy:\", balanced_accuracy)\n",
    "        end_time = time.perf_counter()  # end timing\n",
    "        predict_time = end_time - start_time  # type: ignore # durée en secondes\n",
    "        print(f\"duration: {predict_time:.3f} s\\n\")\n",
    "        display(pd.crosstab(y_valid, y_pred))\n",
    "        print(classification_report(y_valid, y_pred))\n",
    "\n",
    "    return float(accuracy), float(balanced_accuracy)\n",
    "    # convertit accuracy en float pour éviter une erreur de type entre Float et float...\n"
   ]
  },
  {
   "cell_type": "code",
   "execution_count": null,
   "metadata": {},
   "outputs": [],
   "source": [
    "def print_CV_results(search_CV, duration: int | None = None):\n",
    "    \"\"\"\n",
    "    Print summary results from a fitted cross-validation search object (e.g. GridSearchCV or RandomizedSearchCV).\n",
    "\n",
    "    Parameters\n",
    "    ----------\n",
    "    search_CV : sklearn.model_selection.BaseSearchCV\n",
    "        A fitted GridSearchCV or RandomizedSearchCV object.\n",
    "    \"\"\"\n",
    "    results = search_CV.cv_results_\n",
    "    n_candidates = len(results[\"params\"])\n",
    "    n_folds = search_CV.cv.get_n_splits()\n",
    "    n_fits = n_candidates * n_folds\n",
    "    best_index = search_CV.best_index_\n",
    "    best_params = results[\"params\"][best_index]\n",
    "    best_score = results[\"mean_test_score\"][best_index]\n",
    "    mean_score = np.mean(results[\"mean_test_score\"])\n",
    "    std_score = np.std(results[\"mean_test_score\"])\n",
    "\n",
    "    print(\n",
    "        f\"📊 {search_CV.best_estimator_.__class__.__name__} fitted using {search_CV.__class__.__name__}\"\n",
    "        + (f\" in {int(duration)}s\" if duration is not None else \"\")\n",
    "    )\n",
    "    print(\n",
    "        f\"    {n_folds} folds for each of {n_candidates} candidates, totalling {n_fits} fits\"\n",
    "    )\n",
    "    if duration is not None:\n",
    "        print(f\"\\t• Mean duration per fit: {duration/n_fits:.1f}s\")\n",
    "    print(\"\\t• Best params  :\", best_params)\n",
    "    print(\"\\t• Best score   :\", round(best_score, 4))\n",
    "    print(\"\\t• Mean score   :\", round(mean_score, 4))\n",
    "    print(\"\\t• Std score    : \", round(std_score, 4))\n"
   ]
  },
  {
   "cell_type": "markdown",
   "metadata": {},
   "source": [
    " === Cellule désactivée car non utilisée ===\n",
    "\n",
    "def random_zoom_in(img, zoom_min=0.7, zoom_max=0.95, random_state=None):\n",
    "    \"\"\"\n",
    "    Apply random centered zoom-in augmentation to the input image.\n",
    "\n",
    "    Parameters:\n",
    "        img (np.ndarray): Input RGB image as a NumPy array.\n",
    "        zoom_min (float): Minimum zoom factor (<1), controls max zoom-in intensity.\n",
    "        zoom_max (float): Maximum zoom factor (<=1).\n",
    "            If set to 1, there's a statistical risk the output image\n",
    "            might be identical or very close to the original.\n",
    "        random_state (int or np.random.Generator, optional): Seed or generator for reproducibility.\n",
    "\n",
    "    Returns:\n",
    "        np.ndarray: Augmented image of the same size as input.\n",
    "    \"\"\"\n",
    "    rng = np.random.default_rng(random_state)\n",
    "\n",
    "    h, w = img.shape[:2]\n",
    "    zoom_factor = rng.uniform(zoom_min, zoom_max)\n",
    "    new_h, new_w = int(h * zoom_factor), int(w * zoom_factor)\n",
    "\n",
    "    y1 = (h - new_h) // 2\n",
    "    x1 = (w - new_w) // 2\n",
    "\n",
    "    crop = img[y1 : y1 + new_h, x1 : x1 + new_w]\n",
    "    zoomed = cv2.resize(crop, (w, h), interpolation=cv2.INTER_LINEAR)\n",
    "    return zoomed\n",
    "\n",
    "\n",
    "def augment_image(img, zoom_min=0.7, zoom_max=0.95, random_state=None):\n",
    "    \"\"\"\n",
    "    Apply data augmentation to the image using only transformations\n",
    "    that preserve the original size and avoid introducing blank borders.\n",
    "\n",
    "    Operations applied:\n",
    "    - Random horizontal flip\n",
    "    - Random vertical flip\n",
    "    - Random centered zoom-in\n",
    "\n",
    "    Parameters:\n",
    "        img (np.ndarray): Input RGB image.\n",
    "        zoom_min (float): Minimum zoom factor for zoom-in (<1).\n",
    "        zoom_max (float): Maximum zoom factor (should be <1 to guarantee variation).\n",
    "        random_state (int or np.random.Generator, optional): Seed or generator for reproducibility.\n",
    "\n",
    "    Returns:\n",
    "        np.ndarray: Augmented image of the same size as input.\n",
    "    \"\"\"\n",
    "    assert (\n",
    "        0 < zoom_min < zoom_max <= 1\n",
    "    ), \"zoom_min and zoom_max must satisfy 0 < zoom_min < zoom_max <= 1\"\n",
    "\n",
    "    rng = np.random.default_rng(random_state)\n",
    "\n",
    "    # Random horizontal flip\n",
    "    if rng.random() < 0.5:\n",
    "        img = cv2.flip(img, 1)\n",
    "\n",
    "    # Random vertical flip\n",
    "    if rng.random() < 0.5:\n",
    "        img = cv2.flip(img, 0)\n",
    "\n",
    "    # Random zoom-in\n",
    "    img = random_zoom_in(img, zoom_min, zoom_max, random_state=rng)\n",
    "\n",
    "    return img"
   ]
  },
  {
   "cell_type": "markdown",
   "metadata": {
    "id": "TNT2w2VWsCPd"
   },
   "source": [
    "# Data Visualisation"
   ]
  },
  {
   "cell_type": "code",
   "execution_count": null,
   "metadata": {
    "lines_to_next_cell": 2
   },
   "outputs": [
    {
     "name": "stdout",
     "output_type": "stream",
     "text": [
      "ℹ️ 17222 images found in 197ms, belonging to 9 classes: ['basophil', 'eosinophil', 'erythroblast', 'ig', 'lymphoblast', 'lymphocyte', 'monocyte', 'neutrophil', 'platelet']\n"
     ]
    },
    {
     "data": {
      "image/png": "[encoded data removed]",
      "text/plain": [
       "<Figure size 1200x1000 with 4 Axes>"
      ]
     },
     "metadata": {},
     "output_type": "display_data"
    },
    {
     "data": {
      "text/html": [
       "\n",
       "    <table style=\"border-collapse: collapse; width: 300px; font-family: Arial, sans-serif;\">\n",
       "        <thead>\n",
       "            <tr>\n",
       "                <th style='text-align:left; border-bottom: 1px solid #ccc;'>Class</th>\n",
       "                <th style='text-align:left; border-bottom: 1px solid #ccc;'>Count</th>\n",
       "                <th style='text-align:left; border-bottom: 1px solid #ccc;'>%</th>\n",
       "            </tr>\n",
       "        </thead>\n",
       "        <tbody>\n",
       "            <tr><td style='color:#1f77b4; text-align:left; padding-right: 10px;'>basophil</td><td style='color:black; text-align:left; padding-right: 10px;'>1218</td><td style='color:black; text-align:left;'>7.1 %</td></tr><tr><td style='color:#ff7f0e; text-align:left; padding-right: 10px;'>eosinophil</td><td style='color:black; text-align:left; padding-right: 10px;'>3117</td><td style='color:black; text-align:left;'>18.1 %</td></tr><tr><td style='color:#2ca02c; text-align:left; padding-right: 10px;'>erythroblast</td><td style='color:black; text-align:left; padding-right: 10px;'>1551</td><td style='color:black; text-align:left;'>9.0 %</td></tr><tr><td style='color:#d62728; text-align:left; padding-right: 10px;'>ig</td><td style='color:black; text-align:left; padding-right: 10px;'>2895</td><td style='color:black; text-align:left;'>16.8 %</td></tr><tr><td style='color:#9467bd; text-align:left; padding-right: 10px;'>lymphoblast</td><td style='color:black; text-align:left; padding-right: 10px;'>130</td><td style='color:black; text-align:left;'>0.8 %</td></tr><tr><td style='color:#8c564b; text-align:left; padding-right: 10px;'>lymphocyte</td><td style='color:black; text-align:left; padding-right: 10px;'>1214</td><td style='color:black; text-align:left;'>7.0 %</td></tr><tr><td style='color:#e377c2; text-align:left; padding-right: 10px;'>monocyte</td><td style='color:black; text-align:left; padding-right: 10px;'>1420</td><td style='color:black; text-align:left;'>8.2 %</td></tr><tr><td style='color:#7f7f7f; text-align:left; padding-right: 10px;'>neutrophil</td><td style='color:black; text-align:left; padding-right: 10px;'>3329</td><td style='color:black; text-align:left;'>19.3 %</td></tr><tr><td style='color:#bcbd22; text-align:left; padding-right: 10px;'>platelet</td><td style='color:black; text-align:left; padding-right: 10px;'>2348</td><td style='color:black; text-align:left;'>13.6 %</td></tr><tr style='font-weight:bold;'><td style='text-align:left; padding-right: 10px;'>Total</td><td style='text-align:left; padding-right: 10px;'>17222</td><td style='text-align:left;'>100.0 %</td></tr>\n",
       "        </tbody>\n",
       "    </table>\n",
       "    "
      ],
      "text/plain": [
       "<IPython.core.display.HTML object>"
      ]
     },
     "metadata": {},
     "output_type": "display_data"
    },
    {
     "data": {
      "text/plain": [
       "{'basophil': 1218,\n",
       " 'eosinophil': 3117,\n",
       " 'erythroblast': 1551,\n",
       " 'ig': 2895,\n",
       " 'lymphoblast': 130,\n",
       " 'lymphocyte': 1214,\n",
       " 'monocyte': 1420,\n",
       " 'neutrophil': 3329,\n",
       " 'platelet': 2348}"
      ]
     },
     "execution_count": 14,
     "metadata": {},
     "output_type": "execute_result"
    }
   ],
   "source": [
    "data_viz(path=PATH_RAW)\n"
   ]
  },
  {
   "cell_type": "markdown",
   "metadata": {
    "id": "CR2UKFfH3-Rm"
   },
   "source": [
    "# Pre-Processing"
   ]
  },
  {
   "cell_type": "code",
   "execution_count": null,
   "metadata": {
    "lines_to_next_cell": 2
   },
   "outputs": [],
   "source": [
    "# Load raw images without duplicates\n",
    "if not LOAD_RAW:\n",
    "    X, y, names = load_images(\n",
    "        PATH_RAW,\n",
    "        target_size=None,\n",
    "        drop_duplicates=True,\n",
    "        verbose=True,\n",
    "        plot_duplicates=True,\n",
    "    )\n"
   ]
  },
  {
   "cell_type": "code",
   "execution_count": null,
   "metadata": {
    "lines_to_next_cell": 2
   },
   "outputs": [],
   "source": [
    "if LOAD_RAW and SAVE_RAW_SPLITTED:\n",
    "\n",
    "    # split train_valid / test (15%)\n",
    "    (\n",
    "        X_train_valid,\n",
    "        X_test,\n",
    "        y_train_valid,\n",
    "        y_test,\n",
    "        names_train_valid,\n",
    "        names_test,\n",
    "    ) = train_test_split(\n",
    "        X,\n",
    "        y,\n",
    "        names,\n",
    "        test_size=TEST_SPLIT,\n",
    "        stratify=y,\n",
    "        random_state=random_state,\n",
    "    )\n",
    "\n",
    "    # split train (70%) / valid (15%)\n",
    "\n",
    "    valid_ratio = VALID_SPLIT / (1 - TEST_SPLIT)\n",
    "\n",
    "    X_train, X_valid, y_train, y_valid, names_train, names_valid = train_test_split(\n",
    "        X_train_valid,\n",
    "        y_train_valid,\n",
    "        names_train_valid,\n",
    "        test_size=valid_ratio,\n",
    "        stratify=y_train_valid,\n",
    "        random_state=random_state,\n",
    "    )\n",
    "\n",
    "    save_images(\n",
    "        PATH_TRAIN,\n",
    "        X_train,\n",
    "        y_train,\n",
    "        names_train,\n",
    "        target_size=None,\n",
    "        overwrite=False,\n",
    "        verbose=True,\n",
    "    )\n",
    "\n",
    "    save_images(\n",
    "        PATH_VALID,\n",
    "        X_valid,\n",
    "        y_valid,\n",
    "        names_valid,\n",
    "        target_size=None,\n",
    "        overwrite=False,\n",
    "        verbose=True,\n",
    "    )\n",
    "\n",
    "    save_images(\n",
    "        PATH_TEST,\n",
    "        X_test,\n",
    "        y_test,\n",
    "        names_test,\n",
    "        target_size=None,\n",
    "        overwrite=False,\n",
    "        verbose=True,\n",
    "    )\n"
   ]
  },
  {
   "cell_type": "markdown",
   "metadata": {},
   "source": [
    "## Resizing\n",
    "Note: duplicates are removed"
   ]
  },
  {
   "cell_type": "markdown",
   "metadata": {},
   "source": [
    "### Resized dataset (X_res)\n",
    "load from raw images with custom target size and drop duplicates parameters"
   ]
  },
  {
   "cell_type": "code",
   "execution_count": null,
   "metadata": {
    "lines_to_next_cell": 2
   },
   "outputs": [
    {
     "name": "stderr",
     "output_type": "stream",
     "text": [
      "Loading images from 9 subfolders: 100%|██████████| 9/9 [00:23<00:00,  2.57s/it]\n"
     ]
    },
    {
     "name": "stdout",
     "output_type": "stream",
     "text": [
      "\n",
      "ℹ️ 17222 images loaded in 23s, belonging to 9 classes.\n",
      "\n"
     ]
    },
    {
     "name": "stderr",
     "output_type": "stream",
     "text": [
      "🗑️ Removing duplicates: 100%|██████████| 17222/17222 [00:00<00:00, 57836.72it/s]"
     ]
    },
    {
     "name": "stdout",
     "output_type": "stream",
     "text": [
      "\n",
      "ℹ️ 18 duplicates detected in 0s\n",
      "\n",
      "1. basophil BA_20201.jpg has a duplicate: basophil BA_809918.jpg\n",
      "2. basophil BA_225540.jpg has a duplicate: basophil BA_786369.jpg\n",
      "3. basophil BA_80990.jpg has a duplicate: basophil BA_381452.jpg\n",
      "4. basophil BA_546746.jpg has a duplicate: basophil BA_685720.jpg\n",
      "5. basophil BA_251042.jpg has a duplicate: basophil BA_988506.jpg\n",
      "6. basophil BA_435917.jpg has a duplicate: basophil BA_858229.jpg\n",
      "7. eosinophil EO_918881.jpg has a duplicate: eosinophil EO_890163.jpg\n",
      "8. eosinophil EO_284748.jpg has a duplicate: eosinophil EO_738445.jpg\n",
      "9. eosinophil EO_220125.jpg has a duplicate: eosinophil EO_433229.jpg\n",
      "10. eosinophil EO_65638.jpg has a duplicate: eosinophil EO_873756.jpg\n",
      "11. eosinophil EO_941266.jpg has a duplicate: eosinophil EO_994040.jpg\n",
      "12. eosinophil EO_621854.jpg has a duplicate: eosinophil EO_728356.jpg\n",
      "13. ig PMY_538541.jpg has a duplicate: ig PMY_753076.jpg\n",
      "14. ig PMY_497134.jpg has a duplicate: ig PMY_586364.jpg\n",
      "15. ig PMY_187173.jpg has a duplicate: ig PMY_225787.jpg\n",
      "16. lymphoblast Im257_0.tif has a duplicate: lymphoblast Im223_0.tif\n",
      "17. monocyte MO_145357.jpg has a duplicate: monocyte MO_997225.jpg\n",
      "18. eosinophil EO_225902.jpg has a duplicate: neutrophil BNE_191112.jpg\n",
      "\n",
      "\t❗ Duplicates across classes: eosinophil ≠ neutrophil\n",
      "\n",
      "🔀 Duplicate summary: 18 total, 1 across classes.\n",
      "\n",
      "ℹ️ 17204 unique images belonging to 9 classes.\n",
      "\n",
      "Class distribution:\n",
      "basophil        ➜   1212 images,  1 shape(s): [(100, 100, 3)]\n",
      "eosinophil      ➜   3111 images,  1 shape(s): [(100, 100, 3)]\n",
      "erythroblast    ➜   1551 images,  1 shape(s): [(100, 100, 3)]\n",
      "ig              ➜   2892 images,  1 shape(s): [(100, 100, 3)]\n",
      "lymphoblast     ➜    129 images,  1 shape(s): [(100, 100, 3)]\n",
      "lymphocyte      ➜   1214 images,  1 shape(s): [(100, 100, 3)]\n",
      "monocyte        ➜   1419 images,  1 shape(s): [(100, 100, 3)]\n",
      "neutrophil      ➜   3328 images,  1 shape(s): [(100, 100, 3)]\n",
      "platelet        ➜   2348 images,  1 shape(s): [(100, 100, 3)]\n",
      "\n",
      "✅ Total        ➜  17204 images,  1 shape(s): [(100, 100, 3)]\n"
     ]
    },
    {
     "name": "stderr",
     "output_type": "stream",
     "text": [
      "\n"
     ]
    }
   ],
   "source": [
    "X_res = y_res = names_res = None\n",
    "\n",
    "if LOAD_RAW:\n",
    "    X_res, y_res, names_res = load_images(\n",
    "        PATH_RAW,\n",
    "        target_size=target_size,\n",
    "        drop_duplicates=True,\n",
    "        verbose=True,\n",
    "        plot_duplicates=False,\n",
    "    )\n",
    "    if SAVE_RES:  # Optional save or load to skip loading RAW later\n",
    "        save_images(\n",
    "            PATH_RES,\n",
    "            X_res,\n",
    "            y_res,\n",
    "            names_res,\n",
    "            target_size=None,\n",
    "            overwrite=False,\n",
    "            verbose=True,\n",
    "        )\n"
   ]
  },
  {
   "cell_type": "code",
   "execution_count": null,
   "metadata": {
    "lines_to_next_cell": 2
   },
   "outputs": [],
   "source": [
    "if LOAD_RES:\n",
    "    X_res, y_res, names_res = load_images(\n",
    "        PATH_RES,\n",
    "        target_size=None,\n",
    "        drop_duplicates=False,\n",
    "        verbose=True,\n",
    "        plot_duplicates=True,\n",
    "    )\n"
   ]
  },
  {
   "cell_type": "markdown",
   "metadata": {
    "id": "owa57R5s57Nq"
   },
   "source": [
    "### Stratified splits\n",
    "train (70%), valid (15%) and test (15%) with stratify to ensures that each class is represented in the same proportion in each subsets as in the original"
   ]
  },
  {
   "cell_type": "code",
   "execution_count": null,
   "metadata": {
    "lines_to_next_cell": 2
   },
   "outputs": [],
   "source": [
    "# split train_valid / test (15%)\n",
    "(\n",
    "    X_res_train_valid,\n",
    "    X_res_test,\n",
    "    y_res_train_valid,\n",
    "    y_res_test,\n",
    "    names_res_train_valid,\n",
    "    names_res_test,\n",
    ") = train_test_split(\n",
    "    X_res,\n",
    "    y_res,\n",
    "    names_res,\n",
    "    test_size=TEST_SPLIT,\n",
    "    stratify=y_res,\n",
    "    random_state=random_state,\n",
    ")\n",
    "\n",
    "# split train (70%) / valid (15%)\n",
    "\n",
    "valid_ratio = VALID_SPLIT / (1 - TEST_SPLIT)\n",
    "\n",
    "X_res_train, X_res_valid, y_res_train, y_res_valid, names_res_train, names_res_valid = (\n",
    "    train_test_split(\n",
    "        X_res_train_valid,\n",
    "        y_res_train_valid,\n",
    "        names_res_train_valid,\n",
    "        test_size=valid_ratio,\n",
    "        stratify=y_res_train_valid,\n",
    "        random_state=random_state,\n",
    "    )\n",
    ")\n"
   ]
  },
  {
   "cell_type": "code",
   "execution_count": null,
   "metadata": {
    "lines_to_next_cell": 2
   },
   "outputs": [
    {
     "name": "stdout",
     "output_type": "stream",
     "text": [
      "\n",
      "=== Total ===\t17204 images\n",
      "\n",
      "Classe         Count       %\n",
      "----------------------------\n",
      "basophil        1212   7.04%\n",
      "eosinophil      3111  18.08%\n",
      "erythroblast    1551   9.02%\n",
      "ig              2892  16.81%\n",
      "lymphoblast      129   0.75%\n",
      "lymphocyte      1214   7.06%\n",
      "monocyte        1419   8.25%\n",
      "neutrophil      3328  19.34%\n",
      "platelet        2348  13.65%\n",
      "\n",
      "=== Train + Valid ===\t14623 images\n",
      "\n",
      "Classe         Count       %\n",
      "----------------------------\n",
      "basophil        1030   7.04%\n",
      "eosinophil      2644  18.08%\n",
      "erythroblast    1318   9.01%\n",
      "ig              2458  16.81%\n",
      "lymphoblast      110   0.75%\n",
      "lymphocyte      1032   7.06%\n",
      "monocyte        1206   8.25%\n",
      "neutrophil      2829  19.35%\n",
      "platelet        1996  13.65%\n",
      "\n",
      "=== Train ===\t12042 images\n",
      "\n",
      "Classe         Count       %\n",
      "----------------------------\n",
      "basophil         848   7.04%\n",
      "eosinophil      2177  18.08%\n",
      "erythroblast    1085   9.01%\n",
      "ig              2024  16.81%\n",
      "lymphoblast       91   0.76%\n",
      "lymphocyte       850   7.06%\n",
      "monocyte         993   8.25%\n",
      "neutrophil      2330  19.35%\n",
      "platelet        1644  13.65%\n",
      "\n",
      "=== Valid ===\t2581 images\n",
      "\n",
      "Classe         Count       %\n",
      "----------------------------\n",
      "basophil         182   7.05%\n",
      "eosinophil       467  18.09%\n",
      "erythroblast     233   9.03%\n",
      "ig               434  16.82%\n",
      "lymphoblast       19   0.74%\n",
      "lymphocyte       182   7.05%\n",
      "monocyte         213   8.25%\n",
      "neutrophil       499  19.33%\n",
      "platelet         352  13.64%\n",
      "\n",
      "=== Test ===\t2581 images\n",
      "\n",
      "Classe         Count       %\n",
      "----------------------------\n",
      "basophil         182   7.05%\n",
      "eosinophil       467  18.09%\n",
      "erythroblast     233   9.03%\n",
      "ig               434  16.82%\n",
      "lymphoblast       19   0.74%\n",
      "lymphocyte       182   7.05%\n",
      "monocyte         213   8.25%\n",
      "neutrophil       499  19.33%\n",
      "platelet         352  13.64%\n"
     ]
    }
   ],
   "source": [
    "# check class distribution after split\n",
    "assert y_res is not None, \"LOAD_RAW and/or LOAD_RES must be True\"\n",
    "print_class_distribution(y_res, \"Total\")\n",
    "print_class_distribution(y_res_train_valid, \"Train + Valid\")\n",
    "print_class_distribution(y_res_train, \"Train\")\n",
    "print_class_distribution(y_res_valid, \"Valid\")\n",
    "print_class_distribution(y_res_test, \"Test\")\n"
   ]
  },
  {
   "cell_type": "markdown",
   "metadata": {},
   "source": [
    "### Flatten\n",
    "Resampling needs flat train dataset"
   ]
  },
  {
   "cell_type": "code",
   "execution_count": null,
   "metadata": {
    "lines_to_next_cell": 2
   },
   "outputs": [],
   "source": [
    "X_res_flat = flatten_dataset(X_res)\n",
    "\n",
    "X_res_train_valid_flat = flatten_dataset(X_res_train_valid)\n",
    "X_res_train_flat = flatten_dataset(X_res_train)\n",
    "X_res_valid_flat = flatten_dataset(X_res_valid)\n",
    "X_res_test_flat = flatten_dataset(X_res_test)\n"
   ]
  },
  {
   "cell_type": "markdown",
   "metadata": {},
   "source": [
    "### Define Sample dataset for debugging"
   ]
  },
  {
   "cell_type": "code",
   "execution_count": null,
   "metadata": {
    "lines_to_next_cell": 2
   },
   "outputs": [],
   "source": [
    "# création de sub pour debugging\n",
    "X_sample, _, y_sample, _, names_sample, _ = train_test_split(\n",
    "    X_res,\n",
    "    y_res,\n",
    "    names_res,\n",
    "    train_size=SAMPLE_SIZE,\n",
    "    stratify=y_res,\n",
    "    random_state=random_state,\n",
    ")\n",
    "\n",
    "(\n",
    "    X_sample_train_valid,\n",
    "    X_sample_test,\n",
    "    y_sample_train_valid,\n",
    "    y_sample_test,\n",
    "    names_sample_train_valid,\n",
    "    names_sample_test,\n",
    ") = train_test_split(\n",
    "    X_sample,\n",
    "    y_sample,\n",
    "    names_sample,\n",
    "    test_size=TEST_SPLIT,\n",
    "    stratify=y_sample,\n",
    "    random_state=random_state,\n",
    ")\n",
    "\n",
    "(\n",
    "    X_sample_train,\n",
    "    X_sample_valid,\n",
    "    y_sample_train,\n",
    "    y_sample_valid,\n",
    "    names_sample_train,\n",
    "    names_sample_valid,\n",
    ") = train_test_split(\n",
    "    X_sample_train_valid,\n",
    "    y_sample_train_valid,\n",
    "    names_sample_train_valid,\n",
    "    test_size=valid_ratio,\n",
    "    stratify=y_sample_train_valid,\n",
    "    random_state=random_state,\n",
    ")\n",
    "\n",
    "X_sample_train_valid_flat = flatten_dataset(X_sample_train_valid)\n",
    "X_sample_train_flat = flatten_dataset(X_sample_train)\n"
   ]
  },
  {
   "cell_type": "markdown",
   "metadata": {
    "id": "VhL_G770ywGI"
   },
   "source": [
    "## Resampling"
   ]
  },
  {
   "cell_type": "markdown",
   "metadata": {},
   "source": [
    "### Without resampling but Using sample_weights in fit from sklearn API"
   ]
  },
  {
   "cell_type": "markdown",
   "metadata": {},
   "source": [
    "Deep Learning:\n",
    "from sklearn.preprocessing import LabelEncoder\n",
    "from sklearn.utils.class_weight import compute_class_weight\n",
    "import numpy as np\n",
    "import torch\n",
    "import tensorflow as tf\n",
    "\n",
    "#1. encode labels(str → int)\n",
    "le = LabelEncoder()\n",
    "y_train_enc = le.fit_transform(y_train)\n",
    "\n",
    "#2. compute weights\n",
    "classes = np.unique(y_train_enc)  # fonctionne avec des int ou des str\n",
    "weights = compute_class_weight(class_weight='balanced', classes=classes, y=y_train_enc)\n",
    "\n",
    "\n",
    "#----------- PyTorch ----------- instantiate criterion with class_weights and crossentropyloss, and use it during training\n",
    "\n",
    "#3. Compute criterion with class weights\n",
    "class_weights_torch = torch.tensor(weights, dtype=torch.float)\n",
    "criterion = torch.nn.CrossEntropyLoss(weight=class_weights_torch)\n",
    "#4. Model instantiation\n",
    "#model = YourModel()\n",
    "#5. During training\n",
    "outputs = model(inputs)               # outputs: shape [batch_size, num_classes]\n",
    "loss = criterion(outputs, targets)    # targets: LongTensor of class indices (no one-hot)\n",
    "\n",
    "\n",
    "#----------- TensorFlow / Keras --- without one-hot label encoding: compile model with loss = 'sparse_categorical_crossentropy' and fit with class_weights\n",
    "\n",
    "#3. compute class_weights\n",
    "class_weights = dict(zip(classes, weights))\n",
    "#4. Compile model using sparse_categorical_crossentropy\n",
    "model.compile(\n",
    "    optimizer=...,\n",
    "    loss='sparse_categorical_crossentropy',\n",
    "    metrics=[...])\n",
    "#5. fit model using class_weights\n",
    "model.fit(\n",
    "    X_train,\n",
    "    y_train_enc,\n",
    "    epochs=...,\n",
    "    batch_size=...,\n",
    "    class_weight=class_weights)\n",
    "\n",
    "#----------- TensorFlow / Keras --- with one-hot label encoding: compile model with loss = 'categorical_crossentropy' and fit with sample_weights\n",
    "#Note: it's often less efficient because sample_weight weights each example individually (and not directly the loss per class).\n",
    "\n",
    "#3. one-hot encode labels\n",
    "y_train_onehot = tf.keras.utils.to_categorical(y_train_enc)\n",
    "#4. Compute sample_weights from class_weights\n",
    "sample_weights = np.array([class_weights[label] for label in y_train_enc])          #sample_weights shape: (batch_size,)\n",
    "model.compile(\n",
    "    optimizer=...,\n",
    "    loss='categorical_crossentropy',\n",
    "    metrics=[...])\n",
    "#6. fit model using sample_weights\n",
    "model.fit(\n",
    "    X_train,\n",
    "    y_train_onehot,\n",
    "    sample_weight=sample_weights,\n",
    "    epochs=...,\n",
    "    batch_size=...)"
   ]
  },
  {
   "cell_type": "markdown",
   "metadata": {},
   "source": [
    "Exemple de cible uniforme (vers 2000–2500 par classe)\n",
    "Tu pourrais viser un dataset équilibré autour de 2000-2500 images par classe, avec par exemple :\n",
    "\n",
    "Ne rien faire pour : platelet, erythroblast, monocyte\n",
    "\n",
    "Oversampler : lymphoblast, basophil, lymphocyte\n",
    "=> using Resized dataset and Data Augmentation\n",
    "lymphoblast\t~1000 (au lieu de 130)\n",
    "basophil\t~1500\tOversampling (léger)\n",
    "lymphocyte\t~1500\tOversampling (léger)\n",
    "monocyte\t~1500\tOversampling (léger)\n",
    "\n",
    "Undersampler (éventuellement)  neutrophil, eosinophil, ig"
   ]
  },
  {
   "cell_type": "markdown",
   "metadata": {
    "id": "n995KGOs6S6R"
   },
   "source": [
    "## Binarization\n",
    "Binarization = Segmentation by Thresholding"
   ]
  },
  {
   "cell_type": "markdown",
   "metadata": {},
   "source": [
    "### Define best thresholding method"
   ]
  },
  {
   "cell_type": "code",
   "execution_count": null,
   "metadata": {
    "lines_to_next_cell": 2
   },
   "outputs": [
    {
     "name": "stdout",
     "output_type": "stream",
     "text": [
      "Otsu threshold = 0.7430742218137255\n",
      "Yen threshold  = 0.908203125\n"
     ]
    },
    {
     "name": "stderr",
     "output_type": "stream",
     "text": [
      "Computing RGB colorimetry: 100%|██████████| 3/3 [00:04<00:00,  1.47s/it]\n"
     ]
    },
    {
     "data": {
      "image/png": "[encoded data removed]",
      "text/plain": [
       "<Figure size 800x400 with 1 Axes>"
      ]
     },
     "metadata": {},
     "output_type": "display_data"
    },
    {
     "data": {
      "image/png": "[encoded data removed]",
      "text/plain": [
       "<Figure size 1500x1200 with 20 Axes>"
      ]
     },
     "metadata": {},
     "output_type": "display_data"
    }
   ],
   "source": [
    "ib = ImagesBinarizer()\n",
    "ib.fit(X_res_train)\n",
    "ib.plot_threshold_analysis(X_res_train)\n",
    "ib.show_sample(X_res_train, y_res_train, names_res_train)\n"
   ]
  },
  {
   "cell_type": "markdown",
   "metadata": {},
   "source": [
    "The threshold needs to be set before the first peak to split colored cell pixels from lighter background\n",
    "The best binarization result is obtained with a global threshold set to 0.5"
   ]
  },
  {
   "cell_type": "markdown",
   "metadata": {},
   "source": [
    "### Binarization"
   ]
  },
  {
   "cell_type": "code",
   "execution_count": null,
   "metadata": {
    "lines_to_next_cell": 2
   },
   "outputs": [
    {
     "name": "stdout",
     "output_type": "stream",
     "text": [
      "Otsu threshold = 0.7430742218137255\n",
      "Yen threshold  = 0.908203125\n"
     ]
    }
   ],
   "source": [
    "best_threshold = 0.5\n",
    "\n",
    "ib = ImagesBinarizer(best_threshold)\n",
    "\n",
    "X_bin_train = ib.fit_transform(X_res_train)\n",
    "X_bin_valid = ib.transform(X_res_valid)\n",
    "X_bin_test = ib.transform(X_res_test)\n",
    "X_bin_train_valid = ib.transform(X_res_train_valid)\n",
    "\n",
    "X_bin_train_valid_flat = flatten_dataset(X_bin_train_valid)\n",
    "X_bin_train_flat = flatten_dataset(X_bin_train)\n",
    "\n",
    "y_bin_train_valid = y_res_train_valid\n",
    "y_bin_train = y_res_train\n",
    "y_bin_valid = y_res_valid\n",
    "y_bin_test = y_res_test\n",
    "\n",
    "names_bin_train = names_res_train\n",
    "names_bin_valid = names_res_valid\n",
    "names_bin_test = names_res_test\n"
   ]
  },
  {
   "cell_type": "markdown",
   "metadata": {
    "id": "boj16iBu7XqO"
   },
   "source": [
    "# Machine Learning"
   ]
  },
  {
   "cell_type": "markdown",
   "metadata": {
    "id": "46Wk4R3e7c3s"
   },
   "source": [
    "## Evaluate performance"
   ]
  },
  {
   "cell_type": "markdown",
   "metadata": {},
   "source": [
    "TODO : early_stopping_rounds pour XGB, CAT et LGBM à 5 ou 10 et remettre iterator par défaut !?"
   ]
  },
  {
   "cell_type": "markdown",
   "metadata": {},
   "source": [
    "TODO : ajouter dataset réduction de dimension par PCA"
   ]
  },
  {
   "cell_type": "markdown",
   "metadata": {},
   "source": [
    "### Define ML models"
   ]
  },
  {
   "cell_type": "code",
   "execution_count": null,
   "metadata": {
    "editable": true,
    "lines_to_next_cell": 2,
    "slideshow": {
     "slide_type": ""
    },
    "tags": []
   },
   "outputs": [],
   "source": [
    "# Random Forest\n",
    "RF = ensemble.RandomForestClassifier(n_jobs=n_jobs, random_state=random_state)\n",
    "\n",
    "\n",
    "# Support Vector Machine\n",
    "SVM = SVC(random_state=random_state)\n",
    "# le paramètre n_jobs n'existe pas dans SVC car il utilise un seul cœur CPU\n",
    "\n",
    "# k-Nearest Neighbors\n",
    "KNN = KNeighborsClassifier(n_jobs=n_jobs)\n",
    "# le paramètre random_state n'existe pas dans KNN car c’est un algorithme non probabiliste et déterministe\n",
    "\n",
    "# XGBoost\n",
    "XGB = XGBClassifier(\n",
    "    objective=\"multi:softprob\",\n",
    "    eval_metric=\"mlogloss\",\n",
    "    n_estimators=20,  # default = 100\n",
    "    n_jobs=n_jobs,\n",
    "    tree_method=\"hist\",\n",
    "    device=\"cuda\",  # or cuda for gpu\n",
    "    random_state=random_state,\n",
    ")\n",
    "\n",
    "# CatBoost\n",
    "CAT = CatBoostClassifier(\n",
    "    iterations=20,  # default = 1000\n",
    "    thread_count=n_jobs,\n",
    "    random_seed=random_state,\n",
    "    verbose=100 * int(verbose),\n",
    ")\n",
    "\n",
    "# LightGBM\n",
    "LGBM = LGBMClassifier(\n",
    "    n_estimators=20,  # default = 100\n",
    "    # num_class=len(set(y_res_train)),\n",
    "    objective=\"multiclass\",\n",
    "    n_jobs=n_jobs,\n",
    "    random_state=random_state,\n",
    "    verbose=int(verbose),\n",
    ")\n"
   ]
  },
  {
   "cell_type": "markdown",
   "metadata": {},
   "source": [
    "### Select models"
   ]
  },
  {
   "cell_type": "code",
   "execution_count": null,
   "metadata": {
    "lines_to_next_cell": 2
   },
   "outputs": [],
   "source": [
    "models = [RF, KNN, XGB]  # default : models = [RF, SVM, KNN, XGB, LGBM, CAT]\n"
   ]
  },
  {
   "cell_type": "markdown",
   "metadata": {},
   "source": [
    "### Define datasets"
   ]
  },
  {
   "cell_type": "code",
   "execution_count": null,
   "metadata": {
    "lines_to_next_cell": 2
   },
   "outputs": [],
   "source": [
    "RES = (X_res_train, X_res_valid, y_res_train, y_res_valid, \"Resized\")\n",
    "SAM = (X_sample_train, X_sample_valid, y_sample_train, y_sample_valid, \"Sample\")\n",
    "BIN = (X_bin_train, X_bin_valid, y_bin_train, y_bin_valid, \"Binarized\")\n"
   ]
  },
  {
   "cell_type": "markdown",
   "metadata": {},
   "source": [
    "### Select datasets"
   ]
  },
  {
   "cell_type": "code",
   "execution_count": null,
   "metadata": {
    "lines_to_next_cell": 2
   },
   "outputs": [],
   "source": [
    "datasets = [BIN]  # default = [RES, SAM, BIN]\n"
   ]
  },
  {
   "cell_type": "markdown",
   "metadata": {},
   "source": [
    "### Evaluate performances"
   ]
  },
  {
   "cell_type": "code",
   "execution_count": null,
   "metadata": {
    "lines_to_next_cell": 2
   },
   "outputs": [],
   "source": [
    "if PERF_ML:\n",
    "    ML_global_perf = evaluate_ML_global(\n",
    "        models, datasets, balanced_weights=True, verbose=True\n",
    "    )\n"
   ]
  },
  {
   "cell_type": "markdown",
   "metadata": {
    "editable": true,
    "slideshow": {
     "slide_type": ""
    },
    "tags": []
   },
   "source": [
    "## Fine tuning by Cross Validation\n",
    "Random Forest classifier with Resized dataset\n",
    "XGBoost classifier et LGBM with Binarized dataset\n",
    "\n",
    "TODO : il faut fusionner train et valid car la CV génère son set de validation !"
   ]
  },
  {
   "cell_type": "code",
   "execution_count": null,
   "metadata": {
    "lines_to_next_cell": 2
   },
   "outputs": [
    {
     "data": {
      "text/plain": [
       "['/home/did/Windows/Downloads/joblib/labelencoder_trainvalid_v1.joblib']"
      ]
     },
     "execution_count": 30,
     "metadata": {},
     "output_type": "execute_result"
    }
   ],
   "source": [
    "encoder = LabelEncoder()\n",
    "y_res_encoded = encoder.fit_transform(y_res)\n",
    "y_res_train_valid_encoded = encoder.transform(y_res_train_valid)\n",
    "y_sample_train_valid_encoded = encoder.transform(y_sample_train_valid)\n",
    "y_bin_train_valid_encoded = encoder.transform(y_bin_train_valid)\n",
    "\n",
    "# Sauvegarder\n",
    "path = os.path.join(PATH_JOBLIB, \"labelencoder_trainvalid_v1.joblib\")\n",
    "joblib.dump(encoder, path)\n"
   ]
  },
  {
   "cell_type": "code",
   "execution_count": null,
   "metadata": {
    "lines_to_next_cell": 2
   },
   "outputs": [],
   "source": [
    "# conversion des 'numpy.uint8' en float32 normalisé pour faciliter le traitement par classifier\n",
    "\n",
    "X_res_flat = X_res_flat.astype(\"float32\") / 255.0\n",
    "\n",
    "X_res_train_valid_flat = X_res_train_valid_flat.astype(\"float32\") / 255.0\n",
    "X_res_train_flat = X_res_train_flat.astype(\"float32\") / 255.0\n",
    "X_res_valid_flat = X_res_valid_flat.astype(\"float32\") / 255.0\n",
    "X_res_test_flat = X_res_test_flat.astype(\"float32\") / 255.0\n",
    "\n",
    "X_sample_train_valid_flat = X_sample_train_valid_flat.astype(\"float32\") / 255.0\n",
    "X_sample_train_flat = X_sample_train_flat.astype(\"float32\") / 255.0\n",
    "\n",
    "# X_bin ont des valeurs binaires uint8 sont converties en float32 mais pas /255.0\n",
    "X_bin_train_valid_flat = X_bin_train_valid_flat.astype(\"float32\")\n",
    "X_bin_train_flat = X_bin_train_flat.astype(\"float32\")\n"
   ]
  },
  {
   "cell_type": "markdown",
   "metadata": {},
   "source": [
    "### Random Forest"
   ]
  },
  {
   "cell_type": "markdown",
   "metadata": {},
   "source": [
    "#### using RandomizedSearchCV (faster and larger)\n",
    "with StratifiedKFold"
   ]
  },
  {
   "cell_type": "code",
   "execution_count": null,
   "metadata": {
    "lines_to_next_cell": 2
   },
   "outputs": [],
   "source": [
    "# start_time = time.perf_counter()\n",
    "\n",
    "rf = ensemble.RandomForestClassifier(n_jobs=1, random_state=random_state)\n",
    "# n_jobs = 1 car le parallélisme se fera sur le CV\n",
    "\n",
    "param_dist = {\n",
    "    \"n_estimators\": randint(50, 1001),  # entre 100 et 500 arbres\n",
    "    \"max_features\": [\"sqrt\", \"log2\"],  # mix catégorique + floats\n",
    "    \"max_depth\": [None, 10, 20, 30, 50, 100],\n",
    "    \"min_samples_split\": randint(2, 21),  # entre 2 et 10\n",
    "    \"min_samples_leaf\": randint(1, 10),  # entre 1 et 4\n",
    "    \"bootstrap\": [True, False],\n",
    "}\n",
    "\n",
    "cv = StratifiedKFold(\n",
    "    n_splits=5, shuffle=True, random_state=random_state\n",
    ")  # ici on peut utiliser cv=5 car on limite le nombre de candidats avec n_iter\n",
    "\n",
    "scoring = [\"accuracy\", \"balanced_accuracy\", \"neg_log_loss\"]\n",
    "\n",
    "randomized_CV_RF = RandomizedSearchCV(\n",
    "    estimator=rf,\n",
    "    param_distributions=param_dist,\n",
    "    n_iter=5,  # 500,  # commencer par 1 puis adapter selon ton temps disponible\n",
    "    cv=cv,\n",
    "    n_jobs=n_jobs,\n",
    "    random_state=random_state,\n",
    "    verbose=int(verbose),\n",
    "    scoring=scoring,\n",
    "    refit=\"neg_log_loss\",  # on priorise logloss a accuracy pendant le tuning\n",
    ")\n",
    "\n",
    "best_params = {}  # to remove type warning...\n",
    "\n",
    "if TUNE_RF:\n",
    "    if TUNE_DS == \"RES\":\n",
    "        randomized_CV_RF.fit(X_res_train_flat, y_res_train)\n",
    "    elif TUNE_DS == \"SAM\":\n",
    "        randomized_CV_RF.fit(X_sample_train_flat, y_sample_train)\n",
    "    elif TUNE_DS == \"BIN\":\n",
    "        randomized_CV_RF.fit(X_bin_train_flat, y_bin_train)\n",
    "\n",
    "    # stop_time = time.perf_counter()\n",
    "\n",
    "    best_params = randomized_CV_RF.best_params_\n",
    "    # best_randomizedCV_rf = randomized_CV_RF.best_estimator_\n",
    "\n",
    "    # duration = int(stop_time - start_time)\n",
    "    # print_CV_results(randomized_CV_RF, duration)\n",
    "\n",
    "    # sauvegarder csv\n",
    "    results_df = pd.DataFrame(randomized_CV_RF.cv_results_)\n",
    "    results_df[\"mean_test_logloss\"] = -results_df[\"mean_test_neg_log_loss\"]\n",
    "    results_df[\"std_test_logloss\"] = results_df[\"std_test_neg_log_loss\"]\n",
    "    results_df[\"rank_test_logloss\"] = results_df[\"rank_test_neg_log_loss\"]\n",
    "    results_df.sort_values(by=\"mean_test_logloss\", inplace=True)\n",
    "\n",
    "    timestamp = datetime.now().strftime(\"%Y%m%d_%H%M\")\n",
    "    path = os.path.join(PATH_JOBLIB, f\"rf_random_cv_results_{timestamp}.csv\")\n",
    "    results_df.to_csv(path, index=False)\n",
    "\n",
    "    if verbose:\n",
    "        display(\n",
    "            results_df[\n",
    "                [\n",
    "                    \"params\",\n",
    "                    \"mean_test_accuracy\",\n",
    "                    \"mean_test_balanced_accuracy\",\n",
    "                    \"mean_test_logloss\",\n",
    "                ]\n",
    "            ].head(10)\n",
    "        )\n"
   ]
  },
  {
   "cell_type": "markdown",
   "metadata": {},
   "source": [
    "#### using GridSearchCV (exhaustive)\n",
    "with StratifiedKFold"
   ]
  },
  {
   "cell_type": "code",
   "execution_count": null,
   "metadata": {
    "lines_to_next_cell": 2
   },
   "outputs": [],
   "source": [
    "# start_time = time.perf_counter()\n",
    "if TUNE_RF:\n",
    "    rf = ensemble.RandomForestClassifier(n_jobs=1, random_state=random_state)\n",
    "    # n_jobs = 1 car le parallélisme se fera sur le CV\n",
    "\n",
    "    \"\"\"\n",
    "    param_grid = {\n",
    "        \"n_estimators\": [100, 200, 300],  # nombre d’arbres\n",
    "        \"max_depth\": [None, 20, 40],  # profondeur max (None = jusqu'à pureté)\n",
    "        \"min_samples_split\": [2, 5, 10],  # min samples pour un split\n",
    "        \"min_samples_leaf\": [1, 2, 4],  # min samples dans une feuille\n",
    "        \"max_features\": [\"sqrt\", \"log2\"],  # nombre de features à tester à chaque split\n",
    "    }\n",
    "    \"\"\"\n",
    "    param_grid = {\n",
    "        \"n_estimators\": [\n",
    "            max(100, best_params[\"n_estimators\"] - 50),\n",
    "            best_params[\"n_estimators\"],\n",
    "            best_params[\"n_estimators\"] + 50,\n",
    "        ],\n",
    "        \"max_features\": (\n",
    "            [\"sqrt\", \"log2\"]\n",
    "            if best_params[\"max_features\"] in [\"sqrt\", \"log2\"]\n",
    "            else [best_params[\"max_features\"]]\n",
    "        ),\n",
    "        \"max_depth\": (\n",
    "            [\n",
    "                max(1, best_params[\"max_depth\"] - 5),\n",
    "                best_params[\"max_depth\"],\n",
    "                best_params[\"max_depth\"] + 5,\n",
    "            ]\n",
    "            if best_params[\"max_depth\"] is not None\n",
    "            else [50, 100, None]\n",
    "        ),\n",
    "        \"min_samples_split\": sorted(\n",
    "            {\n",
    "                max(2, best_params[\"min_samples_split\"] - 1),\n",
    "                best_params[\"min_samples_split\"],\n",
    "                best_params[\"min_samples_split\"] + 1,\n",
    "            }\n",
    "        ),\n",
    "        \"min_samples_leaf\": sorted(\n",
    "            {\n",
    "                max(1, best_params[\"min_samples_leaf\"] - 1),\n",
    "                best_params[\"min_samples_leaf\"],\n",
    "                best_params[\"min_samples_leaf\"] + 1,\n",
    "            }\n",
    "        ),\n",
    "        \"bootstrap\": [best_params[\"bootstrap\"]],\n",
    "    }\n",
    "\n",
    "    cv = StratifiedKFold(n_splits=5, shuffle=True, random_state=random_state)\n",
    "\n",
    "    scoring = [\"accuracy\", \"balanced_accuracy\", \"neg_log_loss\"]\n",
    "\n",
    "    grid_CV_RF = GridSearchCV(\n",
    "        estimator=rf,\n",
    "        param_grid=param_grid,\n",
    "        scoring=scoring,\n",
    "        refit=\"neg_log_loss\",\n",
    "        cv=cv,\n",
    "        n_jobs=n_jobs,\n",
    "        verbose=int(verbose),\n",
    "    )\n",
    "\n",
    "    if TUNE_DS == \"RES\":\n",
    "        grid_CV_RF.fit(X_res_train_flat, y_res_train)\n",
    "    elif TUNE_DS == \"SAM\":\n",
    "        grid_CV_RF.fit(X_sample_train_flat, y_sample_train)\n",
    "    elif TUNE_DS == \"BIN\":\n",
    "        grid_CV_RF.fit(X_bin_train_flat, y_bin_train)\n",
    "\n",
    "    # if verbose:\n",
    "    # stop_time = time.perf_counter()\n",
    "    # duration = int(stop_time - start_time)\n",
    "    # print_CV_results(grid_CV_RF, duration)\n",
    "\n",
    "    best_rf_grid_cv = grid_CV_RF.best_estimator_\n",
    "\n",
    "    # sauvegarder csv\n",
    "    results_df = pd.DataFrame(grid_CV_RF.cv_results_)\n",
    "    results_df[\"mean_test_logloss\"] = -results_df[\"mean_test_neg_log_loss\"]\n",
    "    results_df[\"std_test_logloss\"] = results_df[\"std_test_neg_log_loss\"]\n",
    "    results_df[\"rank_test_logloss\"] = results_df[\"rank_test_neg_log_loss\"]\n",
    "    results_df.sort_values(by=\"mean_test_logloss\", inplace=True)\n",
    "\n",
    "    timestamp = datetime.now().strftime(\"%Y%m%d_%H%M\")\n",
    "    path = os.path.join(PATH_JOBLIB, f\"rf_grid_cv_results_{timestamp}.csv\")\n",
    "    results_df.to_csv(path, index=False)\n",
    "\n",
    "    if verbose:\n",
    "        display(\n",
    "            results_df[\n",
    "                [\n",
    "                    \"params\",\n",
    "                    \"mean_test_accuracy\",\n",
    "                    \"mean_test_balanced_accuracy\",\n",
    "                    \"mean_test_logloss\",\n",
    "                ]\n",
    "            ].head(10)\n",
    "        )\n",
    "\n",
    "    # sauvegarder\n",
    "    path = os.path.join(PATH_JOBLIB, \"rf_tuned_gridcv_trainvalid_fitted_v1.joblib\")\n",
    "    joblib.dump(best_rf_grid_cv, path)\n"
   ]
  },
  {
   "cell_type": "markdown",
   "metadata": {},
   "source": [
    "### XGBoost"
   ]
  },
  {
   "cell_type": "markdown",
   "metadata": {},
   "source": [
    "#### using RandomizedSearchCV"
   ]
  },
  {
   "cell_type": "code",
   "execution_count": null,
   "metadata": {
    "lines_to_next_cell": 2
   },
   "outputs": [
    {
     "data": {
      "text/plain": [
       "'\\nstart_time = time.perf_counter()\\n\\nXGB = XGBClassifier(\\n    objective=\"multi:softprob\",\\n    eval_metric=\"mlogloss\",\\n    n_estimators=20,  # default = 100\\n    n_jobs=1,\\n    tree_method=\"hist\",\\n    device=\"cuda\",\\n    random_state=random_state,\\n)\\n# n_jobs = 1 car le parallélisme se fera sur le CV\\n\\nparam_dist = {\\n    \"max_depth\": [3, 6],  # 1 Profondeur max des arbres: 3 à 6 = limite overfitting\\n    \"learning_rate\": [\\n        0.1,\\n        0.01,\\n    ],  # 2 Taille des pas de gradient: 0.1 (rapide), 0.01 (plus précis)\\n    \"subsample\": [\\n        0.8\\n    ],  # [0.8, 1.0],          #4 Pourcentage d\\'échantillons: 0.8 pour du bagging\\n    \"colsample_bytree\": [\\n        0.6\\n    ],  # [0.6, 0.8],          #5 Proportion de features utilisées par arbre\\t0.6-0.8 (cruciale avec beaucoup de features)\\n    \"gamma\": [\\n        0,\\n        1,\\n    ],  # 6 Gain minimal pour scinder un nœud: 0 ou 1 (régularisation légère)\\n}\\n\\ncv = StratifiedKFold(\\n    n_splits=5, shuffle=True, random_state=random_state\\n)  # ici on peut utiliser cv=5 car on limite le nombre de candidats avec n_iter\\n\\nrandomized_CV = RandomizedSearchCV(\\n    estimator=XGB,\\n    param_distributions=param_dist,\\n    n_iter=1,  # commencer par 1 puis adapter selon ton temps disponible\\n    cv=cv,\\n    n_jobs=n_jobs,\\n    random_state=random_state,\\n    verbose=3 * int(verbose),\\n)\\n\\nencoder = LabelEncoder()\\n\\n\\nif TUNE_XGB:\\n    if not USE_SAMPLE:\\n        y_enc = encoder.fit_transform(y_res_train_valid)\\n        randomized_CV.fit(X_res_train_valid_flat, y_enc)\\n    else:\\n        y_enc = encoder.fit_transform(y_sample_train_valid)\\n        randomized_CV.fit(X_sample_train_valid_flat, y_enc)\\n    best_randomizedCV_rf = randomized_CV.best_estimator_\\n    if verbose:\\n        stop_time = time.perf_counter()\\n        duration = int(stop_time - start_time)\\n        print_CV_results(randomized_CV, duration)\\n'"
      ]
     },
     "execution_count": 34,
     "metadata": {},
     "output_type": "execute_result"
    }
   ],
   "source": [
    "# NE PERMET PAS DE FAIRE DU EARLY STOPPING et FAIT mourir LE NOYAU\n",
    "# FAIRE GRID SEARCH ET RANDOM SEARCH MANUELLEMENT\n",
    "\"\"\"\n",
    "start_time = time.perf_counter()\n",
    "\n",
    "XGB = XGBClassifier(\n",
    "    objective=\"multi:softprob\",\n",
    "    eval_metric=\"mlogloss\",\n",
    "    n_estimators=20,  # default = 100\n",
    "    n_jobs=1,\n",
    "    tree_method=\"hist\",\n",
    "    device=\"cuda\",\n",
    "    random_state=random_state,\n",
    ")\n",
    "# n_jobs = 1 car le parallélisme se fera sur le CV\n",
    "\n",
    "param_dist = {\n",
    "    \"max_depth\": [3, 6],  # 1 Profondeur max des arbres: 3 à 6 = limite overfitting\n",
    "    \"learning_rate\": [\n",
    "        0.1,\n",
    "        0.01,\n",
    "    ],  # 2 Taille des pas de gradient: 0.1 (rapide), 0.01 (plus précis)\n",
    "    \"subsample\": [\n",
    "        0.8\n",
    "    ],  # [0.8, 1.0],          #4 Pourcentage d'échantillons: 0.8 pour du bagging\n",
    "    \"colsample_bytree\": [\n",
    "        0.6\n",
    "    ],  # [0.6, 0.8],          #5 Proportion de features utilisées par arbre\t0.6-0.8 (cruciale avec beaucoup de features)\n",
    "    \"gamma\": [\n",
    "        0,\n",
    "        1,\n",
    "    ],  # 6 Gain minimal pour scinder un nœud: 0 ou 1 (régularisation légère)\n",
    "}\n",
    "\n",
    "cv = StratifiedKFold(\n",
    "    n_splits=5, shuffle=True, random_state=random_state\n",
    ")  # ici on peut utiliser cv=5 car on limite le nombre de candidats avec n_iter\n",
    "\n",
    "randomized_CV = RandomizedSearchCV(\n",
    "    estimator=XGB,\n",
    "    param_distributions=param_dist,\n",
    "    n_iter=1,  # commencer par 1 puis adapter selon ton temps disponible\n",
    "    cv=cv,\n",
    "    n_jobs=n_jobs,\n",
    "    random_state=random_state,\n",
    "    verbose=3 * int(verbose),\n",
    ")\n",
    "\n",
    "encoder = LabelEncoder()\n",
    "\n",
    "\n",
    "if TUNE_XGB:\n",
    "    if not USE_SAMPLE:\n",
    "        y_enc = encoder.fit_transform(y_res_train_valid)\n",
    "        randomized_CV.fit(X_res_train_valid_flat, y_enc)\n",
    "    else:\n",
    "        y_enc = encoder.fit_transform(y_sample_train_valid)\n",
    "        randomized_CV.fit(X_sample_train_valid_flat, y_enc)\n",
    "    best_randomizedCV_rf = randomized_CV.best_estimator_\n",
    "    if verbose:\n",
    "        stop_time = time.perf_counter()\n",
    "        duration = int(stop_time - start_time)\n",
    "        print_CV_results(randomized_CV, duration)\n",
    "\"\"\"\n"
   ]
  },
  {
   "cell_type": "markdown",
   "metadata": {},
   "source": [
    "using xgb.cv()"
   ]
  },
  {
   "cell_type": "code",
   "execution_count": null,
   "metadata": {
    "lines_to_next_cell": 2
   },
   "outputs": [],
   "source": [
    "start_time = time.perf_counter()\n",
    "\n",
    "if TUNE_XGB:\n",
    "\n",
    "    if TUNE_DS == \"RES\":\n",
    "        X_flat = X_res_train_valid_flat\n",
    "        y_enc = encoder.transform(y_res_train_valid)\n",
    "    elif TUNE_DS == \"SAM\":\n",
    "        X_flat = X_sample_train_valid_flat\n",
    "        y_enc = encoder.transform(y_sample_train_valid)\n",
    "    elif TUNE_DS == \"BIN\":\n",
    "        X_flat = X_bin_train_valid_flat\n",
    "        y_enc = encoder.transform(y_bin_train_valid)\n",
    "\n",
    "    param_grid = {\n",
    "        \"max_depth\": [3, 6],  # 1 Profondeur max des arbres: 3 à 6 = limite overfitting\n",
    "        \"learning_rate\": [\n",
    "            0.1,\n",
    "            0.01,\n",
    "        ],  # 2 Taille des pas de gradient: 0.1 (rapide), 0.01 (plus précis)\n",
    "        \"subsample\": [\n",
    "            0.8\n",
    "        ],  # [0.8, 1.0],          #4 Pourcentage d’échantillons: 0.8 pour du bagging\n",
    "        \"colsample_bytree\": [\n",
    "            0.6\n",
    "        ],  # [0.6, 0.8],          #5 Proportion de features utilisées par arbre\t0.6–0.8 (cruciale avec beaucoup de features)\n",
    "        \"gamma\": [\n",
    "            0,\n",
    "            1,\n",
    "        ],  # 6 Gain minimal pour scinder un nœud: 0 ou 1 (régularisation légère)\n",
    "    }\n",
    "\n",
    "    weights = compute_sample_weight(\"balanced\", y_enc)  # type: ignore\n",
    "    dtrain = xgb.DMatrix(X_flat, label=y_enc, weight=weights)  # type: ignore\n",
    "\n",
    "    num_boost_round = 5  # 50 ou 100\n",
    "    nfold = 3  # ou 5\n",
    "\n",
    "    best_score = float(\"inf\")  # on cherche à minimiser score = mlogloss\n",
    "    best_idx = None\n",
    "    best_logloss_std = None\n",
    "    best_acc_mean = None\n",
    "    best_acc_std = None\n",
    "    best_params = None\n",
    "    best_num_boost_round = None\n",
    "    all_results = []\n",
    "\n",
    "    n_candidates = 1\n",
    "    for v in param_grid.values():\n",
    "        n_candidates *= len(v)\n",
    "\n",
    "    for idx, (\n",
    "        max_depth,\n",
    "        learning_rate,\n",
    "        subsample,\n",
    "        colsample_bytree,\n",
    "        gamma,\n",
    "    ) in enumerate(\n",
    "        tqdm(\n",
    "            itertools.product(*param_grid.values()),\n",
    "            total=n_candidates,\n",
    "            desc=\"Grid search\",\n",
    "        )\n",
    "    ):\n",
    "\n",
    "        params = {\n",
    "            \"objective\": \"multi:softprob\",\n",
    "            \"num_class\": len(set(y_enc)),  # type: ignore\n",
    "            \"eval_metric\": [\n",
    "                \"merror\",\n",
    "                \"mlogloss\",\n",
    "            ],  # early stopping sur merror (la dernière)\n",
    "            \"n_jobs\": n_jobs,\n",
    "            \"verbosity\": int(\n",
    "                verbose\n",
    "            ),  # The degree of verbosity. Valid values are 0 (silent) - 3 (debug).\n",
    "            \"seed\": random_state,\n",
    "            \"tree_method\": \"hist\",  # réduit considérablement la RAM utilisée au détriment d’un temps de training un peu plus long\n",
    "            \"device\": \"cuda\",  # not enough memory for cuda\n",
    "            \"max_depth\": max_depth,\n",
    "            \"learning_rate\": learning_rate,\n",
    "            \"subsample\": subsample,\n",
    "            \"colsample_bytree\": colsample_bytree,\n",
    "            \"gamma\": gamma,\n",
    "        }\n",
    "\n",
    "        cv_results = xgb.cv(\n",
    "            params,\n",
    "            dtrain,\n",
    "            num_boost_round=num_boost_round,  # ou 100\n",
    "            nfold=nfold,\n",
    "            stratified=True,\n",
    "            shuffle=True,\n",
    "            early_stopping_rounds=5,  # ou 10\n",
    "            metrics=[\"merror\", \"mlogloss\"],  # pour les deux colonnes dans le CV\n",
    "            seed=random_state,\n",
    "            verbose_eval=5 * int(verbose),\n",
    "        )  # log every 5 rounds\n",
    "\n",
    "        best_round_idx = cv_results[\"test-mlogloss-mean\"].idxmin()  # type: ignore # indice du meilleur round (min logloss)\n",
    "        best_round_logloss_mean = cv_results.loc[best_round_idx, \"test-mlogloss-mean\"]  # type: ignore # logloss moyenne au meilleur round\n",
    "        best_round_logloss_std = cv_results.loc[best_round_idx, \"test-mlogloss-std\"]  # type: ignore\n",
    "        best_round_acc_mean = 1 - cv_results.loc[best_round_idx, \"test-merror-mean\"]  # type: ignore # accuracy moyenne au meilleur round\n",
    "        best_round_acc_std = cv_results.loc[best_round_idx, \"test-merror-std\"]  # type: ignore # std de l’erreur au meilleur round = std de l'accuracy\n",
    "        best_round_num_boost_round = best_round_idx + 1  # type: ignore\n",
    "        # +1 car idxmin() retourne l'index (0-based)\n",
    "\n",
    "        all_results.append(\n",
    "            {\n",
    "                \"idx\": idx,\n",
    "                \"params\": params,\n",
    "                \"logloss_mean\": best_round_logloss_mean,\n",
    "                \"logloss_std\": best_round_logloss_std,\n",
    "                \"acc_mean\": best_round_acc_mean,\n",
    "                \"acc_std\": best_round_acc_std,\n",
    "                \"num_boost_round\": best_round_num_boost_round,\n",
    "            }\n",
    "        )\n",
    "\n",
    "        if best_round_logloss_mean < best_score:  # type: ignore\n",
    "            best_idx = idx\n",
    "            best_score = best_round_logloss_mean  # logloss de la meilleure combinaison de paramètres rencontrée jusqu'ici\n",
    "            best_logloss_std = best_round_logloss_std\n",
    "            best_acc_mean = best_round_acc_mean\n",
    "            best_acc_std = best_round_acc_std\n",
    "            best_params = params\n",
    "            best_num_boost_round = best_round_num_boost_round\n",
    "\n",
    "    if verbose:\n",
    "        stop_time = time.perf_counter()\n",
    "        duration = stop_time - start_time\n",
    "        print(f\"📊 XGBClassifier fitted using CV in {int(duration)}s\")\n",
    "        print(f\"{nfold} folds for each of {n_candidates} candidates, totalling {nfold*n_candidates} fits\")  # type: ignore\n",
    "        print(f\"Mean duration per fit: {duration/(nfold*n_candidates):.1f}s\")\n",
    "        print(f\"Best candidate is #{best_idx} (best mlogloss on test = {best_score})\")\n",
    "        print(f\"\\t• mean test logloss : {best_score:.4f}\")\n",
    "        print(f\"\\t• std  test logloss : {best_logloss_std:.4f}\")\n",
    "        print(f\"\\t• mean test accuracy: {best_acc_mean:.4f}\")\n",
    "        print(f\"\\t• std  test accuracy: {best_acc_std:.4f}\")\n",
    "        print(\"\\t• params:\", best_params)\n",
    "        print(\"\\t• number of trees:\", best_num_boost_round)\n",
    "\n",
    "    assert best_params is not None, \"Grid search failed to find any parameters\"\n",
    "    best_xgb = XGBClassifier(**best_params, n_estimators=best_num_boost_round)  # type: ignore\n",
    "\n",
    "    all_results = sorted(\n",
    "        all_results, key=lambda x: x[\"logloss_mean\"]\n",
    "    )  # tri par logloss croissante\n",
    "    print(\"\\nTop 5 configurations:\")\n",
    "    for r in all_results[:5]:\n",
    "        print(\n",
    "            f\"• logloss={r['logloss_mean']:.4f}, acc={r['acc_mean']:.4f}, rounds={r['num_boost_round']}, depth={r['params']['max_depth']}, lr={r['params']['learning_rate']}\"\n",
    "        )\n",
    "\n",
    "    results_df = pd.DataFrame(all_results)\n",
    "    display(results_df.head())\n",
    "\n",
    "    timestamp = datetime.now().strftime(\"%Y%m%d_%H%M\")\n",
    "    path = os.path.join(PATH_JOBLIB, f\"xgb_grid_cv_results_{timestamp}.csv\")\n",
    "    results_df.to_csv(path, index=False)\n",
    "\n",
    "    # Sauvegarder le modèle non fitted\n",
    "    best_xgb.set_params(n_jobs=1)\n",
    "    # best_xgb.set_params(device=\"cuda\")\n",
    "    path = os.path.join(PATH_JOBLIB, \"xgb_tuned_gridcv_trainvalid_unfit_v1.joblib\")\n",
    "    joblib.dump(best_xgb, path)\n"
   ]
  },
  {
   "cell_type": "markdown",
   "metadata": {},
   "source": [
    "## Entraînement et Calibration par CV\n",
    "on Train+Valid sets"
   ]
  },
  {
   "cell_type": "markdown",
   "metadata": {},
   "source": [
    "### Random Forest"
   ]
  },
  {
   "cell_type": "code",
   "execution_count": null,
   "metadata": {
    "lines_to_next_cell": 2
   },
   "outputs": [],
   "source": [
    "if CALIB_RF:\n",
    "\n",
    "    # charger\n",
    "\n",
    "    path = os.path.join(PATH_JOBLIB, \"rf_tuned_gridcv_trainvalid_fitted_v1.joblib\")\n",
    "    best_rf_grid_cv = joblib.load(path)\n",
    "\n",
    "    model = clone(best_rf_grid_cv)\n",
    "    # clone pour avoir le modèle non entraîné (a priori inutile car CalibratedClassifierCV utilise un clone de l'estimator...)\n",
    "\n",
    "    cv = StratifiedKFold(n_splits=5, shuffle=True, random_state=random_state)\n",
    "\n",
    "    calibrated_rf = CalibratedClassifierCV(\n",
    "        estimator=model,\n",
    "        method=\"isotonic\",\n",
    "        cv=cv,  # on pourrait utiliser cv=5 directement qui est stratifié mais sans shuffle...\n",
    "        ensemble=False,  # ensemble = True est plus performant mais produit 5 couples (estimator, calibrator...)\n",
    "        n_jobs=n_jobs,\n",
    "    )\n",
    "\n",
    "    print(calibrated_rf)\n",
    "\n",
    "    if TUNE_DS == \"RES\":\n",
    "        sample_weights = compute_sample_weight(\"balanced\", y_res_train_valid_encoded)\n",
    "        calibrated_rf.fit(\n",
    "            X_res_train_valid_flat,\n",
    "            y_res_train_valid_encoded,\n",
    "            sample_weight=sample_weights,\n",
    "        )\n",
    "    elif TUNE_DS == \"SAM\":\n",
    "        sample_weights = compute_sample_weight(\"balanced\", y_sample_train_valid_encoded)\n",
    "        calibrated_rf.fit(\n",
    "            X_sample_train_valid_flat,\n",
    "            y_sample_train_valid_encoded,\n",
    "            sample_weight=sample_weights,\n",
    "        )\n",
    "    elif TUNE_DS == \"BIN\":\n",
    "        sample_weights = compute_sample_weight(\"balanced\", y_bin_train_valid_encoded)\n",
    "        calibrated_rf.fit(\n",
    "            X_bin_train_valid_flat,\n",
    "            y_bin_train_valid_encoded,\n",
    "            sample_weight=sample_weights,\n",
    "        )\n",
    "\n",
    "    # sauvegarder\n",
    "    path = os.path.join(\n",
    "        PATH_JOBLIB, \"rf_final_calibrated_isotonic_cv_trainvalid_v1.joblib\"\n",
    "    )\n",
    "    joblib.dump(calibrated_rf, path)\n"
   ]
  },
  {
   "cell_type": "markdown",
   "metadata": {},
   "source": [
    "### XGBoost"
   ]
  },
  {
   "cell_type": "code",
   "execution_count": null,
   "metadata": {
    "lines_to_next_cell": 2
   },
   "outputs": [],
   "source": [
    "if CALIB_XGB:\n",
    "    # charger\n",
    "    path = os.path.join(PATH_JOBLIB, \"xgb_tuned_gridcv_trainvalid_unfit_v1.joblib\")\n",
    "    best_xgb = joblib.load(path)\n",
    "\n",
    "    model = best_xgb  # ici on ne clone pas car clone fait bug + inutile car xgb est unfitted\n",
    "\n",
    "    cv = StratifiedKFold(n_splits=5, shuffle=True, random_state=random_state)\n",
    "\n",
    "    calibrated_xgb = CalibratedClassifierCV(\n",
    "        estimator=model,\n",
    "        method=\"isotonic\",\n",
    "        cv=cv,\n",
    "        ensemble=False,\n",
    "        n_jobs=n_jobs,\n",
    "    )\n",
    "\n",
    "    print(calibrated_xgb)\n",
    "\n",
    "    if TUNE_DS == \"RES\":\n",
    "        sample_weights = compute_sample_weight(\"balanced\", y_res_train_valid_encoded)\n",
    "        calibrated_xgb.fit(\n",
    "            X_res_train_valid_flat,\n",
    "            y_res_train_valid_encoded,\n",
    "            sample_weight=sample_weights,\n",
    "        )\n",
    "    elif TUNE_DS == \"SAM\":\n",
    "        sample_weights = compute_sample_weight(\"balanced\", y_sample_train_valid_encoded)\n",
    "        calibrated_xgb.fit(\n",
    "            X_sample_train_valid_flat,\n",
    "            y_sample_train_valid_encoded,\n",
    "            sample_weight=sample_weights,\n",
    "        )\n",
    "    elif TUNE_DS == \"BIN\":\n",
    "        sample_weights = compute_sample_weight(\"balanced\", y_bin_train_valid_encoded)\n",
    "        calibrated_xgb.fit(\n",
    "            X_bin_train_valid_flat,\n",
    "            y_bin_train_valid_encoded,\n",
    "            sample_weight=sample_weights,\n",
    "        )\n",
    "\n",
    "    # sauvegarder\n",
    "    path = os.path.join(\n",
    "        PATH_JOBLIB, \"xgb_final_calibrated_isotonic_cv_trainvalid_v1.joblib\"\n",
    "    )\n",
    "    joblib.dump(calibrated_xgb, path)\n"
   ]
  },
  {
   "cell_type": "code",
   "execution_count": null,
   "metadata": {
    "lines_to_next_cell": 2
   },
   "outputs": [
    {
     "data": {
      "text/plain": [
       "'\\nif CALIB:\\n\\n    # charger\\n    path = os.path.join(PATH_JOBLIB, \"xgb_tuned_gridcv_trainvalid_unfit_v1.joblib\")\\n    best_xgb = joblib.load(path)\\n\\n    model = clone(best_xgb)\\n    print(model)\\n\\n    y_res_train_encoded = encoder.transform(y_res_train)\\n\\n    sample_weights = compute_sample_weight(\"balanced\", y_res_train_encoded)\\n    model.fit(X_res_train_flat, y_res_train_encoded, sample_weight=sample_weights)\\n\\n    # sauvegarder\\n    path = os.path.join(PATH_JOBLIB, \"xgb_tuned_gridcv_fitted_train_v1.joblib\")\\n    joblib.dump(model, path)\\n'"
      ]
     },
     "execution_count": 38,
     "metadata": {},
     "output_type": "execute_result"
    }
   ],
   "source": [
    "\"\"\"\n",
    "if CALIB:\n",
    "\n",
    "    # charger\n",
    "    path = os.path.join(PATH_JOBLIB, \"xgb_tuned_gridcv_trainvalid_unfit_v1.joblib\")\n",
    "    best_xgb = joblib.load(path)\n",
    "\n",
    "    model = clone(best_xgb)\n",
    "    print(model)\n",
    "\n",
    "    y_res_train_encoded = encoder.transform(y_res_train)\n",
    "\n",
    "    sample_weights = compute_sample_weight(\"balanced\", y_res_train_encoded)\n",
    "    model.fit(X_res_train_flat, y_res_train_encoded, sample_weight=sample_weights)\n",
    "\n",
    "    # sauvegarder\n",
    "    path = os.path.join(PATH_JOBLIB, \"xgb_tuned_gridcv_fitted_train_v1.joblib\")\n",
    "    joblib.dump(model, path)\n",
    "\"\"\"\n"
   ]
  },
  {
   "cell_type": "code",
   "execution_count": null,
   "metadata": {
    "lines_to_next_cell": 2
   },
   "outputs": [
    {
     "data": {
      "text/plain": [
       "'\\nif CALIB:\\n\\n    # charger\\n    path = os.path.join(PATH_JOBLIB, \"xgb_tuned_gridcv_fitted_train_v1.joblib\")\\n    model = joblib.load(path)\\n\\n    frozen_model = FrozenEstimator(model)\\n\\n    calibrated_xgb = CalibratedClassifierCV(\\n        estimator=frozen_model,  # type: ignore\\n        method=\"sigmoid\",\\n        cv=None,\\n        n_jobs=n_jobs,\\n    )\\n\\n    y_res_valid_encoded = encoder.transform(y_res_valid)\\n\\n    sample_weights = compute_sample_weight(\"balanced\", y_res_valid_encoded)\\n    calibrated_xgb.fit(\\n        X_res_valid_flat, y_res_valid_encoded, sample_weight=sample_weights\\n    )\\n\\n    # sauvegarder\\n    path = os.path.join(PATH_JOBLIB, \"xgb_calibrated_sigmoid_valid_v1.joblib\")\\n    joblib.dump(calibrated_xgb, path)\\n'"
      ]
     },
     "execution_count": 39,
     "metadata": {},
     "output_type": "execute_result"
    }
   ],
   "source": [
    "\"\"\"\n",
    "if CALIB:\n",
    "\n",
    "    # charger\n",
    "    path = os.path.join(PATH_JOBLIB, \"xgb_tuned_gridcv_fitted_train_v1.joblib\")\n",
    "    model = joblib.load(path)\n",
    "\n",
    "    frozen_model = FrozenEstimator(model)\n",
    "\n",
    "    calibrated_xgb = CalibratedClassifierCV(\n",
    "        estimator=frozen_model,  # type: ignore\n",
    "        method=\"sigmoid\",\n",
    "        cv=None,\n",
    "        n_jobs=n_jobs,\n",
    "    )\n",
    "\n",
    "    y_res_valid_encoded = encoder.transform(y_res_valid)\n",
    "\n",
    "    sample_weights = compute_sample_weight(\"balanced\", y_res_valid_encoded)\n",
    "    calibrated_xgb.fit(\n",
    "        X_res_valid_flat, y_res_valid_encoded, sample_weight=sample_weights\n",
    "    )\n",
    "\n",
    "    # sauvegarder\n",
    "    path = os.path.join(PATH_JOBLIB, \"xgb_calibrated_sigmoid_valid_v1.joblib\")\n",
    "    joblib.dump(calibrated_xgb, path)\n",
    "\"\"\"\n"
   ]
  },
  {
   "cell_type": "markdown",
   "metadata": {},
   "source": [
    "avec StratifiedKFold"
   ]
  },
  {
   "cell_type": "markdown",
   "metadata": {
    "lines_to_next_cell": 2
   },
   "source": [
    "charger  \n",
    "path = os.path.join(PATH_JOBLIB, \"xgb_tuned_gridcv_trainvalid_unfit_v1.joblib\")\n",
    "best_xgb = joblib.load(path)\n",
    "\n",
    "best_xgb.set_params(n_jobs=1)\n",
    "best_xgb.set_params(device=\"cuda\")\n",
    "\n",
    "cv = StratifiedKFold(n_splits=5, shuffle=True, random_state=random_state)\n",
    "\n",
    "model = clone(best_xgb)  # best_xgb n'est pas fitted mais pour homogénéiser...\n",
    "print(model)\n",
    "\n",
    "calibrated_xgb_cv = CalibratedClassifierCV(\n",
    "    estimator=model,\n",
    "    method=\"sigmoid\",  # ou sigmoid (plus rapide et plus robuste sur peu de données)\n",
    "    cv=cv,  # on pourrait utiliser cv=5 directement qui est stratifié mais sans shuffle...\n",
    "    n_jobs=n_jobs,\n",
    ")\n",
    "\n",
    "calibrated_xgb_cv.fit(X_res_train_valid_flat, y_res_train_valid_encoded)\n",
    "\n",
    "sauvegarder  \n",
    "path = os.path.join(\n",
    "    PATH_JOBLIB, \"xgb_tuned_calibrated_sigmoid_cv_trainvalid_v1.joblib\"\n",
    ")\n",
    "joblib.dump(calibrated_xgb_cv, path)\n"
   ]
  },
  {
   "cell_type": "markdown",
   "metadata": {},
   "source": [
    "## Final evaluation\n",
    " on Test set"
   ]
  },
  {
   "cell_type": "markdown",
   "metadata": {},
   "source": [
    "### Random Forest"
   ]
  },
  {
   "cell_type": "code",
   "execution_count": null,
   "metadata": {
    "lines_to_next_cell": 2
   },
   "outputs": [],
   "source": [
    "if FINAL_EVAL:\n",
    "\n",
    "    # Charger\n",
    "    path = os.path.join(\n",
    "        PATH_JOBLIB, \"rf_final_calibrated_isotonic_cv_trainvalid_v1.joblib\"\n",
    "    )\n",
    "    calibrated_rf = joblib.load(path)\n",
    "\n",
    "    path = os.path.join(PATH_JOBLIB, \"labelencoder_trainvalid_v1.joblib\")\n",
    "    encoder = joblib.load(path)\n",
    "\n",
    "    model = calibrated_rf  # calibré et entraîné sur labels encodés\n",
    "    print(model)\n",
    "\n",
    "    # Prédiction sur test jamais utilisé jusqu'à présent\n",
    "    y_res_pred_encoded = model.predict(X_res_test_flat)\n",
    "\n",
    "    y_res_test_encoded = encoder.transform(y_res_test)\n",
    "    accuracy = accuracy_score(y_res_test_encoded, y_res_pred_encoded)\n",
    "    balanced_accuracy = balanced_accuracy_score(y_res_test_encoded, y_res_pred_encoded)\n",
    "\n",
    "    y_res_prob_encoded = model.predict_proba(X_res_test_flat)\n",
    "    loss = log_loss(y_res_test_encoded, y_res_prob_encoded)\n",
    "\n",
    "    y_res_pred = encoder.inverse_transform(y_res_pred_encoded)\n",
    "    cm = pd.crosstab(y_res_test, y_res_pred)\n",
    "    # Matrice de confusion normalisée\n",
    "    cm_norm = cm.div(cm.sum(axis=1), axis=0)\n",
    "    dict_report = classification_report(y_res_test, y_res_pred, output_dict=True)\n",
    "    dict_report[\"balanced_accuracy\"] = balanced_accuracy  # type: ignore\n",
    "    dict_report[\"log_loss\"] = loss  # type: ignore\n",
    "    df_report = pd.DataFrame(dict_report).T\n",
    "\n",
    "    if verbose:\n",
    "        print(\"loss:\", loss)\n",
    "        print(\"accuracy:\", accuracy)\n",
    "        print(\"balanced accuracy:\", balanced_accuracy)\n",
    "        display(cm)\n",
    "        display(df_report.round(3))\n",
    "\n",
    "    # Sauvegarder csv\n",
    "\n",
    "    timestamp = datetime.now().strftime(\"%Y%m%d_%H%M\")\n",
    "\n",
    "    path = os.path.join(PATH_JOBLIB, f\"rf_confusion_matrix_{timestamp}.csv\")\n",
    "    cm.to_csv(path)\n",
    "\n",
    "    cm_norm.to_csv(\n",
    "        os.path.join(PATH_JOBLIB, f\"rf_confusion_matrix_normalized_{timestamp}.csv\")\n",
    "    )\n",
    "\n",
    "    path = os.path.join(PATH_JOBLIB, f\"rf_classification_report_{timestamp}.csv\")\n",
    "    df_report.to_csv(path)\n",
    "\n",
    "    # Visualisation confusion matrix\n",
    "    plt.figure(figsize=(8, 6))\n",
    "    sns.heatmap(cm, annot=True, fmt=\"d\", cmap=\"Greens\")\n",
    "    plt.title(\"Confusion Matrix\")\n",
    "    plt.ylabel(\"True label\")\n",
    "    plt.xlabel(\"Predicted label\")\n",
    "    plt.tight_layout()\n",
    "    plt.show()\n",
    "\n",
    "    plt.figure(figsize=(8, 6))\n",
    "    sns.heatmap(cm_norm, annot=True, fmt=\".2f\", cmap=\"Blues\")\n",
    "    plt.ylabel(\"True label\")\n",
    "    plt.xlabel(\"Predicted label\")\n",
    "    plt.title(\"Normalized Confusion Matrix\")\n",
    "    plt.show()\n"
   ]
  },
  {
   "cell_type": "markdown",
   "metadata": {},
   "source": [
    "### XGBoost"
   ]
  },
  {
   "cell_type": "code",
   "execution_count": null,
   "metadata": {
    "lines_to_next_cell": 2
   },
   "outputs": [],
   "source": [
    "if FINAL_EVAL:\n",
    "\n",
    "    # Charger\n",
    "\n",
    "    path = os.path.join(\n",
    "        PATH_JOBLIB, \"xgb_final_calibrated_isotonic_cv_trainvalid_v1.joblib\"\n",
    "    )\n",
    "    calibrated_xgb = joblib.load(path)\n",
    "\n",
    "    model = calibrated_xgb  # calibré et entraîné sur labels encodés\n",
    "    print(model)\n",
    "\n",
    "    y_res_pred_encoded = model.predict(X_res_test_flat)\n",
    "    y_res_test_encoded = encoder.transform(y_res_test)\n",
    "\n",
    "    accuracy = accuracy_score(y_res_test_encoded, y_res_pred_encoded)\n",
    "    balanced_accuracy = balanced_accuracy_score(y_res_test_encoded, y_res_pred_encoded)\n",
    "\n",
    "    y_res_prob_encoded = model.predict_proba(X_res_test_flat)\n",
    "    loss = log_loss(y_res_test_encoded, y_res_prob_encoded)\n",
    "\n",
    "    y_res_pred = encoder.inverse_transform(y_res_pred_encoded)\n",
    "    cm = pd.crosstab(y_res_test, y_res_pred)\n",
    "    # Matrice de confusion normalisée\n",
    "    cm_norm = cm.div(cm.sum(axis=1), axis=0)\n",
    "\n",
    "    dict_report = classification_report(y_res_test, y_res_pred, output_dict=True)\n",
    "    # Ajout de balanced accuracy au classification report\n",
    "    dict_report[\"balanced_accuracy\"] = balanced_accuracy  # type: ignore\n",
    "    dict_report[\"log_loss\"] = loss  # type: ignore\n",
    "    df_report = pd.DataFrame(dict_report).T\n",
    "\n",
    "    if verbose:\n",
    "        print(\"loss:\", loss)\n",
    "        print(\"accuracy:\", accuracy)\n",
    "        print(\"balanced accuracy:\", balanced_accuracy)\n",
    "        display(cm)\n",
    "        display(df_report.round(3))\n",
    "\n",
    "    # Sauvegarder csv\n",
    "\n",
    "    timestamp = datetime.now().strftime(\"%Y%m%d_%H%M\")\n",
    "\n",
    "    path = os.path.join(PATH_JOBLIB, f\"xgb_confusion_matrix_{timestamp}.csv\")\n",
    "    cm.to_csv(path)\n",
    "\n",
    "    cm_norm.to_csv(\n",
    "        os.path.join(PATH_JOBLIB, f\"xgb_confusion_matrix_normalized_{timestamp}.csv\")\n",
    "    )\n",
    "\n",
    "    path = os.path.join(PATH_JOBLIB, f\"xgb_classification_report_{timestamp}.csv\")\n",
    "    df_report.to_csv(path)\n",
    "\n",
    "    # Visualisation confusion matrix\n",
    "    plt.figure(figsize=(8, 6))\n",
    "    sns.heatmap(cm, annot=True, fmt=\"d\", cmap=\"Greens\")\n",
    "    plt.title(\"Confusion Matrix\")\n",
    "    plt.ylabel(\"True label\")\n",
    "    plt.xlabel(\"Predicted label\")\n",
    "    plt.tight_layout()\n",
    "    plt.show()\n",
    "\n",
    "    plt.figure(figsize=(8, 6))\n",
    "    sns.heatmap(cm_norm, annot=True, fmt=\".2f\", cmap=\"Blues\")\n",
    "    plt.ylabel(\"True label\")\n",
    "    plt.xlabel(\"Predicted label\")\n",
    "    plt.title(\"Normalized Confusion Matrix\")\n",
    "    plt.show()\n"
   ]
  },
  {
   "cell_type": "markdown",
   "metadata": {
    "id": "q_VckjXO9EK6"
   },
   "source": [
    "# IV. Deep Learning\n",
    "\n",
    "on utilisera les méthodes des modèles de DL pour la sauvegarde / chargement des poids uniquement\n",
    "\n",
    "TensorFlow/Keras    :\n",
    "    model.save_weights('model_weights.h5')\n",
    "    model.load_weights('model_weights.h5')\n",
    "\n",
    "PyTorch :\n",
    "    torch.save(model.state_dict(), 'model_weights.pth')\n",
    "    model.load_state_dict(torch.load('model_weights.pth'))\n",
    "    model.eval()     # mode évaluation"
   ]
  },
  {
   "cell_type": "markdown",
   "metadata": {
    "id": "ACRHah0G9NnC"
   },
   "source": [
    "##1. VGG16"
   ]
  },
  {
   "cell_type": "markdown",
   "metadata": {
    "id": "MDfktrkc9cin",
    "lines_to_next_cell": 2
   },
   "source": [
    "Génération d'images à partir d'un répertoire d'images d’entraînement et de valid"
   ]
  },
  {
   "cell_type": "code",
   "execution_count": null,
   "metadata": {},
   "outputs": [],
   "source": [
    "import os\n",
    "import matplotlib.pyplot as plt\n",
    "from typing import Tuple, Any\n",
    "from datetime import datetime\n",
    "from sklearn.utils.class_weight import compute_class_weight\n",
    "import numpy as np\n",
    "\n",
    "os.environ[\"TF_ENABLE_ONEDNN_OPTS\"] = \"0\"\n",
    "\n",
    "\n",
    "target_size = (224, 224)\n"
   ]
  },
  {
   "cell_type": "code",
   "execution_count": null,
   "metadata": {
    "id": "i9E_PKsK9P3n",
    "lines_to_next_cell": 2
   },
   "outputs": [],
   "source": [
    "def DidDataGen(\n",
    "    directory_train,\n",
    "    directory_valid,\n",
    "    directory_test,\n",
    "    target_size=(224, 224),\n",
    "    batch_size=32,\n",
    "    shear_range=0.2,\n",
    "    zoom_range=0.2,\n",
    "    rotation_range=359,\n",
    "    horizontal_flip=True,\n",
    "    vertical_flip=True,\n",
    "):\n",
    "\n",
    "    train_datagen = ImageDataGenerator(\n",
    "        preprocessing_function=preprocess_input,\n",
    "        shear_range=shear_range,  # plage d'étirement\n",
    "        zoom_range=zoom_range,  # plage d'agrandissement\n",
    "        rotation_range=rotation_range,  # plage de rotation en degré\n",
    "        horizontal_flip=horizontal_flip,  # retournement horizontal aléatoire\n",
    "        vertical_flip=vertical_flip,  # retournement vertical aléatoire\n",
    "    )\n",
    "\n",
    "    valid_datagen = ImageDataGenerator(preprocessing_function=preprocess_input)\n",
    "\n",
    "    test_datagen = ImageDataGenerator(preprocessing_function=preprocess_input)\n",
    "\n",
    "    train_generator = train_datagen.flow_from_directory(\n",
    "        directory=directory_train,\n",
    "        class_mode=\"sparse\",\n",
    "        target_size=target_size,\n",
    "        batch_size=batch_size,\n",
    "    )\n",
    "\n",
    "    valid_generator = valid_datagen.flow_from_directory(\n",
    "        directory=directory_valid,\n",
    "        class_mode=\"sparse\",\n",
    "        target_size=target_size,\n",
    "        batch_size=batch_size,\n",
    "    )\n",
    "\n",
    "    test_generator = test_datagen.flow_from_directory(\n",
    "        directory=directory_test,  # chemin vers ton dossier test\n",
    "        class_mode=\"sparse\",  # ou \"categorical\" selon ton modèle / labels\n",
    "        target_size=target_size,  # la même taille que pour train/valid\n",
    "        batch_size=batch_size,\n",
    "        shuffle=False,  # important: ne pas mélanger les données test\n",
    "    )\n",
    "\n",
    "    # compte le nb de sous-dossiers dans directory_train\n",
    "    n_class = 0\n",
    "    for file in os.listdir(directory_train):\n",
    "        d = os.path.join(directory_train, file)\n",
    "        if os.path.isdir(d):\n",
    "            n_class += 1\n",
    "\n",
    "    return train_generator, valid_generator, test_generator, n_class\n"
   ]
  },
  {
   "cell_type": "markdown",
   "metadata": {
    "id": "n4KuJkGZ-fPR",
    "lines_to_next_cell": 2
   },
   "source": [
    "Création et entraînement de plusieurs modèles VGG16 (à 21 couches) selon différents paramètres :\n",
    " * nb de couches defreezées = 4, 12, 21\n",
    " * taille du batch = 32 ou 64\n",
    " * learning rate évolutif par plateau de val_loss (callback)"
   ]
  },
  {
   "cell_type": "code",
   "execution_count": null,
   "metadata": {
    "id": "Ao4qMxTl-kaG"
   },
   "outputs": [],
   "source": [
    "def DidVGG16(\n",
    "    train_generator,\n",
    "    valid_generator,\n",
    "    test_generator,\n",
    "    n_class,\n",
    "    n_layers_trainable=4,\n",
    "    learning_rate=1e-4,\n",
    "    nb_epochs=30,\n",
    "    batch_size=32,\n",
    "    model_eval=False,\n",
    ") -> Tuple[Any, Any, Tuple]:\n",
    "\n",
    "    start_time = time.perf_counter()\n",
    "\n",
    "    # Modèle VGG16\n",
    "    base_model = VGG16(weights=\"imagenet\", include_top=False)\n",
    "\n",
    "    # Freeze toutes les couches du VGG16 sauf les n dernières (si n différent de 0)\n",
    "    for layer in base_model.layers:\n",
    "        layer.trainable = False\n",
    "\n",
    "    if n_layers_trainable != 0:\n",
    "        for layer in base_model.layers[-n_layers_trainable:]:\n",
    "            layer.trainable = True\n",
    "\n",
    "    # Callbacks\n",
    "    early_stopping = EarlyStopping(\n",
    "        monitor=\"val_loss\", min_delta=0.01, mode=\"min\", patience=6, verbose=1\n",
    "    )\n",
    "    reduce_learning_rate = ReduceLROnPlateau(\n",
    "        monitor=\"val_loss\",\n",
    "        factor=0.1,\n",
    "        patience=3,\n",
    "        min_delta=0.01,\n",
    "        cooldown=4,\n",
    "        verbose=1,\n",
    "    )\n",
    "    callbacks = [reduce_learning_rate, early_stopping]\n",
    "\n",
    "    # Construction du modèle\n",
    "    model = Sequential()\n",
    "    model.add(base_model)\n",
    "    model.add(GlobalAveragePooling2D())\n",
    "    model.add(Dense(1024, activation=\"relu\"))\n",
    "    model.add(Dropout(rate=0.2))\n",
    "    model.add(Dense(512, activation=\"relu\"))\n",
    "    model.add(Dropout(rate=0.2))\n",
    "    model.add(Dense(n_class, activation=\"softmax\"))\n",
    "\n",
    "    model.compile(\n",
    "        optimizer=Adam(learning_rate=learning_rate),\n",
    "        loss=\"sparse_categorical_crossentropy\",\n",
    "        metrics=[\"accuracy\"],\n",
    "    )\n",
    "\n",
    "    # Entraînement du modèle avec pondération des classes déséquilibrées\n",
    "\n",
    "    # labels des images dans le générateur\n",
    "    labels = train_generator.classes\n",
    "    # classes uniques\n",
    "    classes = np.unique(labels)\n",
    "    # calcul des poids\n",
    "    class_weights = compute_class_weight(\n",
    "        class_weight=\"balanced\", classes=classes, y=labels\n",
    "    )\n",
    "    # dictionnaire attendu par model.fit()\n",
    "    class_weight_dict = dict(zip(classes, class_weights))\n",
    "\n",
    "    print(\"Entraînement du modèle\")\n",
    "    history = model.fit(\n",
    "        train_generator,\n",
    "        epochs=nb_epochs,\n",
    "        class_weight=class_weight_dict,\n",
    "        # steps_per_epoch=train_generator.samples // batch_size, #Keras calcule tout seul le steps per epoch\n",
    "        validation_data=valid_generator,\n",
    "        # validation_steps=valid_generator.samples // batch_size,\n",
    "        callbacks=callbacks,\n",
    "    )\n",
    "\n",
    "    # Courbe de la fonction de coût et de précision en fonction de l'epoch\n",
    "\n",
    "    print(\n",
    "        \"\\nCourbes de perte et de précision pour VGG16 avec les paramètres:\\n # couches entraînées:\",\n",
    "        n_layers_trainable,\n",
    "        \"\\n # learning rate init:\",\n",
    "        learning_rate,\n",
    "        \"\\n # epochs            :\",\n",
    "        nb_epochs,\n",
    "        \"\\n # batch size        :\",\n",
    "        batch_size,\n",
    "    )\n",
    "\n",
    "    train_loss = history.history[\"loss\"]\n",
    "    val_loss = history.history[\"val_loss\"]\n",
    "    train_acc = history.history[\"accuracy\"]\n",
    "    val_acc = history.history[\"val_accuracy\"]\n",
    "\n",
    "    plt.figure(figsize=(20, 7))\n",
    "\n",
    "    plt.subplot(121)\n",
    "    plt.plot(train_loss)\n",
    "    plt.plot(val_loss)\n",
    "    plt.title(\"Model loss per epoch\")\n",
    "    plt.ylabel(\"loss\")\n",
    "    plt.xlabel(\"epoch\")\n",
    "    plt.legend([\"train\", \"valid\"], loc=\"right\")\n",
    "    plt.grid(True)\n",
    "\n",
    "    plt.subplot(122)\n",
    "    plt.plot(train_acc)\n",
    "    plt.plot(val_acc)\n",
    "    plt.title(\"Model accuracy per epoch\")\n",
    "    plt.ylabel(\"acc\")\n",
    "    plt.xlabel(\"epoch\")\n",
    "    plt.legend([\"train\", \"valid\"], loc=\"right\")\n",
    "    plt.grid(True)\n",
    "\n",
    "    plt.show()\n",
    "\n",
    "    print(\"\\n\", model.summary())\n",
    "\n",
    "    duration = int(time.perf_counter() - start_time)\n",
    "\n",
    "    print(\"✅ Modèle entraîné en\", duration, \"s\")\n",
    "\n",
    "    # Evaluation du modèle (un peu long donc désactivée par défaut)\n",
    "    if model_eval:\n",
    "        print(\"\\nEvaluation du modèle sur l'ensemble de test:\")\n",
    "\n",
    "        start_time = time.perf_counter()\n",
    "        score = model.evaluate(test_generator)\n",
    "\n",
    "        duration = int(time.perf_counter() - start_time)\n",
    "        print(\"Modèle évalué en\", duration, \"s\")\n",
    "        print(\"\\nloss    =\", score[0])\n",
    "        print(\"accuracy=\", score[1])\n",
    "\n",
    "    else:\n",
    "\n",
    "        score = tuple()\n",
    "\n",
    "    return model, history, score\n"
   ]
  },
  {
   "cell_type": "code",
   "execution_count": null,
   "metadata": {
    "lines_to_next_cell": 2
   },
   "outputs": [
    {
     "name": "stdout",
     "output_type": "stream",
     "text": [
      "Found 12042 images belonging to 9 classes.\n",
      "Found 2581 images belonging to 9 classes.\n",
      "Found 2581 images belonging to 9 classes.\n"
     ]
    }
   ],
   "source": [
    "train_generator, valid_generator, test_generator, n_class = DidDataGen(\n",
    "    PATH_TRAIN,\n",
    "    PATH_VALID,\n",
    "    PATH_TEST,\n",
    "    target_size=target_size,\n",
    "    batch_size=32,\n",
    "    shear_range=0.2,\n",
    "    zoom_range=0.2,\n",
    "    rotation_range=359,\n",
    "    horizontal_flip=True,\n",
    "    vertical_flip=True,\n",
    ")\n"
   ]
  },
  {
   "cell_type": "code",
   "execution_count": null,
   "metadata": {
    "colab": {
     "base_uri": "https://localhost:8080/",
     "height": 1000
    },
    "id": "ThfDJFTSEWlZ",
    "lines_to_next_cell": 2,
    "outputId": "0ae36e53-ab85-400c-b35a-ba5faa663bfe"
   },
   "outputs": [
    {
     "name": "stderr",
     "output_type": "stream",
     "text": [
      "I0000 00:00:1749387997.648733   42036 gpu_device.cc:2019] Created device /job:localhost/replica:0/task:0/device:GPU:0 with 6109 MB memory:  -> device: 0, name: NVIDIA GeForce RTX 4060 Laptop GPU, pci bus id: 0000:01:00.0, compute capability: 8.9\n"
     ]
    },
    {
     "name": "stdout",
     "output_type": "stream",
     "text": [
      "Entraînement du modèle\n"
     ]
    },
    {
     "name": "stderr",
     "output_type": "stream",
     "text": [
      "/home/did/Windows/Documents/Librairies/blood-cells-classification/venv/lib/python3.12/site-packages/keras/src/trainers/data_adapters/py_dataset_adapter.py:121: UserWarning: Your `PyDataset` class should call `super().__init__(**kwargs)` in its constructor. `**kwargs` can include `workers`, `use_multiprocessing`, `max_queue_size`. Do not pass these arguments to `fit()`, as they will be ignored.\n",
      "  self._warn_if_super_not_called()\n"
     ]
    },
    {
     "name": "stdout",
     "output_type": "stream",
     "text": [
      "Epoch 1/30\n"
     ]
    },
    {
     "name": "stderr",
     "output_type": "stream",
     "text": [
      "WARNING: All log messages before absl::InitializeLog() is called are written to STDERR\n",
      "I0000 00:00:1749388000.426725   42329 service.cc:152] XLA service 0x701a80004e00 initialized for platform CUDA (this does not guarantee that XLA will be used). Devices:\n",
      "I0000 00:00:1749388000.426809   42329 service.cc:160]   StreamExecutor device (0): NVIDIA GeForce RTX 4060 Laptop GPU, Compute Capability 8.9\n",
      "I0000 00:00:1749388000.802064   42329 cuda_dnn.cc:529] Loaded cuDNN version 90300\n"
     ]
    },
    {
     "name": "stdout",
     "output_type": "stream",
     "text": [
      "\u001b[1m  2/377\u001b[0m \u001b[37m━━━━━━━━━━━━━━━━━━━━\u001b[0m \u001b[1m32s\u001b[0m 87ms/step - accuracy: 0.1016 - loss: 7.5253   "
     ]
    },
    {
     "name": "stderr",
     "output_type": "stream",
     "text": [
      "I0000 00:00:1749388014.273164   42329 device_compiler.h:188] Compiled cluster using XLA!  This line is logged at most once for the lifetime of the process.\n"
     ]
    },
    {
     "name": "stdout",
     "output_type": "stream",
     "text": [
      "\u001b[1m377/377\u001b[0m \u001b[32m━━━━━━━━━━━━━━━━━━━━\u001b[0m\u001b[37m\u001b[0m \u001b[1m102s\u001b[0m 231ms/step - accuracy: 0.2928 - loss: 2.5243 - val_accuracy: 0.6645 - val_loss: 0.9350 - learning_rate: 1.0000e-04\n",
      "Epoch 2/30\n",
      "\u001b[1m288/377\u001b[0m \u001b[32m━━━━━━━━━━━━━━━\u001b[0m\u001b[37m━━━━━\u001b[0m \u001b[1m13s\u001b[0m 148ms/step - accuracy: 0.5861 - loss: 0.9972"
     ]
    }
   ],
   "source": [
    "n_layers = 0\n",
    "batch_size = 64\n",
    "\n",
    "model, history, score = DidVGG16(\n",
    "    train_generator,\n",
    "    valid_generator,\n",
    "    test_generator,\n",
    "    n_class,\n",
    "    n_layers_trainable=n_layers,\n",
    "    learning_rate=1e-4,\n",
    "    nb_epochs=30,\n",
    "    batch_size=batch_size,\n",
    "    model_eval=True,\n",
    ")\n",
    "\n",
    "timestamp = datetime.now().strftime(\"%Y%m%d_%H%M\")\n",
    "path = os.path.join(\n",
    "    PATH_KERAS, f\"model_layers_{n_layers}_batch_{batch_size}_{timestamp}\"\n",
    ")\n",
    "model.save(path + \".keras\")\n"
   ]
  },
  {
   "cell_type": "code",
   "execution_count": null,
   "metadata": {
    "lines_to_next_cell": 2
   },
   "outputs": [],
   "source": [
    "# Sauvegarde du modèle entraîné\n",
    "timestamp = datetime.now().strftime(\"%Y%m%d_%H%M\")\n",
    "path = os.path.join(PATH_KERAS, f\"model_layers_4_batch_64_{timestamp}\")\n",
    "model.save(path + \".keras\")\n"
   ]
  },
  {
   "cell_type": "code",
   "execution_count": null,
   "metadata": {
    "colab": {
     "base_uri": "https://localhost:8080/",
     "height": 1000
    },
    "id": "-RXalbGE-ymZ",
    "lines_to_next_cell": 2,
    "outputId": "be03837b-7194-4361-d8aa-9d0928bb3e91"
   },
   "outputs": [
    {
     "name": "stdout",
     "output_type": "stream",
     "text": [
      "Entraînement du modèle\n",
      "Epoch 1/30\n"
     ]
    }
   ],
   "source": [
    "n_layers = 4\n",
    "batch_size = 64\n",
    "\n",
    "model, history, score = DidVGG16(\n",
    "    train_generator,\n",
    "    valid_generator,\n",
    "    test_generator,\n",
    "    n_class,\n",
    "    n_layers_trainable=n_layers,\n",
    "    learning_rate=1e-4,\n",
    "    nb_epochs=30,\n",
    "    batch_size=batch_size,\n",
    "    model_eval=True,\n",
    ")\n",
    "\n",
    "timestamp = datetime.now().strftime(\"%Y%m%d_%H%M\")\n",
    "path = os.path.join(\n",
    "    PATH_KERAS, f\"model_layers_{n_layers}_batch_{batch_size}_{timestamp}\"\n",
    ")\n",
    "model.save(path + \".keras\")\n"
   ]
  },
  {
   "cell_type": "code",
   "execution_count": null,
   "metadata": {
    "colab": {
     "base_uri": "https://localhost:8080/",
     "height": 1000
    },
    "id": "uX1mpAVX_K7f",
    "lines_to_next_cell": 2,
    "outputId": "74f4ccaa-b945-4b39-b652-7f68a5bc6443"
   },
   "outputs": [],
   "source": [
    "n_layers = 8\n",
    "batch_size = 64\n",
    "\n",
    "model, history, score = DidVGG16(\n",
    "    train_generator,\n",
    "    valid_generator,\n",
    "    test_generator,\n",
    "    n_class,\n",
    "    n_layers_trainable=n_layers,\n",
    "    learning_rate=1e-4,\n",
    "    nb_epochs=30,\n",
    "    batch_size=batch_size,\n",
    "    model_eval=True,\n",
    ")\n",
    "\n",
    "timestamp = datetime.now().strftime(\"%Y%m%d_%H%M\")\n",
    "path = os.path.join(\n",
    "    PATH_KERAS, f\"model_layers_{n_layers}_batch_{batch_size}_{timestamp}\"\n",
    ")\n",
    "model.save(path + \".keras\")\n"
   ]
  },
  {
   "cell_type": "code",
   "execution_count": null,
   "metadata": {
    "colab": {
     "base_uri": "https://localhost:8080/",
     "height": 1000
    },
    "id": "RuTkn5dy_Kmn",
    "lines_to_next_cell": 2,
    "outputId": "bb8f472a-07f0-4a68-bbf1-738f1d4e5133"
   },
   "outputs": [],
   "source": [
    "n_layers = 13\n",
    "batch_size = 64\n",
    "\n",
    "model, history, score = DidVGG16(\n",
    "    train_generator,\n",
    "    valid_generator,\n",
    "    test_generator,\n",
    "    n_class,\n",
    "    n_layers_trainable=n_layers,\n",
    "    learning_rate=1e-4,\n",
    "    nb_epochs=30,\n",
    "    batch_size=batch_size,\n",
    "    model_eval=True,\n",
    ")\n",
    "\n",
    "timestamp = datetime.now().strftime(\"%Y%m%d_%H%M\")\n",
    "path = os.path.join(\n",
    "    PATH_KERAS, f\"model_layers_{n_layers}_batch_{batch_size}_{timestamp}\"\n",
    ")\n",
    "model.save(path + \".keras\")\n"
   ]
  },
  {
   "cell_type": "code",
   "execution_count": null,
   "metadata": {
    "id": "vE5RV3y-B5ut",
    "lines_to_next_cell": 2
   },
   "outputs": [],
   "source": [
    "n_layers = 0\n",
    "batch_size = 32\n",
    "\n",
    "model, history, score = DidVGG16(\n",
    "    train_generator,\n",
    "    valid_generator,\n",
    "    test_generator,\n",
    "    n_class,\n",
    "    n_layers_trainable=n_layers,\n",
    "    learning_rate=1e-4,\n",
    "    nb_epochs=30,\n",
    "    batch_size=batch_size,\n",
    "    model_eval=True,\n",
    ")\n",
    "\n",
    "timestamp = datetime.now().strftime(\"%Y%m%d_%H%M\")\n",
    "path = os.path.join(\n",
    "    PATH_KERAS, f\"model_layers_{n_layers}_batch_{batch_size}_{timestamp}\"\n",
    ")\n",
    "model.save(path + \".keras\")\n"
   ]
  },
  {
   "cell_type": "code",
   "execution_count": null,
   "metadata": {},
   "outputs": [],
   "source": [
    "n_layers = 4\n",
    "batch_size = 32\n",
    "\n",
    "model, history, score = DidVGG16(\n",
    "    train_generator,\n",
    "    valid_generator,\n",
    "    test_generator,\n",
    "    n_class,\n",
    "    n_layers_trainable=n_layers,\n",
    "    learning_rate=1e-4,\n",
    "    nb_epochs=30,\n",
    "    batch_size=batch_size,\n",
    "    model_eval=True,\n",
    ")\n",
    "\n",
    "timestamp = datetime.now().strftime(\"%Y%m%d_%H%M\")\n",
    "path = os.path.join(\n",
    "    PATH_KERAS, f\"model_layers_{n_layers}_batch_{batch_size}_{timestamp}\"\n",
    ")\n",
    "model.save(path + \".keras\")\n"
   ]
  },
  {
   "cell_type": "code",
   "execution_count": null,
   "metadata": {},
   "outputs": [],
   "source": [
    "n_layers = 8\n",
    "batch_size = 32\n",
    "\n",
    "model, history, score = DidVGG16(\n",
    "    train_generator,\n",
    "    valid_generator,\n",
    "    test_generator,\n",
    "    n_class,\n",
    "    n_layers_trainable=n_layers,\n",
    "    learning_rate=1e-4,\n",
    "    nb_epochs=30,\n",
    "    batch_size=batch_size,\n",
    "    model_eval=True,\n",
    ")\n",
    "\n",
    "timestamp = datetime.now().strftime(\"%Y%m%d_%H%M\")\n",
    "path = os.path.join(\n",
    "    PATH_KERAS, f\"model_layers_{n_layers}_batch_{batch_size}_{timestamp}\"\n",
    ")\n",
    "model.save(path + \".keras\")\n"
   ]
  },
  {
   "cell_type": "code",
   "execution_count": null,
   "metadata": {},
   "outputs": [],
   "source": [
    "n_layers = 13\n",
    "batch_size = 32\n",
    "\n",
    "model, history, score = DidVGG16(\n",
    "    train_generator,\n",
    "    valid_generator,\n",
    "    test_generator,\n",
    "    n_class,\n",
    "    n_layers_trainable=n_layers,\n",
    "    learning_rate=1e-4,\n",
    "    nb_epochs=30,\n",
    "    batch_size=batch_size,\n",
    "    model_eval=True,\n",
    ")\n",
    "\n",
    "timestamp = datetime.now().strftime(\"%Y%m%d_%H%M\")\n",
    "path = os.path.join(\n",
    "    PATH_KERAS, f\"model_layers_{n_layers}_batch_{batch_size}_{timestamp}\"\n",
    ")\n",
    "model.save(path + \".keras\")\n"
   ]
  },
  {
   "cell_type": "code",
   "execution_count": null,
   "metadata": {},
   "outputs": [],
   "source": [
    "n_layers = 0\n",
    "batch_size = 16\n",
    "\n",
    "model, history, score = DidVGG16(\n",
    "    train_generator,\n",
    "    valid_generator,\n",
    "    test_generator,\n",
    "    n_class,\n",
    "    n_layers_trainable=n_layers,\n",
    "    learning_rate=1e-4,\n",
    "    nb_epochs=30,\n",
    "    batch_size=batch_size,\n",
    "    model_eval=True,\n",
    ")\n",
    "\n",
    "timestamp = datetime.now().strftime(\"%Y%m%d_%H%M\")\n",
    "path = os.path.join(\n",
    "    PATH_KERAS, f\"model_layers_{n_layers}_batch_{batch_size}_{timestamp}\"\n",
    ")\n",
    "model.save(path + \".keras\")\n"
   ]
  },
  {
   "cell_type": "code",
   "execution_count": null,
   "metadata": {},
   "outputs": [],
   "source": [
    "n_layers = 4\n",
    "batch_size = 16\n",
    "\n",
    "model, history, score = DidVGG16(\n",
    "    train_generator,\n",
    "    valid_generator,\n",
    "    test_generator,\n",
    "    n_class,\n",
    "    n_layers_trainable=n_layers,\n",
    "    learning_rate=1e-4,\n",
    "    nb_epochs=30,\n",
    "    batch_size=batch_size,\n",
    "    model_eval=True,\n",
    ")\n",
    "\n",
    "timestamp = datetime.now().strftime(\"%Y%m%d_%H%M\")\n",
    "path = os.path.join(\n",
    "    PATH_KERAS, f\"model_layers_{n_layers}_batch_{batch_size}_{timestamp}\"\n",
    ")\n",
    "model.save(path + \".keras\")\n"
   ]
  },
  {
   "cell_type": "code",
   "execution_count": null,
   "metadata": {},
   "outputs": [],
   "source": [
    "n_layers = 8\n",
    "batch_size = 16\n",
    "\n",
    "model, history, score = DidVGG16(\n",
    "    train_generator,\n",
    "    valid_generator,\n",
    "    test_generator,\n",
    "    n_class,\n",
    "    n_layers_trainable=n_layers,\n",
    "    learning_rate=1e-4,\n",
    "    nb_epochs=30,\n",
    "    batch_size=batch_size,\n",
    "    model_eval=True,\n",
    ")\n",
    "\n",
    "timestamp = datetime.now().strftime(\"%Y%m%d_%H%M\")\n",
    "path = os.path.join(\n",
    "    PATH_KERAS, f\"model_layers_{n_layers}_batch_{batch_size}_{timestamp}\"\n",
    ")\n",
    "model.save(path + \".keras\")\n"
   ]
  },
  {
   "cell_type": "code",
   "execution_count": null,
   "metadata": {},
   "outputs": [],
   "source": [
    "n_layers = 13\n",
    "batch_size = 16\n",
    "\n",
    "model, history, score = DidVGG16(\n",
    "    train_generator,\n",
    "    valid_generator,\n",
    "    test_generator,\n",
    "    n_class,\n",
    "    n_layers_trainable=n_layers,\n",
    "    learning_rate=1e-4,\n",
    "    nb_epochs=30,\n",
    "    batch_size=batch_size,\n",
    "    model_eval=True,\n",
    ")\n",
    "\n",
    "timestamp = datetime.now().strftime(\"%Y%m%d_%H%M\")\n",
    "path = os.path.join(\n",
    "    PATH_KERAS, f\"model_layers_{n_layers}_batch_{batch_size}_{timestamp}\"\n",
    ")\n",
    "model.save(path + \".keras\")\n"
   ]
  },
  {
   "cell_type": "markdown",
   "metadata": {
    "id": "K4efqyWkApK3",
    "lines_to_next_cell": 2
   },
   "source": [
    "Feature Extraction en sortie des couches 2 et 5 puis entraînement de différents modèles de classification (Arbre de décision, SVM, Random Forest et XGBoost)"
   ]
  },
  {
   "cell_type": "code",
   "execution_count": null,
   "metadata": {
    "id": "TAyQnvdTA5Q4",
    "lines_to_next_cell": 2
   },
   "outputs": [],
   "source": [
    "def DidFeatureExtractionClassification(\n",
    "    X, Y, model, test_size=0.2, layers_output=2, xgb=False\n",
    "):\n",
    "\n",
    "    # extraction des features de la couche 2 et entraînement d'un modèle de classification\n",
    "    from sklearn.model_selection import train_test_split\n",
    "    from tensorflow.keras.models import Model\n",
    "    from tensorflow.keras.applications.vgg16 import preprocess_input\n",
    "\n",
    "    X_train, X_test, Y_train, Y_test = train_test_split(X, Y, test_size=test_size)\n",
    "\n",
    "    intermediate_layer_model = Model(\n",
    "        inputs=model.input, outputs=model.layers[layers_output].output\n",
    "    )\n",
    "    print(\"Train feature extraction\")\n",
    "    X_train_features = intermediate_layer_model.predict(preprocess_input(X_train))\n",
    "    print(\"Test feature extraction\")\n",
    "    X_test_features = intermediate_layer_model.predict(preprocess_input(X_test))\n",
    "\n",
    "    # decision tree\n",
    "    from sklearn.tree import DecisionTreeClassifier\n",
    "\n",
    "    clf = DecisionTreeClassifier()\n",
    "    clf.fit(X_train_features, Y_train)\n",
    "    print(\n",
    "        \"score de classification avec Arbre de décision :\",\n",
    "        clf.score(X_test_features, Y_test),\n",
    "    )\n",
    "\n",
    "    # SVM\n",
    "    from sklearn.svm import SVC\n",
    "\n",
    "    clf = SVC()\n",
    "    clf.fit(X_train_features, Y_train)\n",
    "    print(\n",
    "        \"score de classification avec SVM               :\",\n",
    "        clf.score(X_test_features, Y_test),\n",
    "    )\n",
    "\n",
    "    # Random Forest\n",
    "    from sklearn import ensemble\n",
    "\n",
    "    clf = ensemble.RandomForestClassifier(n_jobs=-1)\n",
    "    clf.fit(X_train_features, Y_train)\n",
    "    print(\n",
    "        \"score de classification avec Random Forest     :\",\n",
    "        clf.score(X_test_features, Y_test),\n",
    "    )\n",
    "\n",
    "    # XGBoost (un peu long donc désactivée par défaut)\n",
    "    if xgb == True:\n",
    "\n",
    "        import xgboost as xgb\n",
    "\n",
    "        clf = xgb.XGBClassifier()\n",
    "\n",
    "        from sklearn import preprocessing\n",
    "\n",
    "        le = preprocessing.LabelEncoder()\n",
    "        le.fit(Y_train)\n",
    "        Y_train_enc = le.transform(Y_train)\n",
    "        Y_test_enc = le.transform(Y_test)\n",
    "\n",
    "        clf.fit(X_train_features, Y_train_enc)\n",
    "        print(\n",
    "            \"score de classification avec XGBoost           :\",\n",
    "            clf.score(X_test_features, Y_test_enc),\n",
    "        )\n",
    "\n",
    "    return X_train_features, X_test_features\n"
   ]
  },
  {
   "cell_type": "code",
   "execution_count": null,
   "metadata": {
    "id": "GpAykBPJw4p4",
    "lines_to_next_cell": 2
   },
   "outputs": [],
   "source": [
    "# X,Y = DidPreprocessing(path_DS, img_width = 100, img_height = 100, drop_duplicates = True)\n",
    "# DidSave(X,'/content/drive/MyDrive/BD/variable_X')\n",
    "# DidSave(Y,'/content/drive/MyDrive/BD/variable_Y')\n"
   ]
  },
  {
   "cell_type": "code",
   "execution_count": null,
   "metadata": {
    "id": "fCvihuOYDhPt",
    "lines_to_next_cell": 2
   },
   "outputs": [],
   "source": [
    "X = DidLoad(\"/content/drive/MyDrive/BD/variable_X\")\n",
    "Y = DidLoad(\"/content/drive/MyDrive/BD/variable_Y\")\n"
   ]
  },
  {
   "cell_type": "code",
   "execution_count": null,
   "metadata": {
    "colab": {
     "base_uri": "https://localhost:8080/"
    },
    "id": "dUyE_qw4CeGT",
    "lines_to_next_cell": 2,
    "outputId": "acf5bdf5-6874-4999-a76d-440420ae16b0"
   },
   "outputs": [],
   "source": [
    "for i in [2, 5]:\n",
    "    _, _ = DidFeatureExtractionClassification(\n",
    "        X, Y, model_21_32, layers_output=i, xgb=True\n",
    "    )\n"
   ]
  },
  {
   "cell_type": "code",
   "execution_count": null,
   "metadata": {
    "colab": {
     "base_uri": "https://localhost:8080/"
    },
    "id": "QAz1qp_dZxFm",
    "lines_to_next_cell": 2,
    "outputId": "1f35eb80-ec88-4b4c-cd1d-f9dcdaad30ae"
   },
   "outputs": [],
   "source": [
    "for i in [2, 5]:\n",
    "    _, _ = DidFeatureExtractionClassification(\n",
    "        X, Y, model_12_64, layers_output=i, xgb=True\n",
    "    )\n"
   ]
  },
  {
   "cell_type": "code",
   "execution_count": null,
   "metadata": {
    "colab": {
     "base_uri": "https://localhost:8080/"
    },
    "id": "Ir1Ja5BGCrCW",
    "lines_to_next_cell": 2,
    "outputId": "791f2753-b325-4172-ab25-fc9ca93a25c2"
   },
   "outputs": [],
   "source": [
    "for i in [2, 5]:\n",
    "    _, _ = DidFeatureExtractionClassification(\n",
    "        X, Y, model_21_64, layers_output=i, xgb=True\n",
    "    )\n"
   ]
  },
  {
   "cell_type": "code",
   "execution_count": null,
   "metadata": {
    "colab": {
     "base_uri": "https://localhost:8080/",
     "height": 1000
    },
    "id": "rRs_tg9XlYZB",
    "lines_to_next_cell": 2,
    "outputId": "753d163f-5f6e-4a96-f6fb-d2460e7298e8"
   },
   "outputs": [],
   "source": [
    "model_12_32, _, _ = DidVGG16(\n",
    "    train_generator,\n",
    "    valid_generator,\n",
    "    n_class,\n",
    "    n_layers_trainable=12,\n",
    "    learning_rate=1e-4,\n",
    "    nb_epochs=30,\n",
    "    batch_size=32,\n",
    "    model_eval=True,\n",
    ")\n",
    "DidSave(model_12_32, \"/content/drive/MyDrive/BD/model_12_layers_32_batch\")\n",
    "for i in [2, 5]:\n",
    "    _, _ = DidFeatureExtractionClassification(\n",
    "        X, Y, model_12_32, layers_output=i, xgb=True\n",
    "    )\n"
   ]
  },
  {
   "cell_type": "markdown",
   "metadata": {
    "id": "3yqIvN7RsLQp"
   },
   "source": [
    "Scores de référence des 4 modèles sur les données sans feature extraction"
   ]
  },
  {
   "cell_type": "code",
   "execution_count": null,
   "metadata": {
    "colab": {
     "base_uri": "https://localhost:8080/"
    },
    "id": "9E0_YujMsKQi",
    "lines_to_next_cell": 2,
    "outputId": "0f3baf2c-da79-46fe-8fe5-cd66230a37f3"
   },
   "outputs": [],
   "source": [
    "# en utilisant les ensembles d’entraînement et de test standardisés et réduits à 2 dimensions\n",
    "\n",
    "# decision tree\n",
    "from sklearn.tree import DecisionTreeClassifier\n",
    "\n",
    "clf = DecisionTreeClassifier()\n",
    "clf.fit(X_train, Y_train)\n",
    "print(\"score de classification avec Arbre de décision :\", clf.score(X_test, Y_test))\n",
    "\n",
    "# SVM\n",
    "from sklearn.svm import SVC\n",
    "\n",
    "clf = SVC()\n",
    "clf.fit(X_train, Y_train)\n",
    "print(\"score de classification avec SVM               :\", clf.score(X_test, Y_test))\n",
    "\n",
    "# Random Forest\n",
    "from sklearn import ensemble\n",
    "\n",
    "clf = ensemble.RandomForestClassifier(n_jobs=-1)\n",
    "clf.fit(X_train, Y_train)\n",
    "print(\"score de classification avec Random Forest     :\", clf.score(X_test, Y_test))\n",
    "\n",
    "# XGBoost\n",
    "import xgboost as xgb\n",
    "\n",
    "clf = xgb.XGBClassifier()\n",
    "\n",
    "from sklearn import preprocessing\n",
    "\n",
    "le = preprocessing.LabelEncoder()\n",
    "le.fit(Y_train)\n",
    "Y_train_enc = le.transform(Y_train)\n",
    "Y_test_enc = le.transform(Y_test)\n",
    "\n",
    "clf.fit(X_train, Y_train_enc)\n",
    "print(\"score de classification avec XGBoost           :\", clf.score(X_test, Y_test_enc))\n"
   ]
  },
  {
   "cell_type": "markdown",
   "metadata": {
    "id": "tTBQgKq59Vxa"
   },
   "source": [
    "##2. ResNet50"
   ]
  },
  {
   "cell_type": "code",
   "execution_count": null,
   "metadata": {
    "colab": {
     "base_uri": "https://localhost:8080/"
    },
    "id": "uaRyLotf9i4Y",
    "lines_to_next_cell": 2,
    "outputId": "87a6d930-ab4f-4af3-8560-638d90411511"
   },
   "outputs": [],
   "source": [
    "# création des datasets d’entraînement et de test à partir des fichiers jpg\n",
    "\n",
    "import tensorflow as tf\n",
    "import numpy as np\n",
    "\n",
    "import matplotlib.pyplot as plt\n",
    "import time\n",
    "\n",
    "# import cv2\n",
    "import seaborn as sns\n",
    "\n",
    "import pandas as pd\n",
    "from sklearn.model_selection import train_test_split\n",
    "\n",
    "from tensorflow.keras.layers import Dense, Dropout, Flatten, GlobalAveragePooling2D\n",
    "from tensorflow.keras.optimizers import Adam\n",
    "from tensorflow.keras.models import Model, Sequential\n",
    "from tensorflow.keras.preprocessing.image import ImageDataGenerator\n",
    "import tensorflow.keras as K\n",
    "\n",
    "from tensorflow.keras.applications.resnet50 import ResNet50\n",
    "from tensorflow.keras import callbacks\n",
    "\n",
    "from tensorflow.keras.applications.vgg16 import preprocess_input\n",
    "\n",
    "train_datagen = ImageDataGenerator(\n",
    "    preprocessing_function=preprocess_input,\n",
    "    shear_range=0.2,  # plage d'étirement\n",
    "    zoom_range=0.2,  # plage d'agrandissement\n",
    "    rotation_range=359,  # plage de rotation en degré\n",
    "    horizontal_flip=True,  # retournement horizontal aléatoire\n",
    "    vertical_flip=True,  # retournement vertical aléatoire\n",
    ")\n",
    "\n",
    "test_datagen = ImageDataGenerator(preprocessing_function=preprocess_input)\n",
    "\n",
    "train_generator = train_datagen.flow_from_directory(\n",
    "    directory=path_DS_train, class_mode=\"sparse\", target_size=(100, 100), batch_size=32\n",
    ")\n",
    "\n",
    "test_generator = test_datagen.flow_from_directory(\n",
    "    directory=path_DS_test, class_mode=\"sparse\", target_size=(100, 100), batch_size=32\n",
    ")\n"
   ]
  },
  {
   "cell_type": "code",
   "execution_count": null,
   "metadata": {
    "id": "Nx-kbOpizmAc",
    "lines_to_next_cell": 2
   },
   "outputs": [],
   "source": [
    "print(\"model2 : C2 143 - 224x224 - lr 1e-4\")\n",
    "\n",
    "inputs = K.Input(shape=(224, 224, 3))\n",
    "\n",
    "n_class = 9\n",
    "\n",
    "resnet2 = K.applications.ResNet50(\n",
    "    weights=\"imagenet\", include_top=False, input_tensor=inputs\n",
    ")\n",
    "\n",
    "for layer in resnet2.layers[:143]:\n",
    "    layer.trainable = False\n",
    "\n",
    "model2 = K.models.Sequential()\n",
    "model2.add(K.layers.Lambda(lambda x: tf.image.resize(x, (224, 224))))\n",
    "model2.add(resnet2)\n",
    "\n",
    "model2.add(Flatten())\n",
    "model2.add(Dense(512, activation=\"relu\"))\n",
    "model2.add(Dense(10, activation=\"softmax\"))\n",
    "\n",
    "ces = callbacks.EarlyStopping(\n",
    "    monitor=\"accuracy\", patience=4, mode=\"max\", restore_best_weights=True\n",
    ")\n",
    "crop = callbacks.ReduceLROnPlateau(\n",
    "    monitor=\"accuracy\", patience=2, verbose=2, mode=\"max\"\n",
    ")\n",
    "\n",
    "model2.compile(\n",
    "    loss=\"sparse_categorical_crossentropy\",\n",
    "    optimizer=K.optimizers.legacy.RMSprop(1e-4),\n",
    "    metrics=[\"accuracy\"],\n",
    ")\n",
    "\n",
    "history2 = model2.fit(\n",
    "    train_generator,\n",
    "    batch_size=32,\n",
    "    epochs=100,\n",
    "    verbose=1,\n",
    "    validation_data=test_generator,\n",
    "    shuffle=True,\n",
    "    callbacks=[ces, crop],\n",
    ")\n"
   ]
  },
  {
   "cell_type": "code",
   "execution_count": null,
   "metadata": {
    "id": "N97N7rN0zl9D",
    "lines_to_next_cell": 2
   },
   "outputs": [],
   "source": [
    "train_loss = history2.history[\"loss\"]\n",
    "val_loss = history2.history[\"val_loss\"]\n",
    "train_acc = history2.history[\"accuracy\"]\n",
    "val_acc = history2.history[\"val_accuracy\"]\n",
    "\n",
    "plt.figure(figsize=(20, 8))\n",
    "\n",
    "plt.subplot(121)\n",
    "plt.plot(train_loss)\n",
    "plt.plot(val_loss)\n",
    "plt.title(\"Model loss per epoch - Model2\")\n",
    "plt.ylabel(\"loss\")\n",
    "plt.xlabel(\"epoch\")\n",
    "plt.legend([\"train\", \"test\"], loc=\"right\")\n",
    "\n",
    "\n",
    "plt.subplot(122)\n",
    "plt.plot(train_acc)\n",
    "plt.plot(val_acc)\n",
    "plt.title(\"Model accuracy per epoch - Model2\")\n",
    "plt.ylabel(\"acc\")\n",
    "plt.xlabel(\"epoch\")\n",
    "plt.legend([\"train\", \"test\"], loc=\"right\")\n",
    "\n",
    "plt.show()\n"
   ]
  },
  {
   "cell_type": "code",
   "execution_count": null,
   "metadata": {
    "id": "sm2J1Tq3zl55",
    "lines_to_next_cell": 2
   },
   "outputs": [],
   "source": [
    "model2.summary()\n"
   ]
  },
  {
   "cell_type": "code",
   "execution_count": null,
   "metadata": {
    "id": "JAIXF_Szzl07"
   },
   "outputs": [],
   "source": [
    "# permet de charger un modèle et de sortir son évaluation\n",
    "model2 = tf.keras.models.load_model(\"/content/drive/MyDrive/BD/vf_model2\")\n",
    "model2.evaluate(test_generator)\n"
   ]
  },
  {
   "cell_type": "code",
   "execution_count": null,
   "metadata": {
    "id": "76c9841xzltL"
   },
   "outputs": [],
   "source": [
    "# on donne le chemin d'une image enregistrée sur pc\n",
    "# et il ressort la classe prédite avec la probabilité\n",
    "def test_from_local(chemin, model, test_generator):\n",
    "    from tensorflow.keras.preprocessing import image\n",
    "    import matplotlib.image as mpimg\n",
    "    import numpy as np\n",
    "\n",
    "    # met les images à la bonne dimension\n",
    "    img = image.load_img(chemin, target_size=(100, 100))\n",
    "    x = image.img_to_array(img)\n",
    "    x = np.expand_dims(x, axis=0)\n",
    "    x = preprocess_input(x)\n",
    "\n",
    "    # obtenir l'indice de la classe la plus probable\n",
    "    arg = int(tf.argmax(model.predict(x), axis=1).numpy())\n",
    "    # obtenir la liste des noms des classes\n",
    "    class_names = list(test_generator.class_indices.keys())\n",
    "    # valeur de la probabilité que l'image appartienne à la classe\n",
    "    proba = model.predict(x)[0][arg]\n",
    "\n",
    "    return print(\n",
    "        \"Cette image a\", proba * 100, \"% de chance d'être un\", class_names[arg]\n",
    "    )\n"
   ]
  },
  {
   "cell_type": "code",
   "execution_count": null,
   "metadata": {
    "id": "hiZJiXnZzlna"
   },
   "outputs": [],
   "source": [
    "# quelques tests de la fonction précédente (qui fonctionne bien)\n",
    "test_from_local(\n",
    "    \"/content/drive/MyDrive/BD/a_tester_eosinophil.jpg\", model2, test_generator\n",
    ")\n"
   ]
  },
  {
   "cell_type": "code",
   "execution_count": null,
   "metadata": {
    "id": "mTVGsiq9zlYp"
   },
   "outputs": [],
   "source": [
    "# on donne le chemin d'une image enregistrée sur pc\n",
    "# et il ressort la classe prédite avec la probabilité\n",
    "def test_from_url(image_url, model, test_generator):\n",
    "    from tensorflow.keras.preprocessing import image\n",
    "    import matplotlib.image as mpimg\n",
    "    import numpy as np\n",
    "    import urllib.request\n",
    "    import io\n",
    "\n",
    "    with urllib.request.urlopen(image_url) as url:\n",
    "        image_data = url.read()\n",
    "\n",
    "    img = image.load_img(io.BytesIO(image_data), target_size=(100, 100))\n",
    "    x = image.img_to_array(img)\n",
    "    x = np.expand_dims(x, axis=0)\n",
    "    x = preprocess_input(x)\n",
    "\n",
    "    arg = int(tf.argmax(model.predict(x), axis=1).numpy())\n",
    "\n",
    "    class_names = list(test_generator.class_indices.keys())\n",
    "    proba = model.predict(x)[0][arg]\n",
    "\n",
    "    return print(\n",
    "        \"Cette image a\", proba * 100, \"% de chance d'être un\", class_names[arg]\n",
    "    )\n"
   ]
  },
  {
   "cell_type": "code",
   "execution_count": null,
   "metadata": {
    "id": "o80oRy09z2RV",
    "lines_to_next_cell": 2
   },
   "outputs": [],
   "source": [
    "# quelques tests de la fonction précédente (qui fonctionne bien)\n",
    "test_from_url(\n",
    "    \"http://bioimage.free.fr/hem_image/hem_img/pb32l.jpg\", model2, test_generator\n",
    ")\n"
   ]
  },
  {
   "cell_type": "markdown",
   "metadata": {
    "id": "SNyQV1tT9jU9"
   },
   "source": [
    "##3. DenseNet121"
   ]
  },
  {
   "cell_type": "code",
   "execution_count": null,
   "metadata": {
    "id": "mqudUyMW9oxL",
    "lines_to_next_cell": 2
   },
   "outputs": [],
   "source": [
    "import numpy as np\n",
    "import pandas as pd\n",
    "import matplotlib.pyplot as plt\n",
    "from tensorflow.keras.layers import Input, Dense\n",
    "from tensorflow.keras.models import Model\n",
    "\n",
    "import tensorflow as tf\n"
   ]
  },
  {
   "cell_type": "code",
   "execution_count": null,
   "metadata": {
    "id": "oV54ArNrRnvr",
    "lines_to_next_cell": 2
   },
   "outputs": [],
   "source": [
    "# Rechargement des données sauvegardées\n",
    "\n",
    "X_dnet121 = X_reload\n",
    "Y_dnet121 = Y_reload\n"
   ]
  },
  {
   "cell_type": "code",
   "execution_count": null,
   "metadata": {
    "colab": {
     "base_uri": "https://localhost:8080/"
    },
    "id": "dFOhXM7zRq3K",
    "lines_to_next_cell": 2,
    "outputId": "cf0743b5-b134-4315-a188-123ea01c7366"
   },
   "outputs": [],
   "source": [
    "Y_dnet121\n"
   ]
  },
  {
   "cell_type": "code",
   "execution_count": null,
   "metadata": {
    "colab": {
     "base_uri": "https://localhost:8080/"
    },
    "id": "KBn--OTwfCK1",
    "outputId": "b261029f-d5c3-4c2c-d2e4-d4f272a00be6"
   },
   "outputs": [],
   "source": []
  },
  {
   "cell_type": "code",
   "execution_count": null,
   "metadata": {
    "id": "qvJI0Vb9RsdA"
   },
   "outputs": [],
   "source": [
    "# Fonction permettant de préparer les données pour être conforme à l'entrée du DenseNet121\n",
    "\n",
    "from sklearn.preprocessing import LabelEncoder\n",
    "import tensorflow as tf\n",
    "\n",
    "encoder = LabelEncoder()\n",
    "encoder.fit(Y_dnet121)\n",
    "saved_labels = encoder.inverse_transform([i for i in range(9)])\n",
    "\n",
    "\n",
    "def preprocess_data(X, Y):\n",
    "\n",
    "    X = np.float32(X)\n",
    "    Y = np.array(Y)\n",
    "    \"\"\"\n",
    "    function that pre-processes th dataset as per\n",
    "    densenet model requirements for input images\n",
    "    labels are one-hot encoded\n",
    "    \"\"\"\n",
    "    encoder = LabelEncoder()\n",
    "    X = tf.keras.applications.densenet.preprocess_input(X)\n",
    "    Y = encoder.fit_transform(Y)\n",
    "    Y = tf.keras.utils.to_categorical(Y, 9)\n",
    "    return X, Y\n"
   ]
  },
  {
   "cell_type": "code",
   "execution_count": null,
   "metadata": {
    "id": "r1vVuUwLRx8v",
    "lines_to_next_cell": 2
   },
   "outputs": [],
   "source": [
    "from sklearn.model_selection import train_test_split\n",
    "\n",
    "X_dnet121_train_base, X_dnet121_test_base, Y_dnet121_train_base, Y_dnet121_test_base = (\n",
    "    train_test_split(X_dnet121, Y_dnet121, test_size=0.2)\n",
    ")\n"
   ]
  },
  {
   "cell_type": "code",
   "execution_count": null,
   "metadata": {
    "colab": {
     "base_uri": "https://localhost:8080/"
    },
    "id": "akh5XRYXSDZO",
    "lines_to_next_cell": 2,
    "outputId": "ec515ca8-0e9b-4fa0-8f95-6f5954a36f2b"
   },
   "outputs": [],
   "source": [
    "# Preprocessing train data pour le densenet121\n",
    "\n",
    "X_dnet121_train, Y_dnet121_train = preprocess_data(\n",
    "    X_dnet121_train_base, Y_dnet121_train_base\n",
    ")\n"
   ]
  },
  {
   "cell_type": "code",
   "execution_count": null,
   "metadata": {
    "colab": {
     "base_uri": "https://localhost:8080/"
    },
    "id": "kZY_liLhSFmM",
    "lines_to_next_cell": 2,
    "outputId": "c31e84e2-fc6b-45d2-dd8b-9acd8447ff7b"
   },
   "outputs": [],
   "source": [
    "# Preprocessing test data pour le densenet121\n",
    "\n",
    "X_dnet121_test, Y_dnet121_test = preprocess_data(\n",
    "    X_dnet121_test_base, Y_dnet121_test_base\n",
    ")\n"
   ]
  },
  {
   "cell_type": "code",
   "execution_count": null,
   "metadata": {
    "colab": {
     "base_uri": "https://localhost:8080/"
    },
    "id": "I3hVf4nZSKqF",
    "lines_to_next_cell": 2,
    "outputId": "947dbfe9-a0e8-4127-fe1c-53edd5aa632a"
   },
   "outputs": [],
   "source": [
    "# Implémentation du DenseNet121 et gel des 150 premières couches\n",
    "\n",
    "base_densenet121 = tf.keras.applications.DenseNet121(\n",
    "    include_top=False, weights=\"imagenet\"\n",
    ")\n"
   ]
  },
  {
   "cell_type": "code",
   "execution_count": null,
   "metadata": {
    "id": "wihQmjToSMBV",
    "lines_to_next_cell": 2
   },
   "outputs": [],
   "source": [
    "# Gel des 150 premières couches\n",
    "\n",
    "for layer in base_densenet121.layers[:149]:\n",
    "    layer.trainable = False\n",
    "for layer in base_densenet121.layers[149:]:\n",
    "    layer.trainable = True\n"
   ]
  },
  {
   "cell_type": "code",
   "execution_count": null,
   "metadata": {
    "id": "e6YN2A9MSVb9",
    "lines_to_next_cell": 2
   },
   "outputs": [],
   "source": [
    "# Construction du modèle\n",
    "\n",
    "model_densenet121 = tf.keras.models.Sequential()\n"
   ]
  },
  {
   "cell_type": "code",
   "execution_count": null,
   "metadata": {
    "id": "S4tCCN5jSWaG",
    "lines_to_next_cell": 2
   },
   "outputs": [],
   "source": [
    "# Mise en forme des données pour le DenseNet121\n",
    "\n",
    "model_densenet121.add(\n",
    "    tf.keras.layers.Lambda(\n",
    "        lambda x: tf.keras.backend.resize_images(\n",
    "            x, height_factor=1, width_factor=1, data_format=\"channels_last\"\n",
    "        )\n",
    "    )\n",
    ")\n"
   ]
  },
  {
   "cell_type": "code",
   "execution_count": null,
   "metadata": {
    "id": "it66z3CISYIt",
    "lines_to_next_cell": 2
   },
   "outputs": [],
   "source": [
    "# Construction du modèle (classifier)\n",
    "\n",
    "kernel_init = \"normal\"\n",
    "\n",
    "model_densenet121.add(base_densenet121)\n",
    "model_densenet121.add(tf.keras.layers.Flatten())\n",
    "model_densenet121.add(tf.keras.layers.BatchNormalization())\n",
    "model_densenet121.add(\n",
    "    tf.keras.layers.Dense(512, activation=\"relu\", kernel_initializer=kernel_init)\n",
    ")\n",
    "model_densenet121.add(tf.keras.layers.Dropout(0.7))\n",
    "model_densenet121.add(tf.keras.layers.BatchNormalization())\n",
    "model_densenet121.add(\n",
    "    tf.keras.layers.Dense(128, activation=\"relu\", kernel_initializer=kernel_init)\n",
    ")\n",
    "model_densenet121.add(tf.keras.layers.Dropout(0.5))\n",
    "model_densenet121.add(tf.keras.layers.BatchNormalization())\n",
    "model_densenet121.add(\n",
    "    tf.keras.layers.Dense(64, activation=\"relu\", kernel_initializer=kernel_init)\n",
    ")\n",
    "model_densenet121.add(tf.keras.layers.Dropout(0.3))\n",
    "model_densenet121.add(\n",
    "    tf.keras.layers.Dense(9, activation=\"softmax\", kernel_initializer=kernel_init)\n",
    ")\n"
   ]
  },
  {
   "cell_type": "code",
   "execution_count": null,
   "metadata": {
    "id": "0PzfQ_aOSdPe",
    "lines_to_next_cell": 2
   },
   "outputs": [],
   "source": [
    "# Callbacks\n",
    "\n",
    "from tensorflow.keras import callbacks\n",
    "\n",
    "CB = []\n",
    "\n",
    "CB.append(\n",
    "    callbacks.ModelCheckpoint(\n",
    "        filepath=\"CB_best\", monitor=\"val_accuracy\", save_best_only=True\n",
    "    )\n",
    ")\n",
    "\n",
    "CB.append(callbacks.EarlyStopping(monitor=\"val_accuracy\", min_delta=0.01, patience=5))\n",
    "\n",
    "CB.append(\n",
    "    callbacks.ReduceLROnPlateau(\n",
    "        monitor=\"val_loss\",\n",
    "        factor=0.1,\n",
    "        patience=3,\n",
    "        min_delta=0.01,\n",
    "        cooldown=4,\n",
    "        verbose=1,\n",
    "    )\n",
    ")\n"
   ]
  },
  {
   "cell_type": "code",
   "execution_count": null,
   "metadata": {
    "id": "Qv6ys4ghSen9",
    "lines_to_next_cell": 2
   },
   "outputs": [],
   "source": [
    "# Compile\n",
    "\n",
    "optimizer = \"Adam\"\n",
    "\n",
    "model_densenet121.compile(\n",
    "    optimizer=optimizer, loss=\"categorical_crossentropy\", metrics=[\"accuracy\"]\n",
    ")\n"
   ]
  },
  {
   "cell_type": "code",
   "execution_count": null,
   "metadata": {
    "colab": {
     "base_uri": "https://localhost:8080/"
    },
    "id": "9phKwPbvSf4l",
    "lines_to_next_cell": 2,
    "outputId": "89acb4c7-f58e-4e9e-9f94-e7d651daba75"
   },
   "outputs": [],
   "source": [
    "# Train\n",
    "\n",
    "history_densenet121 = model_densenet121.fit(\n",
    "    x=X_dnet121_train,\n",
    "    y=Y_dnet121_train,\n",
    "    batch_size=32,\n",
    "    epochs=30,\n",
    "    callbacks=CB,\n",
    "    validation_data=(X_dnet121_test, Y_dnet121_test),\n",
    "    verbose=True,\n",
    ")\n"
   ]
  },
  {
   "cell_type": "code",
   "execution_count": null,
   "metadata": {
    "id": "h0Cbk8INSifF",
    "lines_to_next_cell": 2
   },
   "outputs": [],
   "source": [
    "# Enregistrement du modèle\n",
    "\n",
    "import pickle\n",
    "\n",
    "pickle_out = open(\"/content/drive/MyDrive/BD/model_densenet121.pckl\", \"wb\")\n",
    "pickle.dump(model_densenet121, pickle_out)\n",
    "pickle_out.close()\n"
   ]
  },
  {
   "cell_type": "code",
   "execution_count": null,
   "metadata": {
    "id": "bVmysuWgSklo",
    "lines_to_next_cell": 2
   },
   "outputs": [],
   "source": [
    "# Enregistrement de l'historique\n",
    "\n",
    "pickle_out = open(\"/content/drive/MyDrive/BD/history_densenet121.pckl\", \"wb\")\n",
    "pickle.dump(history_densenet121, pickle_out)\n",
    "pickle_out.close()\n"
   ]
  },
  {
   "cell_type": "code",
   "execution_count": null,
   "metadata": {
    "colab": {
     "base_uri": "https://localhost:8080/"
    },
    "id": "3hskaViHSqNP",
    "lines_to_next_cell": 2,
    "outputId": "ac89457d-ad09-4017-a4af-67f164315dc0"
   },
   "outputs": [],
   "source": [
    "model_densenet121.summary()\n"
   ]
  },
  {
   "cell_type": "code",
   "execution_count": null,
   "metadata": {
    "id": "DtbjrHWfSrd1",
    "lines_to_next_cell": 2
   },
   "outputs": [],
   "source": [
    "# Affichage de l'évolution de l'accuracy de la loss\n",
    "\n",
    "train_acc = history_densenet121.history[\"accuracy\"]\n",
    "\n",
    "val_acc = history_densenet121.history[\"val_accuracy\"]\n"
   ]
  },
  {
   "cell_type": "code",
   "execution_count": null,
   "metadata": {
    "colab": {
     "base_uri": "https://localhost:8080/",
     "height": 452
    },
    "id": "UP5vaZzpSvLr",
    "lines_to_next_cell": 2,
    "outputId": "b19e35fc-dc7b-42c6-8799-d60ab5e74f70"
   },
   "outputs": [],
   "source": [
    "plt.plot(train_acc, label=\"train accuracy\")\n",
    "plt.plot(val_acc, label=\"test accuracy\")\n",
    "plt.title(\"DenseNet121 : Accuracy\")\n",
    "plt.legend(loc=\"lower right\")\n",
    "plt.grid(True)\n",
    "plt.show()\n"
   ]
  },
  {
   "cell_type": "code",
   "execution_count": null,
   "metadata": {
    "id": "v2lmTT4sSySR",
    "lines_to_next_cell": 2
   },
   "outputs": [],
   "source": [
    "train_loss = history_densenet121.history[\"loss\"]\n",
    "\n",
    "val_loss = history_densenet121.history[\"val_loss\"]\n"
   ]
  },
  {
   "cell_type": "code",
   "execution_count": null,
   "metadata": {
    "colab": {
     "base_uri": "https://localhost:8080/",
     "height": 452
    },
    "id": "pMbojWMQSzem",
    "lines_to_next_cell": 2,
    "outputId": "27f68196-6479-4863-995c-bc1c19590c40"
   },
   "outputs": [],
   "source": [
    "plt.plot(train_loss, label=\"train loss\")\n",
    "plt.plot(val_loss, label=\"test loss\")\n",
    "plt.title(\"DenseNet121 : Loss\")\n",
    "plt.legend(loc=\"upper right\")\n",
    "plt.grid(True)\n",
    "plt.show()\n"
   ]
  },
  {
   "cell_type": "code",
   "execution_count": null,
   "metadata": {
    "colab": {
     "base_uri": "https://localhost:8080/"
    },
    "id": "DQUKB0gqS0yz",
    "lines_to_next_cell": 2,
    "outputId": "2bfa68c3-7950-4273-d52a-f33e34375285"
   },
   "outputs": [],
   "source": [
    "# Prédictions du modèle\n",
    "\n",
    "probs_pred_densenet121 = model_densenet121.predict(X_dnet121_test)\n"
   ]
  },
  {
   "cell_type": "code",
   "execution_count": null,
   "metadata": {
    "id": "Drs-yP_IS3RO",
    "lines_to_next_cell": 2
   },
   "outputs": [],
   "source": [
    "Y_pred_densenet121 = np.argmax(probs_pred_densenet121, axis=1)\n"
   ]
  },
  {
   "cell_type": "code",
   "execution_count": null,
   "metadata": {
    "id": "ubfeaywBS4Vu",
    "lines_to_next_cell": 2
   },
   "outputs": [],
   "source": [
    "Y_test_densenet121_sparse = np.argmax(Y_dnet121_test, axis=1)\n"
   ]
  },
  {
   "cell_type": "code",
   "execution_count": null,
   "metadata": {
    "colab": {
     "base_uri": "https://localhost:8080/"
    },
    "id": "EvyEqp3nS5Ts",
    "lines_to_next_cell": 2,
    "outputId": "842f2e1f-f3eb-4b93-bb75-8bdade758ed1"
   },
   "outputs": [],
   "source": [
    "from sklearn.metrics import confusion_matrix\n",
    "\n",
    "conf_matrix_densenet121 = confusion_matrix(\n",
    "    Y_test_densenet121_sparse, Y_pred_densenet121\n",
    ")\n",
    "\n",
    "print(conf_matrix_densenet121)\n"
   ]
  },
  {
   "cell_type": "code",
   "execution_count": null,
   "metadata": {
    "colab": {
     "base_uri": "https://localhost:8080/"
    },
    "id": "iZYdwSOfS-td",
    "lines_to_next_cell": 2,
    "outputId": "b359e77a-557a-4fb2-9343-e075f49843f7"
   },
   "outputs": [],
   "source": [
    "from sklearn.metrics import classification_report\n",
    "\n",
    "class_report_densenet121 = classification_report(\n",
    "    Y_test_densenet121_sparse, Y_pred_densenet121\n",
    ")\n",
    "\n",
    "print(class_report_densenet121)\n"
   ]
  },
  {
   "cell_type": "code",
   "execution_count": null,
   "metadata": {
    "id": "sayDnb0BTAyk",
    "lines_to_next_cell": 2
   },
   "outputs": [],
   "source": [
    "# Implémentation du DenseNet121 sans geler aucun calque\n",
    "\n",
    "base_densenet121_nf = tf.keras.applications.DenseNet121(\n",
    "    include_top=False, weights=\"imagenet\"\n",
    ")\n"
   ]
  },
  {
   "cell_type": "code",
   "execution_count": null,
   "metadata": {
    "id": "DQKa0OxSTCLM",
    "lines_to_next_cell": 2
   },
   "outputs": [],
   "source": [
    "model_densenet121_nf = tf.keras.models.Sequential()\n"
   ]
  },
  {
   "cell_type": "code",
   "execution_count": null,
   "metadata": {
    "id": "hycFvrtDTDNM",
    "lines_to_next_cell": 2
   },
   "outputs": [],
   "source": [
    "model_densenet121_nf.add(\n",
    "    tf.keras.layers.Lambda(\n",
    "        lambda x: tf.keras.backend.resize_images(\n",
    "            x, height_factor=1, width_factor=1, data_format=\"channels_last\"\n",
    "        )\n",
    "    )\n",
    ")\n"
   ]
  },
  {
   "cell_type": "code",
   "execution_count": null,
   "metadata": {
    "id": "9id8c6RKTEkU",
    "lines_to_next_cell": 2
   },
   "outputs": [],
   "source": [
    "# Construction du modèle (même classifier)\n",
    "\n",
    "kernel_init = \"normal\"\n",
    "\n",
    "model_densenet121_nf.add(base_densenet121_nf)\n",
    "model_densenet121_nf.add(tf.keras.layers.Flatten())\n",
    "model_densenet121_nf.add(tf.keras.layers.BatchNormalization())\n",
    "model_densenet121_nf.add(\n",
    "    tf.keras.layers.Dense(512, activation=\"relu\", kernel_initializer=kernel_init)\n",
    ")\n",
    "model_densenet121_nf.add(tf.keras.layers.Dropout(0.7))\n",
    "model_densenet121_nf.add(tf.keras.layers.BatchNormalization())\n",
    "model_densenet121_nf.add(\n",
    "    tf.keras.layers.Dense(128, activation=\"relu\", kernel_initializer=kernel_init)\n",
    ")\n",
    "model_densenet121_nf.add(tf.keras.layers.Dropout(0.5))\n",
    "model_densenet121_nf.add(tf.keras.layers.BatchNormalization())\n",
    "model_densenet121_nf.add(\n",
    "    tf.keras.layers.Dense(64, activation=\"relu\", kernel_initializer=kernel_init)\n",
    ")\n",
    "model_densenet121_nf.add(tf.keras.layers.Dropout(0.3))\n",
    "model_densenet121_nf.add(\n",
    "    tf.keras.layers.Dense(9, activation=\"softmax\", kernel_initializer=kernel_init)\n",
    ")\n"
   ]
  },
  {
   "cell_type": "code",
   "execution_count": null,
   "metadata": {
    "id": "lNjfv5pBTGmN",
    "lines_to_next_cell": 2
   },
   "outputs": [],
   "source": [
    "# Compile\n",
    "\n",
    "optimizer = \"Adam\"\n",
    "\n",
    "model_densenet121_nf.compile(\n",
    "    optimizer=optimizer, loss=\"categorical_crossentropy\", metrics=[\"accuracy\"]\n",
    ")\n"
   ]
  },
  {
   "cell_type": "code",
   "execution_count": null,
   "metadata": {
    "colab": {
     "base_uri": "https://localhost:8080/"
    },
    "id": "jomeYAzATIHk",
    "lines_to_next_cell": 2,
    "outputId": "0f61b76f-a069-4f15-edae-fe924c94ff18"
   },
   "outputs": [],
   "source": [
    "# Train\n",
    "\n",
    "history_densenet121_nf = model_densenet121_nf.fit(\n",
    "    x=X_dnet121_train,\n",
    "    y=Y_dnet121_train,\n",
    "    batch_size=32,\n",
    "    epochs=30,\n",
    "    callbacks=CB,\n",
    "    validation_data=(X_dnet121_test, Y_dnet121_test),\n",
    "    verbose=True,\n",
    ")\n"
   ]
  },
  {
   "cell_type": "code",
   "execution_count": null,
   "metadata": {
    "id": "022sFPnUTLJW",
    "lines_to_next_cell": 2
   },
   "outputs": [],
   "source": [
    "# Enregistrement du modèle et de l'historique\n",
    "\n",
    "import pickle\n",
    "\n",
    "pickle_out = open(\"/content/drive/MyDrive/BD/model_densenet121_nf.pckl\", \"wb\")\n",
    "pickle.dump(model_densenet121_nf, pickle_out)\n",
    "pickle_out.close()\n"
   ]
  },
  {
   "cell_type": "markdown",
   "metadata": {
    "id": "jsiO64OSodCV"
   },
   "source": []
  },
  {
   "cell_type": "code",
   "execution_count": null,
   "metadata": {
    "id": "PZVf6Kx8TNN8",
    "lines_to_next_cell": 2
   },
   "outputs": [],
   "source": [
    "pickle_in = open(\"/content/drive/MyDrive/BD/model_densenet121_nf.pckl\", \"rb\")\n",
    "model_densenet121_nf = pickle.load(pickle_in)\n"
   ]
  },
  {
   "cell_type": "code",
   "execution_count": null,
   "metadata": {
    "id": "H1-7B_M3TOU9",
    "lines_to_next_cell": 2
   },
   "outputs": [],
   "source": [
    "pickle_out = open(\"/content/drive/MyDrive/BD/history_densenet121_nf.pckl\", \"wb\")\n",
    "pickle.dump(history_densenet121_nf, pickle_out)\n",
    "pickle_out.close()\n"
   ]
  },
  {
   "cell_type": "code",
   "execution_count": null,
   "metadata": {
    "colab": {
     "base_uri": "https://localhost:8080/"
    },
    "id": "kRvKvJzJTPc1",
    "lines_to_next_cell": 2,
    "outputId": "27f3f72d-4f43-4f0d-89bc-8f5043a8f11f"
   },
   "outputs": [],
   "source": [
    "model_densenet121_nf.summary()\n"
   ]
  },
  {
   "cell_type": "code",
   "execution_count": null,
   "metadata": {
    "id": "nx6ZJRc6TQrk",
    "lines_to_next_cell": 2
   },
   "outputs": [],
   "source": [
    "# Courbes accuracy et loss\n",
    "\n",
    "train_acc_nf = history_densenet121_nf.history[\"accuracy\"]\n",
    "\n",
    "val_acc_nf = history_densenet121_nf.history[\"val_accuracy\"]\n"
   ]
  },
  {
   "cell_type": "code",
   "execution_count": null,
   "metadata": {
    "colab": {
     "base_uri": "https://localhost:8080/",
     "height": 452
    },
    "id": "AKtBXL-cTROc",
    "lines_to_next_cell": 2,
    "outputId": "5980158a-6bda-44cd-d59a-9366e09a5dda"
   },
   "outputs": [],
   "source": [
    "plt.plot(train_acc_nf, label=\"train accuracy\")\n",
    "plt.plot(val_acc_nf, label=\"test accuracy\")\n",
    "plt.title(\"DenseNet121 : Accuracy\")\n",
    "plt.legend(loc=\"lower right\")\n",
    "plt.grid(True)\n",
    "plt.show()\n"
   ]
  },
  {
   "cell_type": "code",
   "execution_count": null,
   "metadata": {
    "id": "kZd5Hc2WTSft",
    "lines_to_next_cell": 2
   },
   "outputs": [],
   "source": [
    "train_loss_nf = history_densenet121_nf.history[\"loss\"]\n",
    "\n",
    "val_loss_nf = history_densenet121_nf.history[\"val_loss\"]\n"
   ]
  },
  {
   "cell_type": "code",
   "execution_count": null,
   "metadata": {
    "colab": {
     "base_uri": "https://localhost:8080/",
     "height": 452
    },
    "id": "XXRMGJW_TTrd",
    "lines_to_next_cell": 2,
    "outputId": "d0cf036e-68d0-4dac-c9e7-a486ecebddca"
   },
   "outputs": [],
   "source": [
    "plt.plot(train_loss_nf, label=\"train loss\")\n",
    "plt.plot(val_loss_nf, label=\"test loss\")\n",
    "plt.title(\"DenseNet121 : Loss\")\n",
    "plt.legend(loc=\"upper right\")\n",
    "plt.grid(True)\n",
    "plt.show()\n"
   ]
  },
  {
   "cell_type": "code",
   "execution_count": null,
   "metadata": {
    "colab": {
     "base_uri": "https://localhost:8080/"
    },
    "id": "0AtuSTMUTVL9",
    "lines_to_next_cell": 2,
    "outputId": "2c8cd655-e02a-4f6b-a549-db0e5097f577"
   },
   "outputs": [],
   "source": [
    "# Prédictions du modèle\n",
    "\n",
    "probs_pred_densenet121_nf = model_densenet121_nf.predict(X_dnet121_test)\n"
   ]
  },
  {
   "cell_type": "code",
   "execution_count": null,
   "metadata": {
    "id": "2iP-PLlxTWrN",
    "lines_to_next_cell": 2
   },
   "outputs": [],
   "source": [
    "Y_pred_densenet121_nf = np.argmax(probs_pred_densenet121_nf, axis=1)\n"
   ]
  },
  {
   "cell_type": "code",
   "execution_count": null,
   "metadata": {
    "id": "Qy3TZd8UTYIs",
    "lines_to_next_cell": 2
   },
   "outputs": [],
   "source": [
    "Y_test_densenet121_sparse = np.argmax(Y_dnet121_test, axis=1)\n"
   ]
  },
  {
   "cell_type": "code",
   "execution_count": null,
   "metadata": {
    "colab": {
     "base_uri": "https://localhost:8080/"
    },
    "id": "h8_XoEICWC8P",
    "lines_to_next_cell": 2,
    "outputId": "5a7cf807-c7bf-4630-a7f1-d76d59f44e19"
   },
   "outputs": [],
   "source": [
    "# Matrice de confusion et rapports de classification\n",
    "\n",
    "from sklearn.metrics import confusion_matrix\n",
    "\n",
    "conf_matrix_densenet121_nf = confusion_matrix(\n",
    "    Y_test_densenet121_sparse, Y_pred_densenet121_nf\n",
    ")\n",
    "\n",
    "print(conf_matrix_densenet121_nf)\n"
   ]
  },
  {
   "cell_type": "code",
   "execution_count": null,
   "metadata": {
    "colab": {
     "base_uri": "https://localhost:8080/"
    },
    "id": "KdCOw6pXWEU0",
    "lines_to_next_cell": 2,
    "outputId": "fa7163f0-249a-40d6-9085-30e6b0b7c503"
   },
   "outputs": [],
   "source": [
    "from sklearn.metrics import classification_report\n",
    "\n",
    "class_report_densenet121_nf = classification_report(\n",
    "    Y_test_densenet121_sparse, Y_pred_densenet121_nf\n",
    ")\n",
    "\n",
    "print(class_report_densenet121_nf)\n"
   ]
  },
  {
   "cell_type": "code",
   "execution_count": null,
   "metadata": {
    "colab": {
     "base_uri": "https://localhost:8080/"
    },
    "id": "IeBRK6m1WF14",
    "lines_to_next_cell": 2,
    "outputId": "2f2cd707-8011-4449-a925-7574c6b19478"
   },
   "outputs": [],
   "source": [
    "from imblearn.metrics import classification_report_imbalanced\n",
    "\n",
    "print(\n",
    "    classification_report_imbalanced(Y_test_densenet121_sparse, Y_pred_densenet121_nf)\n",
    ")\n"
   ]
  },
  {
   "cell_type": "code",
   "execution_count": null,
   "metadata": {
    "colab": {
     "base_uri": "https://localhost:8080/",
     "height": 449
    },
    "id": "FcHGb-WqWHIb",
    "lines_to_next_cell": 2,
    "outputId": "91145d70-4c38-48fe-bfff-2a22365a900f"
   },
   "outputs": [],
   "source": [
    "# Génération et classification d'images du test set\n",
    "\n",
    "\n",
    "plt.figure(figsize=(10, 6))\n",
    "\n",
    "for i in range(8):\n",
    "\n",
    "    k = random.randint(0, len(X_dnet121_test_base))\n",
    "    plt.subplot(2, 4, i + 1)\n",
    "    plt.imshow(X_dnet121_test_base[k])\n",
    "    plt.axis(False)\n",
    "    plt.title(\n",
    "        saved_labels[Y_test_densenet121_sparse[k]]\n",
    "        + \"\\npredicted as\\n\"\n",
    "        + saved_labels[Y_pred_densenet121_nf[k]]\n",
    "    )\n",
    "plt.show()\n"
   ]
  },
  {
   "cell_type": "markdown",
   "metadata": {
    "id": "nH8jekp8-E3B",
    "jp-MarkdownHeadingCollapsed": true
   },
   "source": [
    "# Conclusion"
   ]
  },
  {
   "cell_type": "markdown",
   "metadata": {
    "id": "E7zo1o38PyLR"
   },
   "source": [
    "La segmentation n’a pas permis d'améliorer les scores de classification mais les scores de précision obtenus avec différents modèles de machine learning (avec et sans oversampling) et de deep learning (avec et sans data generation) sur les cellules saines sont très satisfaisants :\n",
    "*   Machine Learning : 91% avec le classifier XGBoost\n",
    "*   Deep Learning : 95 à 98% avec les CNN VGG16, ResNet50 et DenseNet121\n",
    "*   Feature Extraction : 98 à 99% avec VGG16 puis XGBoost\n",
    "\n",
    "Différentes pistes d’amélioration des scores des modèles testées pourraient être testées :\n",
    "*   Machine Learning : le score obtenu par classifier XGBoost pourrait être amélioré par l’entraînement sur les données rééchantillonnées par Over Sampling.\n",
    "*   Transfer Learning : les scores obtenus par les réseaux neuronaux convolutifs profonds tels que ResNet50 et DenseNet121 pourraient être optimisés par la génération d’images ainsi que la classification par un modèle de machine learning après l’extraction des features.\n",
    "*   Feature Extraction : les scores obtenus après entraînement de classifiers sur les features extraites en sortie des couches intermédiaires du VGG16 pourraient être optimisés par un réglage des hyperparamètres des modèles de machine learning utilisés.\n",
    "\n",
    "Pour atteindre l’objectif final du diagnostic certaines pathologies par identification des cellules sanguines anormales, il conviendrait d’entraîner ces modèles sur les jeux de données incluant des cellules anormales et distinguer ainsi les cellules pathologiques après avoir identifié leur type."
   ]
  }
 ],
 "metadata": {
  "accelerator": "GPU",
  "colab": {
   "gpuType": "T4",
   "machine_shape": "hm",
   "provenance": [],
   "toc_visible": true
  },
  "jupytext": {
   "formats": "ipynb,py:percent"
  },
  "kernelspec": {
   "display_name": "venv",
   "language": "python",
   "name": "python3"
  },
  "language_info": {
   "codemirror_mode": {
    "name": "ipython",
    "version": 3
   },
   "file_extension": ".py",
   "mimetype": "text/x-python",
   "name": "python",
   "nbconvert_exporter": "python",
   "pygments_lexer": "ipython3",
   "version": "3.12.11"
  }
 },
 "nbformat": 4,
 "nbformat_minor": 4
}
